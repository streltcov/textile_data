{
 "cells": [
  {
   "cell_type": "code",
   "execution_count": 1,
   "metadata": {
    "pycharm": {
     "is_executing": false
    }
   },
   "outputs": [],
   "source": [
    "import pandas\n",
    "import pylab\n",
    "import numpy\n",
    "from sklearn.cluster import DBSCAN, KMeans\n",
    "from sklearn.preprocessing import StandardScaler, normalize\n",
    "# import scipy\n",
    "# import scipy.stats as stats\n",
    "import seaborn\n",
    "\n",
    "import matplotlib.pyplot as pyplot\n",
    "import pylab\n",
    "%matplotlib inline\n",
    "\n",
    "from sklearn.datasets import load_iris"
   ]
  },
  {
   "cell_type": "markdown",
   "metadata": {},
   "source": [
    "## Задачи исследования\n",
    "1. Отличаются ли пелены от бинтов по параметрам?\n",
    "2. Отличаются ли узкие, средние и широкие бинты друг от друга по параметрам?\n",
    "3. Каков процент рогожки?\n",
    "4. Какие группы тканей по качеству получаются?\n",
    "5. Различаются ли нити основы и нити утка?\n",
    "6. Какое количество (процент) тканей высокого качества имеют сбалансированное переплетение?\n",
    "7. Какое количество (процент) тканей среднего качества имеет сбалансированное переплетение?\n",
    "8. Какое количество (процент) тканей ниского качества имеет сбалансированное переплетение?\n",
    "9. Каково соотношение сбалансированных тканей и тканей с преобладанием нитей основы?\n",
    "10. Высчитать \"коэффициент заполняемости\" тканей\n",
    "11. Разделить ткани по сбалансированности (сбалансированные - ±3 нити; ткани с преобладанием нитей основы); рассчитать процент каждой группы"
   ]
  },
  {
   "cell_type": "markdown",
   "metadata": {},
   "source": [
    "### Список переменных\n",
    "1. textiles - полный датафрейм, очищенный только от пропусков\n",
    "2. textiles_cleared_thick - датафрейм, очищенный от выбросов по толщинам нитей\n",
    "3. textiles_cleared_dens - датафрейм, очищенный от выбросов по плотностям тканей\n",
    "4. textiles_cleared - датафрейм, очищенный от выбросов по плотностям тканей и толщинам нитей\n",
    "5. outliers_thick - датафрейм выбросов по толщинам нитей\n",
    "6. outliers_dens - датафрейм выбросов по плотности ткани\n",
    "7. narrow_bands - \n",
    "8. middle_bands - \n",
    "9. wide_bands - "
   ]
  },
  {
   "cell_type": "code",
   "execution_count": 2,
   "metadata": {
    "collapsed": false,
    "jupyter": {
     "outputs_hidden": false
    },
    "pycharm": {
     "is_executing": false,
     "name": "#%%\n"
    }
   },
   "outputs": [],
   "source": [
    "def convert_to_float(value):\n",
    "    \"\"\"\n",
    "    Преобразование значений в столбцах датафрейма;\n",
    "    :param value: float\n",
    "    :return: float\n",
    "    \"\"\"\n",
    "    value = str(value)\n",
    "    value = value.replace(\",\", \".\")\n",
    "    value = round(float(value), 2)\n",
    "    return value\n",
    "\n",
    "#######################################################################################################################\n",
    "\n",
    "# seaborn.set()\n",
    "# seaborn.set_context(\"paper\")\n"
   ]
  },
  {
   "cell_type": "markdown",
   "metadata": {
    "pycharm": {
     "name": "#%% md\n"
    }
   },
   "source": [
    "### Загрузка и предобработка данных"
   ]
  },
  {
   "cell_type": "code",
   "execution_count": 51,
   "metadata": {
    "collapsed": false,
    "jupyter": {
     "outputs_hidden": false
    },
    "pycharm": {
     "is_executing": false,
     "name": "#%%\n"
    }
   },
   "outputs": [
    {
     "name": "stdout",
     "output_type": "stream",
     "text": [
      "\n",
      "\n",
      "Общее количество записей - 303\n",
      "\n",
      "\n"
     ]
    },
    {
     "data": {
      "image/png": "[encoded data removed]",
      "text/plain": [
       "<Figure size 576x576 with 1 Axes>"
      ]
     },
     "metadata": {
      "needs_background": "light"
     },
     "output_type": "display_data"
    },
    {
     "name": "stdout",
     "output_type": "stream",
     "text": [
      "\n",
      "\n",
      "\n"
     ]
    },
    {
     "data": {
      "image/png": "[encoded data removed]",
      "text/plain": [
       "<Figure size 576x576 with 1 Axes>"
      ]
     },
     "metadata": {
      "needs_background": "light"
     },
     "output_type": "display_data"
    }
   ],
   "source": [
    "# Загрузка датафрейма из CSV файла;\n",
    "textiles = pandas.read_csv('dataframe.csv')\n",
    "\n",
    "len_textiles_base = len(textiles)\n",
    "textiles = textiles.dropna(subset=['warp_dens', 'weft_dens'])\n",
    "len_textiles = len(textiles)\n",
    "\n",
    "########################################################################################################################\n",
    "\n",
    "# Приведение типов колонок датафрейма к значению с плавающей запятой;\n",
    "textiles['warp_a'] = textiles.warp_a.apply(convert_to_float)\n",
    "textiles['warp_b'] = textiles.warp_b.apply(convert_to_float)\n",
    "textiles['weft_a'] = textiles.weft_a.apply(convert_to_float)\n",
    "textiles['weft_b'] = textiles.weft_b.apply(convert_to_float)\n",
    "\n",
    "########################################################################################################################\n",
    "\n",
    "# Вычисление \"усредненных\" толщин нитей;\n",
    "textiles['warp_nominal'] = round((textiles['warp_a'] + textiles['warp_b']) / 2, 2)\n",
    "textiles['weft_nominal'] = round((textiles['weft_a'] + textiles['weft_b']) / 2, 2)\n",
    "\n",
    "########################################################################################################################\n",
    "\n",
    "# Соотношение плотностей по основе и утку;\n",
    "textiles['warp_weft'] = round((textiles['warp_dens'] / textiles['weft_dens']), 2)\n",
    "\n",
    "########################################################################################################################\n",
    "\n",
    "# Добавление признака density_coefficient;\n",
    "textiles['density_coefficient'] = round((textiles['warp_dens'] / textiles['weft_dens']), 2)\n",
    "\n",
    "########################################################################################################################\n",
    "\n",
    "print()\n",
    "# print(textiles.head())\n",
    "print()\n",
    "print(\"Общее количество записей - \" + str(len_textiles), end=\"\\n\\n\\n\")\n",
    "\n",
    "########################################################################################################################\n",
    "\n",
    "ax, axes = pyplot.subplots(figsize=[8, 8])\n",
    "pyplot.scatter(textiles['warp_dens'].tolist(), textiles['weft_dens'].tolist())\n",
    "pyplot.title('Плотности по основе и утку - scatter plot')\n",
    "pyplot.show()\n",
    "\n",
    "print(\"\\n\\n\")\n",
    "\n",
    "########################################################################################################################\n",
    "\n",
    "ax, axes = pyplot.subplots(figsize=[8, 8])\n",
    "pyplot.scatter(textiles['warp_nominal'].tolist(), textiles['weft_nominal'].tolist())\n",
    "pyplot.title('Плотности по основе и утку - scatter plot')\n",
    "pyplot.show()\n",
    "\n",
    "########################################################################################################################"
   ]
  },
  {
   "cell_type": "markdown",
   "metadata": {
    "pycharm": {
     "name": "#%% md\n"
    }
   },
   "source": [
    "### Вычисление квартилей"
   ]
  },
  {
   "cell_type": "code",
   "execution_count": 4,
   "metadata": {
    "collapsed": false,
    "jupyter": {
     "outputs_hidden": false
    },
    "pycharm": {
     "is_executing": false,
     "name": "#%%\n"
    }
   },
   "outputs": [
    {
     "name": "stdout",
     "output_type": "stream",
     "text": [
      "\n",
      "\n",
      "Квартили толщины по основе - 0.4 0.45 0.5\n",
      "Квартили толщины по утку - 0.4 0.5 0.6\n",
      "Квартили плотности по основе - 14.0 20.0 28.0\n",
      "Квартили плотности по утку - 8.0 10.0 12.0\n"
     ]
    }
   ],
   "source": [
    "# квартили толщин нитей по основе;\n",
    "quartile_thick_warp_1, quartile_thick_warp_2, quartile_thick_warp_3 = textiles['warp_nominal'].quantile([0.25, 0.5, 0.75])\n",
    "quartile_thick_warp_1 = round(quartile_thick_warp_1, 2)\n",
    "quartile_thick_warp_2 = round(quartile_thick_warp_2, 2)\n",
    "quartile_thick_warp_3 = round(quartile_thick_warp_3, 2)\n",
    "\n",
    "########################################################################################################################\n",
    "\n",
    "# квартили толщин нитей по утку;\n",
    "quartile_thick_weft_1, quartile_thick_weft_2, quartile_thick_weft_3 = textiles['weft_nominal'].quantile([0.25, 0.5, 0.75])\n",
    "quartile_thick_weft_1 = round(quartile_thick_weft_1, 2)\n",
    "quartile_thick_weft_2 = round(quartile_thick_weft_2, 2)\n",
    "quartile_thick_weft_3 = round(quartile_thick_weft_3, 2)\n",
    "\n",
    "########################################################################################################################\n",
    "\n",
    "# квартили плотности по основе;\n",
    "quartile_dens_warp_1, quartile_dens_warp_2, quartile_dens_warp_3 = textiles['warp_dens'].quantile([0.25, 0.5, 0.75])\n",
    "quartile_dens_warp_1 = round(quartile_dens_warp_1, 2)\n",
    "quartile_dens_warp_2 = round(quartile_dens_warp_2, 2)\n",
    "quartile_dens_warp_3 = round(quartile_dens_warp_3, 2)\n",
    "\n",
    "########################################################################################################################\n",
    "\n",
    "# квартили плотности по утку;\n",
    "quartile_dens_weft_1, quartile_dens_weft_2, quartile_dens_weft_3 = textiles['weft_dens'].quantile([0.25, 0.5, 0.75])\n",
    "quartile_dens_weft_1 = round(quartile_dens_weft_1, 2)\n",
    "quartile_dens_weft_2 = round(quartile_dens_weft_2, 2)\n",
    "quartile_dens_weft_3 = round(quartile_dens_weft_3, 2)\n",
    "\n",
    "########################################################################################################################\n",
    "\n",
    "print()\n",
    "print()\n",
    "print(\"Квартили толщины по основе - \" + \n",
    "      str(quartile_thick_warp_1) + ' ' + str(quartile_thick_warp_2) + ' ' + str(quartile_thick_warp_3))\n",
    "print(\"Квартили толщины по утку - \" + \n",
    "      str(quartile_thick_weft_1) + ' ' + str(quartile_thick_weft_2) + ' ' + str(quartile_thick_weft_3))\n",
    "print(\"Квартили плотности по основе - \" + \n",
    "      str(quartile_dens_warp_1) + ' ' + str(quartile_dens_warp_2) + ' ' + str(quartile_dens_warp_3))\n",
    "print(\"Квартили плотности по утку - \" + \n",
    "      str(quartile_dens_weft_1) + ' ' + str(quartile_dens_weft_2) + ' ' + str(quartile_dens_weft_3))\n"
   ]
  },
  {
   "cell_type": "markdown",
   "metadata": {
    "pycharm": {
     "name": "#%% md\n"
    }
   },
   "source": [
    "### Описание полного набора данных"
   ]
  },
  {
   "cell_type": "code",
   "execution_count": 5,
   "metadata": {
    "collapsed": false,
    "jupyter": {
     "outputs_hidden": false
    },
    "pycharm": {
     "is_executing": false,
     "name": "#%%\n"
    }
   },
   "outputs": [
    {
     "name": "stdout",
     "output_type": "stream",
     "text": [
      "\n",
      "Толщина по основе - среднее значение - 0.471\n",
      "Толщина по основе - медиана - 0.45\n",
      "Толщина по утку - среднее значение - 0.53\n",
      "Толщина по утку - медиана - 0.5\n",
      "\n",
      "Плотность по основе - среднее значение - 21.231\n",
      "Плотность по основе - медиана - 20.0\n",
      "Плотность по утку - среднее значение - 9.851\n",
      "Плотность по утку - медиана - 10.0\n"
     ]
    }
   ],
   "source": [
    "textiles_warp_thick_mean = round(textiles['warp_nominal'].mean(), 3)\n",
    "textiles_warp_thick_median = round(textiles['warp_nominal'].median(), 3)\n",
    "textiles_weft_thick_mean = round(textiles['weft_nominal'].mean(), 3)\n",
    "textiles_weft_thick_median = round(textiles['weft_nominal'].median(), 3)\n",
    "\n",
    "########################################################################################################################\n",
    "\n",
    "print()\n",
    "print(\"Толщина по основе - среднее значение - \" + str(textiles_warp_thick_mean))\n",
    "print(\"Толщина по основе - медиана - \" + str(textiles_warp_thick_median))\n",
    "print(\"Толщина по утку - среднее значение - \" + str(textiles_weft_thick_mean))\n",
    "print(\"Толщина по утку - медиана - \" + str(textiles_weft_thick_median))\n",
    "\n",
    "########################################################################################################################\n",
    "\n",
    "textiles_warp_dens_mean = round(textiles['warp_dens'].mean(), 3)\n",
    "textiles_warp_dens_median = round(textiles['warp_dens'].median(), 3)\n",
    "textiles_weft_dens_mean = round(textiles['weft_dens'].mean(), 3)\n",
    "textiles_weft_dens_median = round(textiles['weft_dens'].median(), 3)\n",
    "\n",
    "########################################################################################################################\n",
    "\n",
    "print()\n",
    "print(\"Плотность по основе - среднее значение - \" + str(textiles_warp_dens_mean))\n",
    "print(\"Плотность по основе - медиана - \" + str(textiles_warp_dens_median))\n",
    "print(\"Плотность по утку - среднее значение - \" + str(textiles_weft_dens_mean))\n",
    "print(\"Плотность по утку - медиана - \" + str(textiles_weft_dens_median))"
   ]
  },
  {
   "cell_type": "code",
   "execution_count": 6,
   "metadata": {
    "pycharm": {
     "is_executing": false
    }
   },
   "outputs": [
    {
     "data": {
      "image/png": "[encoded data removed]",
      "text/plain": [
       "<Figure size 432x288 with 1 Axes>"
      ]
     },
     "metadata": {
      "needs_background": "light"
     },
     "output_type": "display_data"
    }
   ],
   "source": [
    "figure, axes = pyplot.subplots()\n",
    "pyplot.plot((quartile_dens_warp_1), (10))\n",
    "axes.set_title('title')\n",
    "pyplot.show()"
   ]
  },
  {
   "cell_type": "code",
   "execution_count": 25,
   "metadata": {
    "collapsed": false,
    "jupyter": {
     "outputs_hidden": false
    },
    "pycharm": {
     "is_executing": false,
     "name": "#%%\n"
    }
   },
   "outputs": [],
   "source": [
    "# warp_thick = textiles['warp_nominal']\n",
    "# warp_thick.plot.kde()"
   ]
  },
  {
   "cell_type": "code",
   "execution_count": 26,
   "metadata": {
    "collapsed": false,
    "jupyter": {
     "outputs_hidden": false
    },
    "pycharm": {
     "is_executing": false,
     "name": "#%%\n"
    }
   },
   "outputs": [],
   "source": [
    "# warp_density = textiles['warp_dens']\n",
    "# warp_density.plot.kde()"
   ]
  },
  {
   "cell_type": "code",
   "execution_count": 9,
   "metadata": {
    "collapsed": false,
    "jupyter": {
     "outputs_hidden": false
    },
    "pycharm": {
     "is_executing": false,
     "name": "#%%\n"
    }
   },
   "outputs": [],
   "source": [
    "# seaborn.heatmap(textiles[['warp_nominal', 'weft_nominal', 'warp_dens', 'weft_dens']].corr(), square=True, annot=True)"
   ]
  },
  {
   "cell_type": "markdown",
   "metadata": {
    "pycharm": {
     "name": "#%% md\n"
    }
   },
   "source": [
    "### Вычисление \"выбросов\" в данных"
   ]
  },
  {
   "cell_type": "code",
   "execution_count": 84,
   "metadata": {
    "collapsed": false,
    "jupyter": {
     "outputs_hidden": false
    },
    "pycharm": {
     "is_executing": false,
     "name": "#%%\n"
    }
   },
   "outputs": [
    {
     "name": "stdout",
     "output_type": "stream",
     "text": [
      "\n",
      "Выбросов по толщине нити - 26\n",
      "Выбросов по плотности тканей - 47\n",
      "\n",
      "\n"
     ]
    }
   ],
   "source": [
    "# Выбросы по толщинам нитей по основе;\n",
    "textiles_cleared_thick = \\\n",
    "    textiles[textiles.warp_nominal < \n",
    "             (quartile_thick_warp_3 + 1.5 * (quartile_thick_warp_3 + quartile_thick_warp_1))]\n",
    "textiles_cleared_thick = \\\n",
    "    textiles_cleared_thick[textiles_cleared_thick.warp_nominal > \n",
    "                     (quartile_thick_warp_1 - 1.5 * (quartile_thick_warp_3 - quartile_thick_warp_1))]\n",
    "\n",
    "########################################################################################################################\n",
    "\n",
    "# Выбросы по плотности ткани по основе;\n",
    "textiles_cleared_dens = \\\n",
    "    textiles[textiles.warp_dens <\n",
    "             (quartile_dens_warp_1 + 1.5 * (quartile_dens_warp_3 - quartile_dens_warp_1))]\n",
    "\n",
    "textiles_cleared_dens = \\\n",
    "    textiles_cleared_dens[textiles_cleared_dens.warp_dens >\n",
    "                          (quartile_dens_weft_1 - 1.5 * (quartile_dens_weft_3 - quartile_dens_weft_1))]\n",
    "\n",
    "textiles_cleared_dens = \\\n",
    "    textiles_cleared_dens[textiles_cleared_dens.weft_dens <\n",
    "                          (quartile_dens_weft_1 + 1.5 * (quartile_dens_weft_3 - quartile_dens_weft_1))]\n",
    "\n",
    "textiles_cleared_dens = \\\n",
    "    textiles_cleared_dens[textiles_cleared_dens.weft_dens >\n",
    "                          (quartile_dens_weft_1 - 1.5 * (quartile_dens_weft_3 - quartile_dens_weft_1))]\n",
    "\n",
    "########################################################################################################################\n",
    "\n",
    "# Датафрейм - только выбросы по толщинам нитей по основе;\n",
    "outliers_thick = textiles[~textiles.index.isin(textiles_cleared_thick.index)]\n",
    "outliers_dens = textiles[~textiles.index.isin(textiles_cleared_dens.index)]\n",
    "\n",
    "########################################################################################################################\n",
    "\n",
    "print()\n",
    "print(\"Выбросов по толщине нити - \" + str(len(outliers_thick)))\n",
    "print(\"Выбросов по плотности тканей - \" + str(len(outliers_dens)))\n",
    "print()\n",
    "print()\n"
   ]
  },
  {
   "cell_type": "code",
   "execution_count": 77,
   "metadata": {
    "collapsed": false,
    "jupyter": {
     "outputs_hidden": false
    },
    "pycharm": {
     "is_executing": false,
     "name": "#%%\n"
    }
   },
   "outputs": [],
   "source": [
    "# warp_thick_outliers = outliers_thick['warp_nominal']\n",
    "# warp_thick_outliers.plot.kde()"
   ]
  },
  {
   "cell_type": "code",
   "execution_count": 78,
   "metadata": {
    "collapsed": false,
    "jupyter": {
     "outputs_hidden": false
    },
    "pycharm": {
     "is_executing": false,
     "name": "#%%\n"
    }
   },
   "outputs": [],
   "source": [
    "# warp_thick_scatter = pyplot.figure()\n",
    "# pyplot.title('Warp Density Scatterplot')\n",
    "# pyplot.show()"
   ]
  },
  {
   "cell_type": "code",
   "execution_count": 79,
   "metadata": {
    "collapsed": false,
    "jupyter": {
     "outputs_hidden": false
    },
    "pycharm": {
     "is_executing": false,
     "name": "#%%\n"
    }
   },
   "outputs": [],
   "source": [
    "# warp_dens_outliers = outliers_thick['warp_dens']\n",
    "# warp_dens_outliers.plot.kde()"
   ]
  },
  {
   "cell_type": "markdown",
   "metadata": {
    "pycharm": {
     "name": "#%% md\n"
    }
   },
   "source": [
    "### Кластеризация"
   ]
  },
  {
   "cell_type": "code",
   "execution_count": 91,
   "metadata": {
    "collapsed": false,
    "jupyter": {
     "outputs_hidden": false
    },
    "pycharm": {
     "is_executing": false,
     "name": "#%%\n"
    }
   },
   "outputs": [
    {
     "name": "stdout",
     "output_type": "stream",
     "text": [
      "\n",
      "Размерность полученного списка - (полная выборка)303\n",
      "\n",
      "Размерность полученного списка - (выборка без выбросов)256\n",
      "\n",
      "\n",
      "Полученные номера кластеров (k-means, полная выборка) - \n",
      "[0 0 0 2 2 2 0 2 0 0 0 0 0 0 2 0 0 0 0 2 2 2 0 1 2 2 0 0 0 0 0 0 2 2 0 1 0\n",
      " 2 0 2 1 2 2 1 1 1 2 1 0 0 0 0 2 2 0 2 2 2 2 2 0 2 2 2 0 0 0 2 0 2 0 0 2 0\n",
      " 2 2 1 0 2 0 0 0 0 1 0 2 2 0 0 0 0 2 2 2 2 2 2 0 0 1 1 1 1 1 0 2 0 2 2 0 0\n",
      " 2 0 2 2 2 1 1 0 0 2 2 0 0 0 2 2 0 0 0 0 0 0 2 0 2 0 0 0 2 0 2 2 2 2 2 2 2\n",
      " 2 2 2 0 2 2 2 2 2 2 2 2 2 2 2 0 2 2 1 0 0 0 2 1 2 0 0 0 0 0 0 0 0 0 0 0 0\n",
      " 0 0 0 2 0 0 0 0 0 0 2 2 2 2 1 2 0 0 2 2 2 2 2 0 0 1 2 1 2 2 2 0 0 0 1 2 1\n",
      " 2 0 0 0 0 2 0 1 2 0 0 2 2 2 2 2 2 0 0 2 2 0 0 0 0 0 0 0 0 0 0 0 0 0 0 0 0\n",
      " 0 0 0 0 0 0 0 0 0 0 0 0 0 0 0 0 0 0 0 0 0 0 0 0 0 0 0 0 0 0 2 0 0 0 0 0 0\n",
      " 0 0 0 0 2 2 2]\n",
      "\n",
      "\n",
      "Полученные номера кластеров (k-means, без выбросов по плотности ткани) - \n",
      "[2 1 1 0 0 0 2 1 2 2 2 2 2 2 2 2 2 0 0 0 2 0 0 2 2 2 1 2 0 1 2 2 0 0 1 0 2\n",
      " 2 1 1 0 0 1 0 0 0 0 0 1 0 0 0 1 1 1 0 1 1 0 1 0 1 1 1 1 2 1 0 0 2 2 2 2 0\n",
      " 0 0 0 0 0 2 1 1 0 1 0 1 2 2 1 2 0 1 2 2 0 1 1 1 1 1 1 0 1 1 2 2 2 1 1 0 0\n",
      " 0 0 0 0 0 0 0 1 2 0 0 0 0 0 0 0 0 0 0 0 1 0 0 1 2 2 0 1 1 1 2 2 2 2 2 2 2\n",
      " 2 2 2 2 2 0 1 1 1 2 1 0 0 0 0 0 2 2 0 1 0 0 0 1 1 0 0 0 0 1 2 2 0 2 2 2 2\n",
      " 0 2 0 1 1 0 0 0 0 0 0 2 2 1 1 1 1 1 1 1 1 1 1 1 1 1 1 1 1 1 2 2 2 2 2 2 2\n",
      " 2 2 2 2 2 2 2 2 2 2 1 1 1 2 2 2 1 2 1 2 2 1 2 2 2 2 2 2 2 2 1 1 1 2]\n",
      "\n",
      "\n"
     ]
    },
    {
     "data": {
      "image/png": "[encoded data removed]",
      "text/plain": [
       "<Figure size 1152x576 with 2 Axes>"
      ]
     },
     "metadata": {
      "needs_background": "light"
     },
     "output_type": "display_data"
    }
   ],
   "source": [
    "\n",
    "########################################################################################################################\n",
    "\n",
    "dens_warp_list = textiles['warp_dens'].tolist()\n",
    "dens_weft_list = textiles['weft_dens'].tolist()\n",
    "\n",
    "warp_weft_dens_list = []\n",
    "for index, item in enumerate(dens_warp_list):\\\n",
    "    warp_weft_dens_list.append((dens_warp_list[index], dens_weft_list[index]))\n",
    "    \n",
    "print('\\nРазмерность полученного списка - (полная выборка)' + str(len(warp_weft_dens_list)), end='\\n')\n",
    "\n",
    "########################################################################################################################\n",
    "\n",
    "dens_warp_list_cleared = textiles_cleared_dens['warp_dens'].tolist()\n",
    "dens_weft_list_cleared = textiles_cleared_dens['weft_dens'].tolist()\n",
    "\n",
    "warp_weft_dens_list_cleared = []\n",
    "for index, item in enumerate(dens_warp_list_cleared):\\\n",
    "    warp_weft_dens_list_cleared.append((dens_warp_list_cleared[index], dens_weft_list_cleared[index]))\n",
    "    \n",
    "print('\\nРазмерность полученного списка - (выборка без выбросов)' + str(len(warp_weft_dens_list_cleared)), end='\\n\\n\\n')\n",
    "\n",
    "########################################################################################################################\n",
    "\n",
    "# dbscan = DBSCAN()\n",
    "# db = dbscan.fit(warp_weft_dens_list)\n",
    "# print(numpy.max(db.labels_) + 1)\n",
    "# print(len(db.labels_))\n",
    "# print(set(db.labels_))\n",
    "# pyplot.show()\n",
    "\n",
    "########################################################################################################################\n",
    "\n",
    "# Кластеризация с помощью K-Means - полная выборка\n",
    "\n",
    "kmeans = KMeans(n_clusters=3)\n",
    "\n",
    "kmeans.fit(warp_weft_dens_list)\n",
    "predictions = kmeans.predict(warp_weft_dens_list)\n",
    "print(\"Полученные номера кластеров (k-means, полная выборка) - \\n\" + str(predictions), end=\"\\n\\n\\n\")\n",
    "\n",
    "########################################################################################################################\n",
    "\n",
    "kmeans_cleared = KMeans(n_clusters=3)\n",
    "\n",
    "kmeans_cleared.fit(warp_weft_dens_list_cleared)\n",
    "predictions_cleared = kmeans_cleared.predict(warp_weft_dens_list_cleared)\n",
    "print(\"Полученные номера кластеров (k-means, без выбросов по плотности ткани) - \\n\" + str(predictions_cleared), end=\"\\n\\n\\n\")\n",
    "\n",
    "########################################################################################################################\n",
    "\n",
    "# Основной датафрейм - колонка с полученными номерами кластеров\n",
    "textiles['kmeans_dens'] = predictions\n",
    "textiles_cleared_dens['kmeans_dens'] = predictions_cleared\n",
    "\n",
    "########################################################################################################################\n",
    "\n",
    "# График - отображение полученных кластеров\n",
    "\n",
    "_, axes = pyplot.subplots(nrows=1, ncols=2, figsize=[16, 8])\n",
    "axes[0].scatter(textiles.query('kmeans_dens == 0')['warp_dens'].tolist(),\n",
    "                         textiles.query('kmeans_dens == 0')['weft_dens'].tolist(), marker='*')\n",
    "axes[0].scatter(textiles.query('kmeans_dens == 1')['warp_dens'].tolist(),\n",
    "                         textiles.query('kmeans_dens == 1')['weft_dens'].tolist(), marker='o')\n",
    "axes[0].scatter(textiles.query('kmeans_dens == 2')['warp_dens'].tolist(),\n",
    "                         textiles.query('kmeans_dens == 2')['weft_dens'].tolist())\n",
    "axes[1].scatter(textiles_cleared_dens.query('kmeans_dens == 0')['warp_dens'].tolist(),\n",
    "                         textiles_cleared_dens.query('kmeans_dens == 0')['weft_dens'].tolist(), marker='*')\n",
    "axes[1].scatter(textiles_cleared_dens.query('kmeans_dens == 1')['warp_dens'].tolist(),\n",
    "                         textiles_cleared_dens.query('kmeans_dens == 1')['weft_dens'].tolist(), marker='o')\n",
    "axes[1].scatter(textiles_cleared_dens.query('kmeans_dens == 2')['warp_dens'].tolist(),\n",
    "                         textiles_cleared_dens.query('kmeans_dens == 2')['weft_dens'].tolist())\n",
    "pyplot.show()\n"
   ]
  },
  {
   "cell_type": "markdown",
   "metadata": {
    "pycharm": {
     "name": "#%% md\n"
    }
   },
   "source": [
    "### #1 Отличаются ли пелены от бинтов по параметрам?\n",
    "### #2 Отличаются ли узкие, средние и широкие бинты"
   ]
  },
  {
   "cell_type": "code",
   "execution_count": 34,
   "metadata": {
    "collapsed": false,
    "jupyter": {
     "outputs_hidden": false
    },
    "pycharm": {
     "is_executing": false,
     "name": "#%%\n"
    }
   },
   "outputs": [
    {
     "name": "stdout",
     "output_type": "stream",
     "text": [
      "\n",
      "\n"
     ]
    },
    {
     "data": {
      "image/png": "[encoded data removed]",
      "text/plain": [
       "<Figure size 1080x576 with 2 Axes>"
      ]
     },
     "metadata": {
      "needs_background": "light"
     },
     "output_type": "display_data"
    },
    {
     "name": "stdout",
     "output_type": "stream",
     "text": [
      "\n",
      "Узких бинтов - 94\n",
      "Средних бинтов - 81\n",
      "Широких бинтов - 19\n",
      "Всего бинтов - 194\n",
      "\n",
      "Процент узких бинтов (от общего количества тканей) - 31.02\n",
      "Процент средних бинтов (от общего количества тканей) - 26.73\n",
      "Процент широких бинтов ( от общего количества тканей) - 6.27\n",
      "\n",
      "Процент узких бинтов (от общего количества бинтов) - 48.45\n",
      "Процент средних бинтов (от общего количества бинтов) - 41.75\n",
      "Процент щироких бинтов (от общего количества бинтов) - 9.79\n",
      "\n",
      "Процент бинтов (от общего количества тканей) - 64.03\n",
      "\n",
      "Узкие бинты:\n",
      "Толщина по основе - среднее значение - 0.472\n",
      "Толщина по основе - медиана - 0.45\n",
      "Толщина по утку - среднее значение - 0.493\n",
      "Толщина по утку - медиана - 0.5\n",
      "\n",
      "Плотность по основе - среднее значение - 22.532\n",
      "Плотность по основе - медиана - 22.0\n",
      "Плотность по утку - среднее значение - 9.617\n",
      "Плотность по утку - медиана - 9.0\n",
      "\n",
      "Средние бинты:\n",
      "Толщина по основе - среднее значение - 0.479\n",
      "Толщина по основе - медиана - 0.45\n",
      "Толщина по утку - среднее значение - 0.539\n",
      "Толщина по утку - медиана - 0.5\n",
      "\n",
      "Плотность по основе - среднее значение - 22.556\n",
      "Плотность по основе - медиана - 20.0\n",
      "Плотность по утку - среднее значение - 9.58\n",
      "Плотность по утку - медиана - 9.0\n",
      "\n",
      "Широкие бинты:\n",
      "Толщина по основе - среднее значение - 0.423\n",
      "Толщина по основе - медиана - 0.4\n",
      "Толщина по утку - среднее значение - 0.439\n",
      "Толщина по утку - медиана - 0.4\n",
      "\n",
      "Плотность по основе - среднее значение - 25.632\n",
      "Плотность по основе - медиана - 25.0\n",
      "Плотность по утку - среднее значение - 11.053\n",
      "Плотность по утку - медиана - 10.0\n"
     ]
    }
   ],
   "source": [
    "# датафрейм - только узкие бинты;\n",
    "narrow_bands = textiles[textiles['type'] == 'n_band']\n",
    "# датафрейм - только средние бинты;\n",
    "middle_bands = textiles[textiles['type'] == 'm_band']\n",
    "# датафрейм - только широкие бинты;\n",
    "wide_bands = textiles[textiles['type'] == 'w_band']\n",
    "\n",
    "# датафрейм - бинты всех типов;\n",
    "bands = pandas.concat([narrow_bands, middle_bands, wide_bands])\n",
    "\n",
    "########################################################################################################################\n",
    "\n",
    "# процент узких бинтов - от общего количества тканей;\n",
    "narrow_bands_percent_textiles = round((len(narrow_bands) / len(textiles)) * 100, 2)\n",
    "# процент средних ьинтов - от общего количества тканей;\n",
    "middle_bands_percent_textiles = round((len(middle_bands) / len(textiles)) * 100, 2)\n",
    "# процент широких бинтов - от общего количества тканей;\n",
    "wide_bands_percent_textiles = round((len(wide_bands) / len(textiles)) * 100, 2)\n",
    "# процент всех бинтов - от общего количества тканей;\n",
    "bands_percent = round((len(bands) / len(textiles)) * 100, 2)\n",
    "\n",
    "########################################################################################################################\n",
    "\n",
    "narrow_bands_percent_bands = round((len(narrow_bands) / len(bands)) * 100, 2)\n",
    "middle_bands_percent_bands = round((len(middle_bands) / len(bands)) * 100, 2)\n",
    "wide_bands_percent_bands = round((len(wide_bands) / len(bands)) * 100, 2)\n",
    "\n",
    "########################################################################################################################\n",
    "\n",
    "# Толщина нитей и плотность тканей - медиана и среднее -  для узких бинтов\n",
    "\n",
    "nbands_warp_thick_mean = round(narrow_bands['warp_nominal'].mean(), 3)\n",
    "nbands_warp_thick_median = round(narrow_bands['warp_nominal'].median(), 3)\n",
    "nbands_weft_thick_mean = round(narrow_bands['weft_nominal'].mean(), 3)\n",
    "nbands_weft_thick_median = round(narrow_bands['weft_nominal'].median(), 3)\n",
    "nbands_warp_dens_mean = round(narrow_bands['warp_dens'].mean(), 3)\n",
    "nbands_warp_dens_median = round(narrow_bands['warp_dens'].median(), 3)\n",
    "nbands_weft_dens_mean = round(narrow_bands['weft_dens'].mean(), 3)\n",
    "nbands_weft_dens_median = round(narrow_bands['weft_dens'].median(), 3)\n",
    "\n",
    "########################################################################################################################\n",
    "\n",
    "# Толщина нитей и плотность тканей - медиана и среднее -  для средних бинтов\n",
    "\n",
    "mbands_warp_thick_mean = round(middle_bands['warp_nominal'].mean(), 3)\n",
    "mbands_warp_thick_median = round(middle_bands['warp_nominal'].median(), 3)\n",
    "mbands_weft_thick_mean = round(middle_bands['weft_nominal'].mean(), 3)\n",
    "mbands_weft_thick_median = round(middle_bands['weft_nominal'].median(), 3)\n",
    "mbands_warp_dens_mean = round(middle_bands['warp_dens'].mean(), 3)\n",
    "mbands_warp_dens_median = round(middle_bands['warp_dens'].median(), 3)\n",
    "mbands_weft_dens_mean = round(middle_bands['weft_dens'].mean(), 3)\n",
    "mbands_weft_dens_median = round(middle_bands['weft_dens'].median(), 3)\n",
    "\n",
    "########################################################################################################################\n",
    "\n",
    "# Толщина нитей и плотность тканей - медиана и среднее -  для широкий бинтов\n",
    "\n",
    "wbands_warp_thick_mean = round(wide_bands['warp_nominal'].mean(), 3)\n",
    "wbands_warp_thick_median = round(wide_bands['warp_nominal'].median(), 3)\n",
    "wbands_weft_thick_mean = round(wide_bands['weft_nominal'].mean(), 3)\n",
    "wbands_weft_thick_median = round(wide_bands['weft_nominal'].median(), 3)\n",
    "wbands_warp_dens_mean = round(wide_bands['warp_dens'].mean(), 3)\n",
    "wbands_warp_dens_median = round(wide_bands['warp_dens'].median(), 3)\n",
    "wbands_weft_dens_mean = round(wide_bands['weft_dens'].mean(), 3)\n",
    "wbands_weft_dens_median = round(wide_bands['weft_dens'].median(), 3)\n",
    "\n",
    "########################################################################################################################\n",
    "\n",
    "# Парный график - толщины нитей и плотности тканей для групп бинтов\n",
    "\n",
    "ax, axes = pyplot.subplots(nrows=1, ncols=2, figsize=[15, 8])\n",
    "axes[0].set_title('Band groups thread thick parameters bar plot (warp & weft)')\n",
    "axes[0].bar((1, 2), (nbands_warp_thick_mean, nbands_weft_thick_mean), width=0.3, label='narrow bands')\n",
    "axes[0].bar((1.2, 2.2), (mbands_warp_thick_mean, mbands_weft_thick_mean), width=0.3, label='middle bands')\n",
    "axes[0].bar((1.4, 2.4), (wbands_warp_thick_mean, wbands_weft_thick_mean), width=0.3, label='wide bands')\n",
    "axes[0].legend()\n",
    "axes[1].set_title('Band groups textile density bar plot (warp & weft)')\n",
    "axes[1].bar((1, 2), (nbands_warp_dens_mean, nbands_weft_dens_mean), width=0.3, label='narrow bands')\n",
    "axes[1].bar((1.2, 2.2), (mbands_warp_dens_mean, mbands_weft_dens_mean), width=0.3, label='middle bands')\n",
    "axes[1].bar((1.4, 2.4), (wbands_warp_dens_mean, wbands_weft_dens_mean), width=0.3, label='wide bands')\n",
    "axes[1].legend()\n",
    "print()\n",
    "print()\n",
    "pyplot.show()\n",
    "\n",
    "########################################################################################################################\n",
    "\n",
    "# Вывод текстовой информации\n",
    "\n",
    "print()\n",
    "print(\"Узких бинтов - \" + str(len(narrow_bands)))\n",
    "print(\"Средних бинтов - \" + str(len(middle_bands)))\n",
    "print(\"Широких бинтов - \" + str(len(wide_bands)))\n",
    "print(\"Всего бинтов - \" + str(len(bands)))\n",
    "print()\n",
    "\n",
    "print(\"Процент узких бинтов (от общего количества тканей) - \" + str(narrow_bands_percent_textiles))\n",
    "print(\"Процент средних бинтов (от общего количества тканей) - \" + str(middle_bands_percent_textiles))\n",
    "print(\"Процент широких бинтов ( от общего количества тканей) - \" + str(wide_bands_percent_textiles))\n",
    "\n",
    "print()\n",
    "print(\"Процент узких бинтов (от общего количества бинтов) - \" + str(narrow_bands_percent_bands))\n",
    "print(\"Процент средних бинтов (от общего количества бинтов) - \" + str(middle_bands_percent_bands))\n",
    "print(\"Процент щироких бинтов (от общего количества бинтов) - \" + str(wide_bands_percent_bands))\n",
    "\n",
    "print()\n",
    "print(\"Процент бинтов (от общего количества тканей) - \" + str(bands_percent))\n",
    "\n",
    "print()\n",
    "print(\"Узкие бинты:\")\n",
    "print(\"Толщина по основе - среднее значение - \" + str(nbands_warp_thick_mean))\n",
    "print('Толщина по основе - медиана - ' + str(nbands_warp_thick_median))\n",
    "print(\"Толщина по утку - среднее значение - \" + str(nbands_weft_thick_mean))\n",
    "print(\"Толщина по утку - медиана - \" + str(nbands_weft_thick_median))\n",
    "print()\n",
    "print(\"Плотность по основе - среднее значение - \" + str(nbands_warp_dens_mean))\n",
    "print(\"Плотность по основе - медиана - \" + str(nbands_warp_dens_median))\n",
    "print(\"Плотность по утку - среднее значение - \" + str(nbands_weft_dens_mean))\n",
    "print(\"Плотность по утку - медиана - \" + str(nbands_weft_dens_median))\n",
    "\n",
    "print()\n",
    "print(\"Средние бинты:\")\n",
    "print(\"Толщина по основе - среднее значение - \" + str(mbands_warp_thick_mean))\n",
    "print(\"Толщина по основе - медиана - \" + str(mbands_warp_thick_median))\n",
    "print(\"Толщина по утку - среднее значение - \" + str(mbands_weft_thick_mean))\n",
    "print(\"Толщина по утку - медиана - \" + str(mbands_weft_thick_median))\n",
    "print()\n",
    "print(\"Плотность по основе - среднее значение - \" + str(mbands_warp_dens_mean))\n",
    "print(\"Плотность по основе - медиана - \" + str(mbands_warp_dens_median))\n",
    "print(\"Плотность по утку - среднее значение - \" + str(mbands_weft_dens_mean))\n",
    "print(\"Плотность по утку - медиана - \" + str(mbands_weft_dens_median))\n",
    "\n",
    "print()\n",
    "print(\"Широкие бинты:\")\n",
    "print(\"Толщина по основе - среднее значение - \" + str(wbands_warp_thick_mean))\n",
    "print(\"Толщина по основе - медиана - \" + str(wbands_warp_thick_median))\n",
    "print(\"Толщина по утку - среднее значение - \" + str(wbands_weft_thick_mean))\n",
    "print(\"Толщина по утку - медиана - \" + str(wbands_weft_thick_median))\n",
    "print()\n",
    "print(\"Плотность по основе - среднее значение - \" + str(wbands_warp_dens_mean))\n",
    "print(\"Плотность по основе - медиана - \" + str(wbands_warp_dens_median))\n",
    "print(\"Плотность по утку - среднее значение - \" + str(wbands_weft_dens_mean))\n",
    "print(\"Плотность по утку - медиана - \" + str(wbands_weft_dens_median))"
   ]
  },
  {
   "cell_type": "code",
   "execution_count": null,
   "metadata": {
    "collapsed": false,
    "jupyter": {
     "outputs_hidden": false
    },
    "pycharm": {
     "is_executing": false,
     "name": "#%%\n"
    }
   },
   "outputs": [],
   "source": []
  },
  {
   "cell_type": "markdown",
   "metadata": {
    "pycharm": {
     "name": "#%% md\n"
    }
   },
   "source": [
    "### #3 Каков процент рогожки?"
   ]
  },
  {
   "cell_type": "markdown",
   "metadata": {
    "pycharm": {
     "name": "#%% md\n"
    }
   },
   "source": [
    "### #4 Какие группы тканей по качеству получаются?"
   ]
  },
  {
   "cell_type": "markdown",
   "metadata": {
    "pycharm": {
     "name": "#%% md\n"
    }
   },
   "source": [
    "#### #4.1 Ткани с высокой плотностью по основе"
   ]
  },
  {
   "cell_type": "markdown",
   "metadata": {
    "pycharm": {
     "name": "#%% md\n"
    }
   },
   "source": [
    "##### #4.1.1 Проверка тенденции к сбалансированности у тканей с высокой плотностью по основе"
   ]
  },
  {
   "cell_type": "code",
   "execution_count": 16,
   "metadata": {
    "collapsed": false,
    "jupyter": {
     "outputs_hidden": false
    },
    "pycharm": {
     "is_executing": false,
     "name": "#%%\n"
    }
   },
   "outputs": [
    {
     "name": "stdout",
     "output_type": "stream",
     "text": [
      "Всего тканей с высокой плотностью по основе (более или равно 20) - 156\n"
     ]
    }
   ],
   "source": [
    "\n",
    "########################################################################################################################\n",
    "\n",
    "def proportion(x, y):\n",
    "    return round(x / y, 2)\n",
    "\n",
    "########################################################################################################################\n",
    "\n",
    "high_density_warp = textiles.query(\"warp_dens >= 20\").copy()\n",
    "high_density_warp['warp_weft'] = high_density_warp.apply(lambda x: proportion(x['warp_dens'], x['weft_dens']), axis = 1)\n",
    "print(\"Всего тканей с высокой плотностью по основе (более или равно 20) - \" + str(len(high_density_warp)))\n",
    "# high_density_warp['warp_weft'].plot.hist(color='green', alpha=0.5,\n",
    "#                                          title='Гистограмма соотношений плотностей по основе и утку для'\n",
    "#                                                ' тканей с высокой плотностью по основе', figsize=[8, 8], bins=30)\n",
    "\n",
    "########################################################################################################################\n"
   ]
  },
  {
   "cell_type": "code",
   "execution_count": 17,
   "metadata": {
    "pycharm": {
     "is_executing": false
    }
   },
   "outputs": [],
   "source": [
    "# high_density_warp['warp_weft'].plot.kde(color='red', figsize=[8, 8], title='warp/weft для тканей с высокой плотностью по основе')"
   ]
  },
  {
   "cell_type": "markdown",
   "metadata": {
    "pycharm": {
     "name": "#%% md\n"
    }
   },
   "source": [
    "##### #4.1.2 Проверка тенденции к сбалансированности у тканей с умеренной плотностью по основе"
   ]
  },
  {
   "cell_type": "code",
   "execution_count": 18,
   "metadata": {
    "collapsed": false,
    "jupyter": {
     "outputs_hidden": false
    },
    "pycharm": {
     "is_executing": false,
     "name": "#%%\n"
    }
   },
   "outputs": [
    {
     "name": "stdout",
     "output_type": "stream",
     "text": [
      "Всего тканей с низкой и умеренной плотностью по основе (менее 20) - 147\n"
     ]
    }
   ],
   "source": [
    "low_density_warp = textiles.query(\"warp_dens < 20\").copy()\n",
    "low_density_warp['warp_weft'] = low_density_warp.apply(lambda x: proportion(x['warp_dens'], x['weft_dens']), axis = 1)\n",
    "print(\"Всего тканей с низкой и умеренной плотностью по основе (менее 20) - \" + str(len(low_density_warp)))\n",
    "# low_density_warp['warp_weft'].plot.hist(color='green', alpha=0.5, title='',figsize=[8, 8], bins=30)"
   ]
  },
  {
   "cell_type": "code",
   "execution_count": 19,
   "metadata": {
    "pycharm": {
     "is_executing": false
    }
   },
   "outputs": [],
   "source": [
    "# low_density_warp['warp_weft'].plot.kde(color='red', figsize=[8, 8], title='warp/weft для тканей с низкой плотностью по основе')"
   ]
  },
  {
   "cell_type": "markdown",
   "metadata": {
    "pycharm": {
     "name": "#%% md\n"
    }
   },
   "source": [
    "### #5 Различаются ли нити основы и нити утка?"
   ]
  },
  {
   "cell_type": "code",
   "execution_count": null,
   "metadata": {
    "collapsed": false,
    "jupyter": {
     "outputs_hidden": false
    },
    "pycharm": {
     "is_executing": false,
     "name": "#%%\n"
    }
   },
   "outputs": [],
   "source": []
  },
  {
   "cell_type": "markdown",
   "metadata": {},
   "source": [
    "### #11 Разделить ткани по сбалансированности (сбалансированные - ±3 нити; ткани с преобладанием нитей основы); рассчитать процент каждой группы"
   ]
  },
  {
   "cell_type": "code",
   "execution_count": 20,
   "metadata": {
    "collapsed": false,
    "jupyter": {
     "outputs_hidden": false
    },
    "pycharm": {
     "is_executing": false,
     "name": "#%%\n"
    }
   },
   "outputs": [
    {
     "name": "stdout",
     "output_type": "stream",
     "text": [
      "47\n",
      "303\n",
      "15.51155115511551\n"
     ]
    }
   ],
   "source": [
    "balanced = textiles.query(\"(warp_dens <= (weft_dens + 3)) & (warp_dens >= (weft_dens - 3))\")\n",
    "unbalanced = textiles\n",
    "\n",
    "print(len(balanced))\n",
    "print(len(unbalanced))\n",
    "\n",
    "balanced_percent = len(balanced) / len(textiles) * 100\n",
    "print(str(balanced_percent))"
   ]
  },
  {
   "cell_type": "code",
   "execution_count": null,
   "metadata": {
    "collapsed": false,
    "jupyter": {
     "outputs_hidden": false
    },
    "pycharm": {
     "is_executing": false,
     "name": "#%%\n"
    }
   },
   "outputs": [],
   "source": []
  },
  {
   "cell_type": "code",
   "execution_count": 20,
   "metadata": {
    "pycharm": {
     "is_executing": false
    }
   },
   "outputs": [],
   "source": []
  }
 ],
 "metadata": {
  "kernelspec": {
   "display_name": "PyCharm (textile_data)",
   "language": "python",
   "name": "pycharm-724d55c4"
  },
  "language_info": {
   "codemirror_mode": {
    "name": "ipython",
    "version": 3
   },
   "file_extension": ".py",
   "mimetype": "text/x-python",
   "name": "python",
   "nbconvert_exporter": "python",
   "pygments_lexer": "ipython3",
   "version": "3.7.4"
  },
  "pycharm": {
   "stem_cell": {
    "cell_type": "raw",
    "metadata": {
     "collapsed": false
    },
    "source": []
   }
  }
 },
 "nbformat": 4,
 "nbformat_minor": 4
}
