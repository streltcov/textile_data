{
 "cells": [
  {
   "cell_type": "code",
   "execution_count": 1,
   "metadata": {
    "collapsed": true,
    "pycharm": {
     "is_executing": false
    }
   },
   "outputs": [],
   "source": [
    "import pandas\n",
    "import pylab\n",
    "# import scipy\n",
    "# import scipy.stats as stats\n",
    "import seaborn\n",
    "\n",
    "import matplotlib.pyplot as pyplot\n",
    "%matplotlib inline"
   ]
  },
  {
   "cell_type": "markdown",
   "source": [
    "## Задачи исследования\n",
    "1. Отличаются ли пелены от бинтов по параметрам?\n",
    "2. Отличаются ли узкие, средние и широкие бинты друг от друга по параметрам?\n",
    "3. Каков процент рогожки?\n",
    "4. Какие группы тканей по качеству получаются?\n",
    "5. Различаются ли нити основы и нити утка?\n",
    "6. Какое количество (процент) тканей высокого качества имеют сбалансированное переплетение?\n",
    "7. Какое количество (процент) тканей среднего качества имеет сбалансированное переплетение?\n",
    "8. Какое количество (процент) тканей ниского качества имеет сбалансированное переплетение?\n",
    "9. Каково соотношение сбалансированных тканей и тканей с преобладанием нитей основы?\n",
    "10. Высчитать \"коэффициент заполняемости\" тканей\n",
    "11. Разделить ткани по сбалансированности (сбалансированные - ±3 нити; ткани с преобладанием нитей основы); рассчитать процент каждой группы"
   ],
   "metadata": {
    "collapsed": false
   }
  },
  {
   "cell_type": "code",
   "execution_count": 2,
   "outputs": [],
   "source": [
    "def convert_to_float(value):\n",
    "    \"\"\"\n",
    "    Преобразование значений в столбцах датафрейма;\n",
    "    :param value: float\n",
    "    :return: float\n",
    "    \"\"\"\n",
    "    value = str(value)\n",
    "    value = value.replace(\",\", \".\")\n",
    "    value = round(float(value), 2)\n",
    "    return value"
   ],
   "metadata": {
    "collapsed": false,
    "pycharm": {
     "name": "#%%\n",
     "is_executing": false
    }
   }
  },
  {
   "cell_type": "markdown",
   "source": [
    "### Загрузка и предобработка данных"
   ],
   "metadata": {
    "collapsed": false,
    "pycharm": {
     "name": "#%% md\n"
    }
   }
  },
  {
   "cell_type": "code",
   "execution_count": 3,
   "outputs": [
    {
     "name": "stdout",
     "text": [
      "\n\nОбщее количество записей - 304\n"
     ],
     "output_type": "stream"
    }
   ],
   "source": [
    "# Загрузка датафрейма из CSV файла;\n",
    "textiles = pandas.read_csv('dataframe.csv')\n",
    "\n",
    "########################################################################################################################\n",
    "\n",
    "# Приведение типов колонок датафрейма к значению с плавающей запятой;\n",
    "textiles['warp_a'] = textiles.warp_a.apply(convert_to_float)\n",
    "textiles['warp_b'] = textiles.warp_b.apply(convert_to_float)\n",
    "textiles['weft_a'] = textiles.weft_a.apply(convert_to_float)\n",
    "textiles['weft_b'] = textiles.weft_b.apply(convert_to_float)\n",
    "\n",
    "########################################################################################################################\n",
    "\n",
    "# Вычисление \"усредненных\" толщин нитей;\n",
    "textiles['warp_nominal'] = round((textiles['warp_a'] + textiles['warp_b']) / 2, 2)\n",
    "textiles['weft_nominal'] = round((textiles['weft_a'] + textiles['weft_b']) / 2, 2)\n",
    "\n",
    "########################################################################################################################\n",
    "\n",
    "# Добавление признака density_coefficient;\n",
    "textiles['density_coefficient'] = round((textiles['warp_dens'] / textiles['weft_dens']), 2)\n",
    "\n",
    "print()\n",
    "print()\n",
    "print(\"Общее количество записей - \" + str(len(textiles)))"
   ],
   "metadata": {
    "collapsed": false,
    "pycharm": {
     "name": "#%%\n",
     "is_executing": false
    }
   }
  },
  {
   "cell_type": "markdown",
   "source": [
    "### Вычисление квартилей"
   ],
   "metadata": {
    "collapsed": false,
    "pycharm": {
     "name": "#%% md\n"
    }
   }
  },
  {
   "cell_type": "code",
   "execution_count": 4,
   "outputs": [
    {
     "name": "stdout",
     "text": [
      "\n\nКвартили толщины по основе - 0.4 0.45 0.5\nКвартили толщины по утку - 0.4 0.5 0.61\nКвартили плотности по основе - 14.0 20.0 28.0\nКвартили плотности по утку - 8.0 10.0 12.0\n"
     ],
     "output_type": "stream"
    }
   ],
   "source": [
    "# квартили толщин нитей по основе;\n",
    "[quartile_thick_warp_1, quartile_thick_warp_2, quartile_thick_warp_3] = textiles['warp_nominal'].quantile([0.25, 0.5, 0.75])\n",
    "quartile_thick_warp_1 = round(quartile_thick_warp_1, 2)\n",
    "quartile_thick_warp_2 = round(quartile_thick_warp_2, 2)\n",
    "quartile_thick_warp_3 = round(quartile_thick_warp_3, 2)\n",
    "\n",
    "# квартили толщин нитей по утку;\n",
    "[quartile_thick_weft_1, quartile_thick_weft_2, quartile_thick_weft_3] = textiles['weft_nominal'].quantile([0.25, 0.5, 0.75])\n",
    "quartile_thick_weft_1 = round(quartile_thick_weft_1, 2)\n",
    "quartile_thick_weft_2 = round(quartile_thick_weft_2, 2)\n",
    "quartile_thick_weft_3 = round(quartile_thick_weft_3, 2)\n",
    "\n",
    "# квартили плотности по основе;\n",
    "[quartile_dens_warp_1, quartile_dens_warp_2, quartile_dens_warp_3] = textiles['warp_dens'].quantile([0.25, 0.5, 0.75])\n",
    "quartile_dens_warp_1 = round(quartile_dens_warp_1, 2)\n",
    "quartile_dens_warp_2 = round(quartile_dens_warp_2, 2)\n",
    "quartile_dens_warp_3 = round(quartile_dens_warp_3, 2)\n",
    "\n",
    "# квартили плотности по утку;\n",
    "[quartile_dens_weft_1, quartile_dens_weft_2, quartile_dens_weft_3] = textiles['weft_dens'].quantile([0.25, 0.5, 0.75])\n",
    "quartile_dens_weft_1 = round(quartile_dens_weft_1, 2)\n",
    "quartile_dens_weft_2 = round(quartile_dens_weft_2, 2)\n",
    "quartile_dens_weft_3 = round(quartile_dens_weft_3, 2)\n",
    "\n",
    "print()\n",
    "print()\n",
    "print(\"Квартили толщины по основе - \" + str(quartile_thick_warp_1) + ' ' + str(quartile_thick_warp_2) + ' ' + str(quartile_thick_warp_3))\n",
    "print(\"Квартили толщины по утку - \" + str(quartile_thick_weft_1) + ' ' + str(quartile_thick_weft_2) + ' ' + str(quartile_thick_weft_3))\n",
    "print(\"Квартили плотности по основе - \" + str(quartile_dens_warp_1) + ' ' + str(quartile_dens_warp_2) + ' ' + str(quartile_dens_warp_3))\n",
    "print(\"Квартили плотности по утку - \" + str(quartile_dens_weft_1) + ' ' + str(quartile_dens_weft_2) + ' ' + str(quartile_dens_weft_3))"
   ],
   "metadata": {
    "collapsed": false,
    "pycharm": {
     "name": "#%%\n",
     "is_executing": false
    }
   }
  },
  {
   "cell_type": "markdown",
   "source": [
    "### Описание полного набора данных"
   ],
   "metadata": {
    "collapsed": false,
    "pycharm": {
     "name": "#%% md\n"
    }
   }
  },
  {
   "cell_type": "code",
   "execution_count": 5,
   "outputs": [
    {
     "name": "stdout",
     "text": [
      "\nТолщина по основе - среднее значение - 0.472\nТолщина по основе - медиана - 0.45\nТолщина по утку - среднее значение - 0.53\nТолщина по утку - медиана - 0.5\n\nПлотность по основе - среднее значение - 21.231\nПлотность по основе - медиана - 20.0\nПлотность по утку - среднее значение - 9.851\nПлотность по утку - медиана - 10.0\n"
     ],
     "output_type": "stream"
    }
   ],
   "source": [
    "textiles_warp_thick_mean = round(textiles['warp_nominal'].mean(), 3)\n",
    "textiles_warp_thick_median = round(textiles['warp_nominal'].median(), 3)\n",
    "textiles_weft_thick_mean = round(textiles['weft_nominal'].mean(), 3)\n",
    "textiles_weft_thick_median = round(textiles['weft_nominal'].median(), 3)\n",
    "\n",
    "print()\n",
    "print(\"Толщина по основе - среднее значение - \" + str(textiles_warp_thick_mean))\n",
    "print(\"Толщина по основе - медиана - \" + str(textiles_warp_thick_median))\n",
    "print(\"Толщина по утку - среднее значение - \" + str(textiles_weft_thick_mean))\n",
    "print(\"Толщина по утку - медиана - \" + str(textiles_weft_thick_median))\n",
    "\n",
    "textiles_warp_dens_mean = round(textiles['warp_dens'].mean(), 3)\n",
    "textiles_warp_dens_median = round(textiles['warp_dens'].median(), 3)\n",
    "textiles_weft_dens_mean = round(textiles['weft_dens'].mean(), 3)\n",
    "textiles_weft_dens_median = round(textiles['weft_dens'].median(), 3)\n",
    "\n",
    "print()\n",
    "print(\"Плотность по основе - среднее значение - \" + str(textiles_warp_dens_mean))\n",
    "print(\"Плотность по основе - медиана - \" + str(textiles_warp_dens_median))\n",
    "print(\"Плотность по утку - среднее значение - \" + str(textiles_weft_dens_mean))\n",
    "print(\"Плотность по утку - медиана - \" + str(textiles_weft_dens_median))"
   ],
   "metadata": {
    "collapsed": false,
    "pycharm": {
     "name": "#%%\n",
     "is_executing": false
    }
   }
  },
  {
   "cell_type": "code",
   "execution_count": 6,
   "outputs": [
    {
     "data": {
      "text/plain": "<matplotlib.axes._subplots.AxesSubplot at 0x114821290>"
     },
     "metadata": {},
     "output_type": "execute_result",
     "execution_count": 6
    },
    {
     "data": {
      "text/plain": "<Figure size 432x288 with 1 Axes>",
      "image/png": "[encoded data removed]"
     },
     "metadata": {
      "needs_background": "light"
     },
     "output_type": "display_data"
    }
   ],
   "source": [
    "warp_thick = textiles['warp_nominal']\n",
    "warp_thick.plot.kde()"
   ],
   "metadata": {
    "collapsed": false,
    "pycharm": {
     "name": "#%%\n",
     "is_executing": false
    }
   }
  },
  {
   "cell_type": "code",
   "execution_count": 7,
   "outputs": [
    {
     "data": {
      "text/plain": "<matplotlib.axes._subplots.AxesSubplot at 0x12085ee10>"
     },
     "metadata": {},
     "output_type": "execute_result",
     "execution_count": 7
    },
    {
     "data": {
      "text/plain": "<Figure size 432x288 with 1 Axes>",
      "image/png": "[encoded data removed]"
     },
     "metadata": {
      "needs_background": "light"
     },
     "output_type": "display_data"
    }
   ],
   "source": [
    "warp_density = textiles['warp_dens']\n",
    "warp_density.plot.kde()"
   ],
   "metadata": {
    "collapsed": false,
    "pycharm": {
     "name": "#%%\n",
     "is_executing": false
    }
   }
  },
  {
   "cell_type": "code",
   "execution_count": 8,
   "outputs": [
    {
     "data": {
      "text/plain": "<Figure size 750x750 with 2 Axes>",
      "image/png": "[encoded data removed]"
     },
     "metadata": {
      "needs_background": "light"
     },
     "output_type": "display_data"
    }
   ],
   "source": [
    "textiles_corr = textiles[['warp_nominal', 'warp_nominal', 'warp_dens', 'weft_dens', 'density_coefficient']]\n",
    "pyplot.figure(figsize=(15, 15), dpi=50)\n",
    "seaborn.heatmap(textiles_corr.corr(), xticklabels=textiles_corr.corr().columns, yticklabels=textiles_corr.corr().columns, cmap='RdYlGn', annot=True)\n",
    "pyplot.xticks(fontsize=10)\n",
    "pyplot.yticks(fontsize=10)\n",
    "pyplot.title('Correlation heatmap for all numeric features')\n",
    "pyplot.show()"
   ],
   "metadata": {
    "collapsed": false,
    "pycharm": {
     "name": "#%%\n",
     "is_executing": false
    }
   }
  },
  {
   "cell_type": "markdown",
   "source": [
    "### Вычисление \"выбросов\" в данных"
   ],
   "metadata": {
    "collapsed": false,
    "pycharm": {
     "name": "#%% md\n"
    }
   }
  },
  {
   "cell_type": "code",
   "execution_count": 9,
   "outputs": [
    {
     "name": "stdout",
     "text": [
      "\nВеличина датафрейма без выбросов по толщине нити - 278\n"
     ],
     "output_type": "stream"
    }
   ],
   "source": [
    "# Выбросы по толщинам нитей;\n",
    "outliers_thick = textiles[textiles.warp_nominal < (quartile_thick_warp_3 + 1.5 * (quartile_thick_warp_3 + quartile_thick_warp_1))]\n",
    "outliers_thick = outliers_thick[outliers_thick.warp_nominal > (quartile_thick_warp_1 - 1.5 * (quartile_thick_warp_3 - quartile_thick_warp_1))]\n",
    "# outliers_thick = outliers_thick[outliers_thick]\n",
    "\n",
    "print()\n",
    "print(\"Величина датафрейма без выбросов по толщине нити - \" + str(len(outliers_thick)))\n",
    "\n",
    "# Выбросы по плотности ткани;\n",
    "# outliers_dens = textiles[textiles.dens]"
   ],
   "metadata": {
    "collapsed": false,
    "pycharm": {
     "name": "#%%\n",
     "is_executing": false
    }
   }
  },
  {
   "cell_type": "code",
   "execution_count": 10,
   "outputs": [
    {
     "data": {
      "text/plain": "<matplotlib.axes._subplots.AxesSubplot at 0x124af1750>"
     },
     "metadata": {},
     "output_type": "execute_result",
     "execution_count": 10
    },
    {
     "data": {
      "text/plain": "<Figure size 432x288 with 1 Axes>",
      "image/png": "[encoded data removed]"
     },
     "metadata": {
      "needs_background": "light"
     },
     "output_type": "display_data"
    }
   ],
   "source": [
    "warp_thick_outliers = outliers_thick['warp_nominal']\n",
    "warp_thick_outliers.plot.kde()"
   ],
   "metadata": {
    "collapsed": false,
    "pycharm": {
     "name": "#%%\n",
     "is_executing": false
    }
   }
  },
  {
   "cell_type": "code",
   "execution_count": 11,
   "outputs": [
    {
     "data": {
      "text/plain": "<Figure size 432x288 with 1 Axes>",
      "image/png": "[encoded data removed]"
     },
     "metadata": {
      "needs_background": "light"
     },
     "output_type": "display_data"
    }
   ],
   "source": [
    "warp_thick_scatter = pyplot.figure()\n",
    "pyplot.title('Warp Density Scatterplot')\n",
    "pyplot.show()"
   ],
   "metadata": {
    "collapsed": false,
    "pycharm": {
     "name": "#%%\n",
     "is_executing": false
    }
   }
  },
  {
   "cell_type": "code",
   "execution_count": 12,
   "outputs": [
    {
     "data": {
      "text/plain": "<matplotlib.axes._subplots.AxesSubplot at 0x124f77790>"
     },
     "metadata": {},
     "output_type": "execute_result",
     "execution_count": 12
    },
    {
     "data": {
      "text/plain": "<Figure size 432x288 with 1 Axes>",
      "image/png": "[encoded data removed]"
     },
     "metadata": {
      "needs_background": "light"
     },
     "output_type": "display_data"
    }
   ],
   "source": [
    "warp_dens_outliers = outliers_thick['warp_dens']\n",
    "warp_dens_outliers.plot.kde()"
   ],
   "metadata": {
    "collapsed": false,
    "pycharm": {
     "name": "#%%\n",
     "is_executing": false
    }
   }
  },
  {
   "cell_type": "markdown",
   "source": [
    "### #1 Отличаются ли пелены от бинтов по параметрам? #2 Отличаются ли узкие, средние и широкие бинты"
   ],
   "metadata": {
    "collapsed": false,
    "pycharm": {
     "name": "#%% md\n"
    }
   }
  },
  {
   "cell_type": "code",
   "execution_count": 13,
   "outputs": [
    {
     "name": "stdout",
     "text": [
      "\nУзких бинтов - 94\nСредних бинтов - 81\nШироких бинтов - 19\nВсего бинтов - 194\n\nПроцент узких бинтов (от общего количества тканей) - 30.92\nПроцент средних бинтов (от общего количества тканей) - 26.64\nПроцент широких бинтов ( от общего количества тканей) - 6.25\n\nПроцент узких бинтов (от общего количества бинтов) - 48.45\nПроцент средних бинтов (от общего количества бинтов) - 41.75\nПроцент щироких бинтов (от общего количества бинтов) - 9.79\n\nПроцент бинтов (от общего количества тканей) - 63.82\n\nУзкие бинты:\nТолщина по основе - среднее значение - 0.472\nТолщина по основе - медиана - 0.45\nТолщина по утку - среднее значение - 0.493\nТолщина по утку - медиана - 0.5\n\nПлотность по основе - среднее значение - 22.532\nПлотность по основе - медиана - 22.0\nПлотность по утку - среднее значение - 9.617\nПлотность по утку - медиана - 9.0\n\nСредние бинты:\nТолщина по основе - среднее значение - 0.479\nТолщина по основе - медиана - 0.45\nТолщина по утку - среднее значение - 0.539\nТолщина по утку - медиана - 0.5\n\nПлотность по основе - среднее значение - 22.556\nПлотность по основе - медиана - 20.0\nПлотность по утку - среднее значение - 9.58\nПлотность по утку - медиана - 9.0\n\nШирокие бинты:\nТолщина по основе - среднее значение - 0.423\nТолщина по основе - медиана - 0.4\nТолщина по утку - среднее значение - 0.439\nТолщина по утку - медиана - 0.4\n\nПлотность по основе - среднее значение - 25.632\nПлотность по основе - медиана - 25.0\nПлотность по утку - среднее значение - 11.053\nПлотность по утку - медиана - 10.0\n"
     ],
     "output_type": "stream"
    }
   ],
   "source": [
    "# датафрейм - только узкие бинты;\n",
    "narrow_bands = textiles[textiles['type'] == 'n_band']\n",
    "# датафрейм - только средние бинты;\n",
    "middle_bands = textiles[textiles['type'] == 'm_band']\n",
    "# датафрейм - только широкие бинты;\n",
    "wide_bands = textiles[textiles['type'] == 'w_band']\n",
    "\n",
    "# датафрейм - бинты всех типов;\n",
    "bands = pandas.concat([narrow_bands, middle_bands, wide_bands])\n",
    "\n",
    "print()\n",
    "print(\"Узких бинтов - \" + str(len(narrow_bands)))\n",
    "print(\"Средних бинтов - \" + str(len(middle_bands)))\n",
    "print(\"Широких бинтов - \" + str(len(wide_bands)))\n",
    "print(\"Всего бинтов - \" + str(len(bands)))\n",
    "print()\n",
    "\n",
    "# процент узких бинтов - от общего количества тканей;\n",
    "narrow_bands_percent_textiles = round((len(narrow_bands) / len(textiles)) * 100, 2)\n",
    "# процент средних ьинтов - от общего количества тканей;\n",
    "middle_bands_percent_textiles = round((len(middle_bands) / len(textiles)) * 100, 2)\n",
    "# процент широких бинтов - от общего количества тканей;\n",
    "wide_bands_percent_textiles = round((len(wide_bands) / len(textiles)) * 100, 2)\n",
    "# процент всех бинтов - от общего количества тканей;\n",
    "bands_percent = round((len(bands) / len(textiles)) * 100, 2)\n",
    "\n",
    "narrow_bands_percent_bands = round((len(narrow_bands) / len(bands)) * 100, 2)\n",
    "middle_bands_percent_bands = round((len(middle_bands) / len(bands)) * 100, 2)\n",
    "wide_bands_percent_bands = round((len(wide_bands) / len(bands)) * 100, 2)\n",
    "\n",
    "print(\"Процент узких бинтов (от общего количества тканей) - \" + str(narrow_bands_percent_textiles))\n",
    "print(\"Процент средних бинтов (от общего количества тканей) - \" + str(middle_bands_percent_textiles))\n",
    "print(\"Процент широких бинтов ( от общего количества тканей) - \" + str(wide_bands_percent_textiles))\n",
    "\n",
    "print()\n",
    "print(\"Процент узких бинтов (от общего количества бинтов) - \" + str(narrow_bands_percent_bands))\n",
    "print(\"Процент средних бинтов (от общего количества бинтов) - \" + str(middle_bands_percent_bands))\n",
    "print(\"Процент щироких бинтов (от общего количества бинтов) - \" + str(wide_bands_percent_bands))\n",
    "\n",
    "print()\n",
    "print(\"Процент бинтов (от общего количества тканей) - \" + str(bands_percent))\n",
    "\n",
    "nbands_warp_thick_mean = round(narrow_bands['warp_nominal'].mean(), 3)\n",
    "nbands_warp_thick_median = round(narrow_bands['warp_nominal'].median(), 3)\n",
    "nbands_weft_thick_mean = round(narrow_bands['weft_nominal'].mean(), 3)\n",
    "nbands_weft_thick_median = round(narrow_bands['weft_nominal'].median(), 3)\n",
    "nbands_warp_dens_mean = round(narrow_bands['warp_dens'].mean(), 3)\n",
    "nbands_warp_dens_median = round(narrow_bands['warp_dens'].median(), 3)\n",
    "nbands_weft_dens_mean = round(narrow_bands['weft_dens'].mean(), 3)\n",
    "nbands_weft_dens_median = round(narrow_bands['weft_dens'].median(), 3)\n",
    "\n",
    "print()\n",
    "print(\"Узкие бинты:\")\n",
    "print(\"Толщина по основе - среднее значение - \" + str(nbands_warp_thick_mean))\n",
    "print('Толщина по основе - медиана - ' + str(nbands_warp_thick_median))\n",
    "print(\"Толщина по утку - среднее значение - \" + str(nbands_weft_thick_mean))\n",
    "print(\"Толщина по утку - медиана - \" + str(nbands_weft_thick_median))\n",
    "print()\n",
    "print(\"Плотность по основе - среднее значение - \" + str(nbands_warp_dens_mean))\n",
    "print(\"Плотность по основе - медиана - \" + str(nbands_warp_dens_median))\n",
    "print(\"Плотность по утку - среднее значение - \" + str(nbands_weft_dens_mean))\n",
    "print(\"Плотность по утку - медиана - \" + str(nbands_weft_dens_median))\n",
    "\n",
    "mbands_warp_thick_mean = round(middle_bands['warp_nominal'].mean(), 3)\n",
    "mbands_warp_thick_median = round(middle_bands['warp_nominal'].median(), 3)\n",
    "mbands_weft_thick_mean = round(middle_bands['weft_nominal'].mean(), 3)\n",
    "mbands_weft_thick_median = round(middle_bands['weft_nominal'].median(), 3)\n",
    "mbands_warp_dens_mean = round(middle_bands['warp_dens'].mean(), 3)\n",
    "mbands_warp_dens_median = round(middle_bands['warp_dens'].median(), 3)\n",
    "mbands_weft_dens_mean = round(middle_bands['weft_dens'].mean(), 3)\n",
    "mbands_weft_dens_median = round(middle_bands['weft_dens'].median(), 3)\n",
    "\n",
    "print()\n",
    "print(\"Средние бинты:\")\n",
    "print(\"Толщина по основе - среднее значение - \" + str(mbands_warp_thick_mean))\n",
    "print(\"Толщина по основе - медиана - \" + str(mbands_warp_thick_median))\n",
    "print(\"Толщина по утку - среднее значение - \" + str(mbands_weft_thick_mean))\n",
    "print(\"Толщина по утку - медиана - \" + str(mbands_weft_thick_median))\n",
    "print()\n",
    "print(\"Плотность по основе - среднее значение - \" + str(mbands_warp_dens_mean))\n",
    "print(\"Плотность по основе - медиана - \" + str(mbands_warp_dens_median))\n",
    "print(\"Плотность по утку - среднее значение - \" + str(mbands_weft_dens_mean))\n",
    "print(\"Плотность по утку - медиана - \" + str(mbands_weft_dens_median))\n",
    "\n",
    "wbands_warp_thick_mean = round(wide_bands['warp_nominal'].mean(), 3)\n",
    "wbands_warp_thick_median = round(wide_bands['warp_nominal'].median(), 3)\n",
    "wbands_weft_thick_mean = round(wide_bands['weft_nominal'].mean(), 3)\n",
    "wbands_weft_thick_median = round(wide_bands['weft_nominal'].median(), 3)\n",
    "wbands_warp_dens_mean = round(wide_bands['warp_dens'].mean(), 3)\n",
    "wbands_warp_dens_median = round(wide_bands['warp_dens'].median(), 3)\n",
    "wbands_weft_dens_mean = round(wide_bands['weft_dens'].mean(), 3)\n",
    "wbands_weft_dens_median = round(wide_bands['weft_dens'].median(), 3)\n",
    "\n",
    "print()\n",
    "print(\"Широкие бинты:\")\n",
    "print(\"Толщина по основе - среднее значение - \" + str(wbands_warp_thick_mean))\n",
    "print(\"Толщина по основе - медиана - \" + str(wbands_warp_thick_median))\n",
    "print(\"Толщина по утку - среднее значение - \" + str(wbands_weft_thick_mean))\n",
    "print(\"Толщина по утку - медиана - \" + str(wbands_weft_thick_median))\n",
    "print()\n",
    "print(\"Плотность по основе - среднее значение - \" + str(wbands_warp_dens_mean))\n",
    "print(\"Плотность по основе - медиана - \" + str(wbands_warp_dens_median))\n",
    "print(\"Плотность по утку - среднее значение - \" + str(wbands_weft_dens_mean))\n",
    "print(\"Плотность по утку - медиана - \" + str(wbands_weft_dens_median))"
   ],
   "metadata": {
    "collapsed": false,
    "pycharm": {
     "name": "#%%\n",
     "is_executing": false
    }
   }
  },
  {
   "cell_type": "code",
   "execution_count": 14,
   "outputs": [
    {
     "data": {
      "text/plain": "<Figure size 432x288 with 1 Axes>",
      "image/png": "[encoded data removed]"
     },
     "metadata": {
      "needs_background": "light"
     },
     "output_type": "display_data"
    }
   ],
   "source": [
    "wbands_figure, axis = pyplot.subplots()\n",
    "axis.bar([0, 1], [wbands_weft_thick_mean, wbands_weft_dens_mean])\n",
    "pyplot.title('Wide Bands')\n",
    "pyplot.show()"
   ],
   "metadata": {
    "collapsed": false,
    "pycharm": {
     "name": "#%%\n",
     "is_executing": false
    }
   }
  },
  {
   "cell_type": "markdown",
   "source": [
    "### #3 Каков процент рогожки?"
   ],
   "metadata": {
    "collapsed": false,
    "pycharm": {
     "name": "#%% md\n"
    }
   }
  },
  {
   "cell_type": "markdown",
   "source": [
    "### #5 Различаются ли нити основы и нити утка?"
   ],
   "metadata": {
    "collapsed": false,
    "pycharm": {
     "name": "#%% md\n"
    }
   }
  },
  {
   "cell_type": "code",
   "execution_count": 14,
   "outputs": [],
   "source": [],
   "metadata": {
    "collapsed": false,
    "pycharm": {
     "name": "#%%\n",
     "is_executing": false
    }
   }
  },
  {
   "cell_type": "markdown",
   "source": [
    "### #11 Разделить ткани по сбалансированности (сбалансированные - ±3 нити; ткани с преобладанием нитей основы); рассчитать процент каждой группы"
   ],
   "metadata": {
    "collapsed": false
   }
  },
  {
   "cell_type": "code",
   "execution_count": 15,
   "outputs": [
    {
     "name": "stdout",
     "text": [
      "47\n304\n15.460526315789474\n"
     ],
     "output_type": "stream"
    }
   ],
   "source": [
    "balanced = textiles.query(\"(warp_dens <= (weft_dens + 3)) & (warp_dens >= (weft_dens - 3))\")\n",
    "unbalanced = textiles\n",
    "\n",
    "print(len(balanced))\n",
    "print(len(unbalanced))\n",
    "\n",
    "balanced_percent = len(balanced) / len(textiles) * 100\n",
    "print(str(balanced_percent))"
   ],
   "metadata": {
    "collapsed": false,
    "pycharm": {
     "name": "#%%\n",
     "is_executing": false
    }
   }
  },
  {
   "cell_type": "code",
   "execution_count": 15,
   "outputs": [],
   "source": [
    "\n"
   ],
   "metadata": {
    "collapsed": false,
    "pycharm": {
     "name": "#%%\n",
     "is_executing": false
    }
   }
  }
 ],
 "metadata": {
  "kernelspec": {
   "name": "pycharm-724d55c4",
   "language": "python",
   "display_name": "PyCharm (textile_data)"
  },
  "language_info": {
   "codemirror_mode": {
    "name": "ipython",
    "version": 2
   },
   "file_extension": ".py",
   "mimetype": "text/x-python",
   "name": "python",
   "nbconvert_exporter": "python",
   "pygments_lexer": "ipython2",
   "version": "2.7.6"
  },
  "pycharm": {
   "stem_cell": {
    "cell_type": "raw",
    "source": [],
    "metadata": {
     "collapsed": false
    }
   }
  }
 },
 "nbformat": 4,
 "nbformat_minor": 0
}