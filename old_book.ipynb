{
 "cells": [
  {
   "cell_type": "code",
   "execution_count": 6,
   "metadata": {
    "pycharm": {
     "is_executing": false
    }
   },
   "outputs": [],
   "source": [
    "textiles = textile.Textiles('dataframe.csv')"
   ]
  },
  {
   "cell_type": "markdown",
   "metadata": {},
   "source": [
    "## Задачи исследования\n",
    "1. Отличаются ли пелены от бинтов по параметрам?\n",
    "2. Отличаются ли узкие, средние и широкие бинты друг от друга по параметрам?\n",
    "3. Каков процент рогожки?\n",
    "4. Какие группы тканей по качеству получаются?\n",
    "5. Различаются ли нити основы и нити утка?\n",
    "6. Какое количество (процент) тканей высокого качества имеют сбалансированное переплетение?\n",
    "7. Какое количество (процент) тканей среднего качества имеет сбалансированное переплетение?\n",
    "8. Какое количество (процент) тканей ниского качества имеет сбалансированное переплетение?\n",
    "9. Каково соотношение сбалансированных тканей и тканей с преобладанием нитей основы?\n",
    "10. Высчитать \"коэффициент заполняемости\" тканей\n",
    "11. Разделить ткани по сбалансированности (сбалансированные - ±3 нити; ткани с преобладанием нитей основы); рассчитать процент каждой группы"
   ]
  },
  {
   "cell_type": "markdown",
   "metadata": {},
   "source": [
    "### Описание датафрейма\n",
    "1. 'internal_storage' - номер по каталогу\n",
    "2. 'grave' - номер могилы\n",
    "3. 'warp_size' - размер изделия по основе\n",
    "4. 'weft_size' - размер изделия по утку\n",
    "5. 'type' - тип изделия\n",
    "6. 'condition' - сохранность изделия\n",
    "7. 'weaving_technique'\n",
    "8. 'warp_material' - материал нитей основы\n",
    "9. 'weft_material' - материал нитей утка\n",
    "10. 'warp_dyed' - окрашивание нитей основы\n",
    "11. 'weft_dyed' - окрашивание нитей утка\n",
    "12. 'warp_twist' -  крутка нитей основы\n",
    "13. 'weft_twist' - крутка нитей утка\n",
    "14. 'warp_angle'\n",
    "15. 'weft_angle'\n",
    "16. 'warp_a' - толщина нитей основы (нижний предел)\n",
    "17. 'warp_b' - толщина нитей основы (верхний предел)\n",
    "18. 'weft_a' - толщина нитей утка (нижний предел)\n",
    "19. 'weft_b' - толщина нитей утка (верхний предел)\n",
    "20. 'warp_dens' - плотность по основе\n",
    "21. 'weft_dens' - плотность по утку  \n",
    "* * *\n",
    "Числовые параметры - warp_size, wef_size, warp_a, warp_b, weft_a, weft_b, warp_mean, weft_mean, warp_dens, weft_dens"
   ]
  },
  {
   "cell_type": "markdown",
   "metadata": {},
   "source": [
    "## Формирование основного датафрейма"
   ]
  },
  {
   "cell_type": "code",
   "execution_count": 7,
   "metadata": {
    "pycharm": {
     "is_executing": false
    }
   },
   "outputs": [
    {
     "traceback": [
      "\u001b[0;31m---------------------------------------------------------------------------\u001b[0m",
      "\u001b[0;31mNameError\u001b[0m                                 Traceback (most recent call last)",
      "\u001b[0;32m<ipython-input-7-bcca6a990a01>\u001b[0m in \u001b[0;36m<module>\u001b[0;34m\u001b[0m\n\u001b[0;32m----> 1\u001b[0;31m \u001b[0mwarp_mean_quantile_1\u001b[0m\u001b[0;34m,\u001b[0m \u001b[0mwarp_mean_quantile_3\u001b[0m \u001b[0;34m=\u001b[0m \u001b[0mdataframe\u001b[0m\u001b[0;34m.\u001b[0m\u001b[0mwarp_mean\u001b[0m\u001b[0;34m.\u001b[0m\u001b[0mquantile\u001b[0m\u001b[0;34m(\u001b[0m\u001b[0;34m[\u001b[0m\u001b[0;36m0.25\u001b[0m\u001b[0;34m,\u001b[0m \u001b[0;36m0.75\u001b[0m\u001b[0;34m]\u001b[0m\u001b[0;34m)\u001b[0m\u001b[0;34m\u001b[0m\u001b[0;34m\u001b[0m\u001b[0m\n\u001b[0m\u001b[1;32m      2\u001b[0m \u001b[0mweft_mean_quantile_1\u001b[0m\u001b[0;34m,\u001b[0m \u001b[0mweft_mean_quantile_3\u001b[0m \u001b[0;34m=\u001b[0m \u001b[0mdataframe\u001b[0m\u001b[0;34m.\u001b[0m\u001b[0mweft_mean\u001b[0m\u001b[0;34m.\u001b[0m\u001b[0mquantile\u001b[0m\u001b[0;34m(\u001b[0m\u001b[0;34m[\u001b[0m\u001b[0;36m0.25\u001b[0m\u001b[0;34m,\u001b[0m \u001b[0;36m0.75\u001b[0m\u001b[0;34m]\u001b[0m\u001b[0;34m)\u001b[0m\u001b[0;34m\u001b[0m\u001b[0;34m\u001b[0m\u001b[0m\n\u001b[1;32m      3\u001b[0m \u001b[0mwarp_dens_quantile_1\u001b[0m\u001b[0;34m,\u001b[0m \u001b[0mwarp_dens_quantile_3\u001b[0m \u001b[0;34m=\u001b[0m \u001b[0mdataframe\u001b[0m\u001b[0;34m.\u001b[0m\u001b[0mwarp_dens\u001b[0m\u001b[0;34m.\u001b[0m\u001b[0mquantile\u001b[0m\u001b[0;34m(\u001b[0m\u001b[0;34m[\u001b[0m\u001b[0;36m0.25\u001b[0m\u001b[0;34m,\u001b[0m \u001b[0;36m0.75\u001b[0m\u001b[0;34m]\u001b[0m\u001b[0;34m)\u001b[0m\u001b[0;34m\u001b[0m\u001b[0;34m\u001b[0m\u001b[0m\n\u001b[1;32m      4\u001b[0m \u001b[0mweft_dens_quantile_1\u001b[0m\u001b[0;34m,\u001b[0m \u001b[0mweft_dens_quantile_3\u001b[0m \u001b[0;34m=\u001b[0m \u001b[0mdataframe\u001b[0m\u001b[0;34m.\u001b[0m\u001b[0mweft_dens\u001b[0m\u001b[0;34m.\u001b[0m\u001b[0mquantile\u001b[0m\u001b[0;34m(\u001b[0m\u001b[0;34m[\u001b[0m\u001b[0;36m0.25\u001b[0m\u001b[0;34m,\u001b[0m \u001b[0;36m0.75\u001b[0m\u001b[0;34m]\u001b[0m\u001b[0;34m)\u001b[0m\u001b[0;34m\u001b[0m\u001b[0;34m\u001b[0m\u001b[0m\n\u001b[1;32m      5\u001b[0m \u001b[0;34m\u001b[0m\u001b[0m\n",
      "\u001b[0;31mNameError\u001b[0m: name 'dataframe' is not defined"
     ],
     "ename": "NameError",
     "evalue": "name 'dataframe' is not defined",
     "output_type": "error"
    }
   ],
   "source": [
    "warp_mean_quantile_1, warp_mean_quantile_3 = dataframe.warp_mean.quantile([0.25, 0.75])\n",
    "weft_mean_quantile_1, weft_mean_quantile_3 = dataframe.weft_mean.quantile([0.25, 0.75])\n",
    "warp_dens_quantile_1, warp_dens_quantile_3 = dataframe.warp_dens.quantile([0.25, 0.75])\n",
    "weft_dens_quantile_1, weft_dens_quantile_3 = dataframe.weft_dens.quantile([0.25, 0.75])\n",
    "\n",
    "# Исходный объем датафрейма\n",
    "dataframe_length = len(dataframe)\n",
    "print(dataframe_length)\n",
    "\n",
    "# Очистка от \"выбросов\"; Формируется новый датафрейм - очищенный от выбросов - dataframe_cleared;\n",
    "dataframe_cleared = dataframe[dataframe.warp_mean < (warp_mean_quantile_3 + 1.5 * (warp_mean_quantile_3 - warp_mean_quantile_1))]\n",
    "dataframe_cleared = dataframe_cleared[dataframe_cleared.warp_mean > (warp_mean_quantile_1 - 1.5 * (warp_mean_quantile_3 - warp_mean_quantile_1))]\n",
    "dataframe_cleared = dataframe_cleared[dataframe_cleared.weft_mean < (weft_mean_quantile_3 + 1.5 * (weft_mean_quantile_3 - weft_mean_quantile_1))]\n",
    "dataframe_cleared = dataframe_cleared[dataframe_cleared.weft_mean > (weft_mean_quantile_1 - 1.5 * (weft_mean_quantile_3 - weft_mean_quantile_1))]"
   ]
  },
  {
   "cell_type": "markdown",
   "metadata": {},
   "source": [
    "## Формирование датафреймов по группам тканей"
   ]
  },
  {
   "cell_type": "code",
   "execution_count": null,
   "metadata": {
    "pycharm": {
     "is_executing": false
    }
   },
   "outputs": [],
   "source": [
    "# Выборка данных из подготовленного датафрейма;\n",
    "# Предполагается, что для сбалансированных тканей разница между плотностью\n",
    "# по основе и плотностью по утку не должна превышать 3 единиц;\n",
    "balanced = dataframe[abs(dataframe['warp_dens'] - dataframe['weft_dens']) <= 3]\n",
    "unbalanced = dataframe[abs(dataframe['warp_dens'] - dataframe['weft_dens']) > 3]\n",
    "\n",
    "# Ткани с переплетением типа \"рогожка\";\n",
    "baskets = dataframe[dataframe['weaving_technique'] == 'basket']\n",
    "\n",
    "# выборка узких бинтов;\n",
    "narrow_bands = dataframe[dataframe['type'] == 'n_band']\n",
    "\n",
    "# выборка средних бинтов;\n",
    "middle_bands = dataframe[dataframe['type'] == 'm_band']\n",
    "shapiro_middle_bands_warp_mean = stats.shapiro(middle_bands.warp_mean)\n",
    "print(shapiro_middle_bands_warp_mean)\n",
    "\n",
    "# выборка широких бинтов;\n",
    "wide_bands = dataframe[dataframe['type'] == 'w_band']\n",
    "\n",
    "# все бинты (всех типов)\n",
    "all_bands = pandas.concat([narrow_bands, middle_bands, wide_bands])"
   ]
  },
  {
   "cell_type": "markdown",
   "metadata": {},
   "source": [
    "### Описательные статистики для полного датафрейма"
   ]
  },
  {
   "cell_type": "code",
   "execution_count": null,
   "metadata": {
    "pycharm": {
     "is_executing": false
    }
   },
   "outputs": [],
   "source": []
  },
  {
   "cell_type": "markdown",
   "metadata": {},
   "source": [
    "## Графики распределения числовых параметров"
   ]
  },
  {
   "cell_type": "markdown",
   "metadata": {},
   "source": [
    "### 1 - Толщина нитей основы (усредненное значение)"
   ]
  },
  {
   "cell_type": "code",
   "execution_count": null,
   "metadata": {
    "pycharm": {
     "is_executing": false
    }
   },
   "outputs": [],
   "source": [
    "stats.probplot(dataframe_cleared['warp_mean'], dist=\"norm\", plot=pylab)\n",
    "pylab.show()\n",
    "seaborn.distplot(dataframe_cleared['warp_mean'])"
   ]
  },
  {
   "cell_type": "code",
   "execution_count": null,
   "metadata": {
    "pycharm": {
     "is_executing": false
    }
   },
   "outputs": [],
   "source": [
    "seaborn.boxplot(dataframe_cleared['warp_mean'])"
   ]
  },
  {
   "cell_type": "code",
   "execution_count": null,
   "metadata": {
    "pycharm": {
     "is_executing": false
    }
   },
   "outputs": [],
   "source": [
    "shapiro_warp_mean = stats.shapiro(dataframe_cleared.warp_mean.values)\n",
    "shapiro_warp_mean_p_coefficient = shapiro_warp_mean[1]\n",
    "print('{:.20f}'.format(shapiro_warp_mean_p_coefficient))\n",
    "if shapiro_warp_mean_p_coefficient > 0.05:\n",
    "    print('True')\n",
    "else:\n",
    "    print('False')"
   ]
  },
  {
   "cell_type": "markdown",
   "metadata": {},
   "source": [
    "### 2 - Толщина нитей утка (усредненное значение)"
   ]
  },
  {
   "cell_type": "code",
   "execution_count": null,
   "metadata": {
    "pycharm": {
     "is_executing": false
    }
   },
   "outputs": [],
   "source": [
    "stats.probplot(dataframe.weft_mean, dist=\"norm\", plot=pylab)\n",
    "pylab.show()\n",
    "seaborn.distplot(dataframe['weft_mean'])"
   ]
  },
  {
   "cell_type": "code",
   "execution_count": null,
   "metadata": {
    "pycharm": {
     "is_executing": false
    }
   },
   "outputs": [],
   "source": [
    "seaborn.boxplot(dataframe_cleared['weft_mean'])"
   ]
  },
  {
   "cell_type": "code",
   "execution_count": null,
   "metadata": {
    "pycharm": {
     "is_executing": false
    }
   },
   "outputs": [],
   "source": [
    "shapiro_weft_mean = stats.shapiro(dataframe_cleared['weft_mean'].values)\n",
    "shapiro_weft_mean_p_coefficient = shapiro_weft_mean[1]\n",
    "print('{:.20f}'.format(shapiro_weft_mean_p_coefficient))\n",
    "if shapiro_weft_mean_p_coefficient > 0.05:\n",
    "    print('True')\n",
    "else:\n",
    "    print('False')"
   ]
  },
  {
   "cell_type": "markdown",
   "metadata": {},
   "source": [
    "### 3 - Плотность по основе"
   ]
  },
  {
   "cell_type": "code",
   "execution_count": null,
   "metadata": {
    "pycharm": {
     "is_executing": false
    }
   },
   "outputs": [],
   "source": [
    "stats.probplot(dataframe_cleared.warp_dens, dist=\"norm\", plot=pylab)\n",
    "pylab.show()\n",
    "seaborn.distplot(dataframe_cleared['warp_dens'])"
   ]
  },
  {
   "cell_type": "code",
   "execution_count": null,
   "metadata": {
    "pycharm": {
     "is_executing": false
    }
   },
   "outputs": [],
   "source": [
    "seaborn.boxplot(dataframe_cleared['warp_dens'])"
   ]
  },
  {
   "cell_type": "code",
   "execution_count": 10,
   "metadata": {
    "pycharm": {
     "is_executing": false
    }
   },
   "outputs": [
    {
     "traceback": [
      "\u001b[0;31m---------------------------------------------------------------------------\u001b[0m",
      "\u001b[0;31mNameError\u001b[0m                                 Traceback (most recent call last)",
      "\u001b[0;32m<ipython-input-10-d09cd0b28a9f>\u001b[0m in \u001b[0;36m<module>\u001b[0;34m\u001b[0m\n\u001b[0;32m----> 1\u001b[0;31m \u001b[0mshapiro_warp_dens\u001b[0m \u001b[0;34m=\u001b[0m \u001b[0mstats\u001b[0m\u001b[0;34m.\u001b[0m\u001b[0mshapiro\u001b[0m\u001b[0;34m(\u001b[0m\u001b[0mdataframe_cleared\u001b[0m\u001b[0;34m.\u001b[0m\u001b[0mwarp_dens\u001b[0m\u001b[0;34m.\u001b[0m\u001b[0mvalues\u001b[0m\u001b[0;34m)\u001b[0m\u001b[0;34m\u001b[0m\u001b[0;34m\u001b[0m\u001b[0m\n\u001b[0m\u001b[1;32m      2\u001b[0m \u001b[0mshapiro_warp_dens_p_coefficient\u001b[0m \u001b[0;34m=\u001b[0m \u001b[0mshapiro_warp_dens\u001b[0m\u001b[0;34m[\u001b[0m\u001b[0;36m1\u001b[0m\u001b[0;34m]\u001b[0m\u001b[0;34m\u001b[0m\u001b[0;34m\u001b[0m\u001b[0m\n\u001b[1;32m      3\u001b[0m \u001b[0mprint\u001b[0m\u001b[0;34m(\u001b[0m\u001b[0;34m'{:.20f}'\u001b[0m\u001b[0;34m.\u001b[0m\u001b[0mformat\u001b[0m\u001b[0;34m(\u001b[0m\u001b[0mshapiro_warp_dens_p_coefficient\u001b[0m\u001b[0;34m)\u001b[0m\u001b[0;34m)\u001b[0m\u001b[0;34m\u001b[0m\u001b[0;34m\u001b[0m\u001b[0m\n\u001b[1;32m      4\u001b[0m \u001b[0;32mif\u001b[0m \u001b[0mshapiro_warp_dens_p_coefficient\u001b[0m \u001b[0;34m>\u001b[0m \u001b[0;36m0.05\u001b[0m\u001b[0;34m:\u001b[0m\u001b[0;34m\u001b[0m\u001b[0;34m\u001b[0m\u001b[0m\n\u001b[1;32m      5\u001b[0m     \u001b[0mprint\u001b[0m\u001b[0;34m(\u001b[0m\u001b[0;34m'True'\u001b[0m\u001b[0;34m)\u001b[0m\u001b[0;34m\u001b[0m\u001b[0;34m\u001b[0m\u001b[0m\n",
      "\u001b[0;31mNameError\u001b[0m: name 'stats' is not defined"
     ],
     "ename": "NameError",
     "evalue": "name 'stats' is not defined",
     "output_type": "error"
    }
   ],
   "source": [
    "shapiro_warp_dens = stats.shapiro(dataframe_cleared.warp_dens.values)\n",
    "shapiro_warp_dens_p_coefficient = shapiro_warp_dens[1]\n",
    "print('{:.20f}'.format(shapiro_warp_dens_p_coefficient))\n",
    "if shapiro_warp_dens_p_coefficient > 0.05:\n",
    "    print('True')\n",
    "else:\n",
    "    print('False')"
   ]
  },
  {
   "cell_type": "markdown",
   "metadata": {},
   "source": [
    "### 4 - Плотность по утку"
   ]
  },
  {
   "cell_type": "code",
   "execution_count": null,
   "metadata": {
    "pycharm": {
     "is_executing": false
    }
   },
   "outputs": [],
   "source": [
    "stats.probplot(dataframe_cleared.weft_dens, dist=\"norm\", plot=pylab)\n",
    "pylab.show()\n",
    "seaborn.distplot(dataframe_cleared['weft_dens'])"
   ]
  },
  {
   "cell_type": "code",
   "execution_count": null,
   "metadata": {
    "pycharm": {
     "is_executing": false
    }
   },
   "outputs": [],
   "source": [
    "seaborn.boxplot(dataframe_cleared['weft_dens'])"
   ]
  },
  {
   "cell_type": "code",
   "execution_count": null,
   "metadata": {
    "pycharm": {
     "is_executing": false
    }
   },
   "outputs": [],
   "source": [
    "shapiro_weft_dens = stats.shapiro(dataframe_cleared.weft_dens.values)\n",
    "shapiro_weft_dens_p_coefficient = shapiro_weft_dens[1]\n",
    "print('{:.20f}'.format(shapiro_weft_dens_p_coefficient))\n",
    "if shapiro_weft_dens_p_coefficient > 0.05:\n",
    "    print('True')\n",
    "else:\n",
    "    print('False')"
   ]
  },
  {
   "cell_type": "markdown",
   "metadata": {},
   "source": [
    "Распределение основных численных параметров значимо отличается от нормального =>  \n",
    "        применение методов параметрической статистики невозможно"
   ]
  },
  {
   "cell_type": "markdown",
   "metadata": {},
   "source": [
    "### 1 - Отличаются ли пелены от бинтов по параметрам?\n",
    "* * *\n",
    "- Получить датафреймы содержащие только пелены и только бинты (все, независимо от типа)\n",
    "- Рассчитать меры центральной тенденции для обоих наборов\n",
    "* * *"
   ]
  },
  {
   "cell_type": "code",
   "execution_count": null,
   "metadata": {
    "pycharm": {
     "is_executing": false
    }
   },
   "outputs": [],
   "source": []
  },
  {
   "cell_type": "markdown",
   "metadata": {},
   "source": [
    "### 2 - Отличаются ли узкие, средние и широкие бинты по параметрам?\n",
    "* * *"
   ]
  },
  {
   "cell_type": "markdown",
   "metadata": {},
   "source": [
    "### 3 - Какой процент рогожки?\n",
    "* * *"
   ]
  },
  {
   "cell_type": "markdown",
   "metadata": {},
   "source": [
    "### 4 - Какие группы тканей по качеству получаются?\n",
    "* * *"
   ]
  },
  {
   "cell_type": "markdown",
   "metadata": {},
   "source": [
    "### 5 - Различаются ли нити основы и нити утка?\n",
    "* * *"
   ]
  },
  {
   "cell_type": "markdown",
   "metadata": {},
   "source": [
    "### 6 - Какое количество (процент) тканей высокого качества имеют сбалансированное переплетение?\n",
    "* * *"
   ]
  },
  {
   "cell_type": "markdown",
   "metadata": {},
   "source": [
    "### 7 - Какое количество (процент) тканей среднего качества имеет сбалансированное переплетение?\n",
    "* * *"
   ]
  },
  {
   "cell_type": "markdown",
   "metadata": {},
   "source": [
    "### 8 - Какое количество (процент) тканей низкого качества имеет сбалансированное переплетение?\n",
    "* * *"
   ]
  },
  {
   "cell_type": "markdown",
   "metadata": {},
   "source": [
    "### 9 - Каково соотношение сбалансированных тканей и тканей с преобладанием нитей основы?\n",
    "* * *"
   ]
  },
  {
   "cell_type": "markdown",
   "metadata": {},
   "source": [
    "### 10 - Высчитать \"коэффициент заполняемости\" тканей\n",
    "* * *"
   ]
  },
  {
   "cell_type": "markdown",
   "metadata": {},
   "source": [
    "### 11 - Разделить ткани по сбалансированности (сбалансированные - ±3 нити; ткани с преобладанием нитей основы); рассчитать процент каждой группы\n",
    "* * *"
   ]
  },
  {
   "cell_type": "code",
   "execution_count": null,
   "metadata": {
    "pycharm": {
     "is_executing": false
    }
   },
   "outputs": [],
   "source": []
  }
 ],
 "metadata": {
  "kernelspec": {
   "name": "pycharm-724d55c4",
   "language": "python",
   "display_name": "PyCharm (textile_data)"
  },
  "language_info": {
   "codemirror_mode": {
    "name": "ipython",
    "version": 3
   },
   "file_extension": ".py",
   "mimetype": "text/x-python",
   "name": "python",
   "nbconvert_exporter": "python",
   "pygments_lexer": "ipython3",
   "version": "3.7.1"
  },
  "pycharm": {
   "stem_cell": {
    "cell_type": "raw",
    "source": [
     "    #%%\n",
     "\n",
     "import pandas\n",
     "import seaborn\n",
     "import scipy\n",
     "import pylab\n",
     "\n",
     "import modules.textiles as textile\n",
     "\n",
     "import matplotlib.pyplot as pyplot\n",
     "%matplotlib inline\n",
     "\n",
     "import scipy.stats as stats\n"
    ],
    "metadata": {
     "collapsed": false
    }
   }
  }
 },
 "nbformat": 4,
 "nbformat_minor": 2
}