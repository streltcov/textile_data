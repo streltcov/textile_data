{
 "cells": [
  {
   "cell_type": "code",
   "execution_count": 2,
   "metadata": {},
   "outputs": [],
   "source": [
    "import numpy as np\n",
    "import pandas as pd\n",
    "import matplotlib.pyplot as plt\n",
    "\n",
    "%matplotlib inline"
   ]
  },
  {
   "cell_type": "code",
   "execution_count": 3,
   "metadata": {},
   "outputs": [],
   "source": [
    "def quality_1(textiles):\n",
    "    \"\"\"\n",
    "    Фильтрует датафрейм, получая первую группу тканей по качеству (плотность основы выше 25, плотность\n",
    "    утка выше 15);\n",
    "    \"\"\"\n",
    "    quality = textiles.copy(deep=True)\n",
    "    quality = quality.query('warp_dens >= 25 and weft_dens >= 15')\n",
    "    quality = quality.query('warp_nominal >= 0.2 and warp_nominal <= 0.4 and weft_nominal >= 0.2 and weft_nominal <= 0.5')\n",
    "    return quality\n",
    "\n",
    "def quality_2(textiles):\n",
    "    \"\"\"\n",
    "    \n",
    "    Фильтрует датафрейм, получая первую группу тканей по качеству (плотность основы выше 25, плотность\n",
    "    утка выше 15);\n",
    "\n",
    "    Parameters\n",
    "    --------\n",
    "    textiles : pandas DataFrame\n",
    "    \n",
    "    \"\"\"\n",
    "    quality = textiles.copy(deep=True)\n",
    "    quality = quality.query('warp_dens >= 12')\n",
    "    quality = quality.query('warp_dens < 25')\n",
    "    quality = quality.query('weft_dens >= 9')\n",
    "    quality = quality.query('weft_dens < 15')\n",
    "    quality = quality.query('warp_nominal >= 0.2')\n",
    "    quality = quality.query('warp_nominal <= 0.4')\n",
    "    quality = quality.query('weft_nominal >= 0.2')\n",
    "    quality = quality.query('weft_nominal <= 0.5')\n",
    "    return quality\n",
    "\n",
    "def quality_3(textiles, quality_one, quality_three):\n",
    "    \"\"\"\n",
    "    \"\"\"\n",
    "    quality_three = pd.concat([textiles, quality_one]).drop_duplicates(keep=False)\n",
    "    quality_three = pd.concat([textiles, quality_two]).drop_duplicates(keep=False)\n",
    "    return quality"
   ]
  },
  {
   "cell_type": "code",
   "execution_count": 4,
   "metadata": {},
   "outputs": [],
   "source": [
    "def convert_to_float(value):\n",
    "    \"\"\"\n",
    "    Преобразование значений в столбцах датафрейма;\n",
    "    param value: float\n",
    "    :return: float\n",
    "    \"\"\"\n",
    "    value = str(value)\n",
    "    value = value.replace(\",\", \".\")\n",
    "    value = round(float(value), 2)\n",
    "    return value\n",
    "\n",
    "#######################################################################################################################"
   ]
  },
  {
   "cell_type": "code",
   "execution_count": 5,
   "metadata": {},
   "outputs": [],
   "source": [
    "# Загрузка датафрейма из CSV файла;\n",
    "textiles = pd.read_csv('../data/dataframe.csv')\n",
    "\n",
    "\n",
    "# Приведение типов колонок датафрейма к значению с плавающей запятой;\n",
    "textiles['warp_a'] = textiles.warp_a.apply(convert_to_float)\n",
    "textiles['warp_b'] = textiles.warp_b.apply(convert_to_float)\n",
    "textiles['weft_a'] = textiles.weft_a.apply(convert_to_float)\n",
    "textiles['weft_b'] = textiles.weft_b.apply(convert_to_float)\n",
    "\n",
    "# Вычисление \"усредненных\" толщин нитей;\n",
    "textiles['warp_nominal'] = round((textiles['warp_a'] + textiles['warp_b']) / 2, 2)\n",
    "textiles['weft_nominal'] = round((textiles['weft_a'] + textiles['weft_b']) / 2, 2)"
   ]
  },
  {
   "cell_type": "code",
   "execution_count": 6,
   "metadata": {},
   "outputs": [],
   "source": [
    "quality_one = quality_1(textiles)\n",
    "quality_two = quality_2(textiles)\n",
    "quality_three = pd.concat([textiles, quality_one]).drop_duplicates(keep=False)\n",
    "quality_three = pd.concat([textiles, quality_two]).drop_duplicates(keep=False)"
   ]
  },
  {
   "cell_type": "code",
   "execution_count": 7,
   "metadata": {},
   "outputs": [
    {
     "name": "stdout",
     "output_type": "stream",
     "text": [
      "3\n",
      "32\n",
      "272\n"
     ]
    }
   ],
   "source": [
    "print(len(quality_one))\n",
    "print(len(quality_two))\n",
    "print(len(quality_three))"
   ]
  },
  {
   "cell_type": "code",
   "execution_count": 10,
   "metadata": {},
   "outputs": [
    {
     "data": {
      "image/png": "[encoded data removed]",
      "text/plain": [
       "<Figure size 1080x1080 with 1 Axes>"
      ]
     },
     "metadata": {
      "needs_background": "light"
     },
     "output_type": "display_data"
    }
   ],
   "source": [
    "fig, ax = plt.subplots(figsize=[15, 15])\n",
    "\n",
    "ax.scatter(quality_one['warp_nominal'].tolist(), quality_one['weft_nominal'].tolist(), color='coral')\n",
    "ax.scatter(quality_two['warp_nominal'].tolist(), quality_two['weft_nominal'].tolist(), color='blue')\n",
    "ax.scatter(quality_three['warp_nominal'].tolist(), quality_three['weft_nominal'].tolist(), color='green')\n",
    "\n",
    "plt.show()"
   ]
  },
  {
   "cell_type": "code",
   "execution_count": null,
   "metadata": {},
   "outputs": [],
   "source": []
  }
 ],
 "metadata": {
  "kernelspec": {
   "display_name": "Python 3",
   "language": "python",
   "name": "python3"
  },
  "language_info": {
   "codemirror_mode": {
    "name": "ipython",
    "version": 3
   },
   "file_extension": ".py",
   "mimetype": "text/x-python",
   "name": "python",
   "nbconvert_exporter": "python",
   "pygments_lexer": "ipython3",
   "version": "3.7.6"
  }
 },
 "nbformat": 4,
 "nbformat_minor": 4
}
