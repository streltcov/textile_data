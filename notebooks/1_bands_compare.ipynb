{
 "cells": [
  {
   "cell_type": "code",
   "execution_count": 2,
   "metadata": {},
   "outputs": [],
   "source": [
    "import numpy as np\n",
    "import pandas as pd\n",
    "import matplotlib.pyplot as plt\n",
    "\n",
    "%matplotlib inline"
   ]
  },
  {
   "cell_type": "code",
   "execution_count": 3,
   "metadata": {},
   "outputs": [],
   "source": [
    "def convert_to_float(value):\n",
    "    \"\"\"\n",
    "    Transforms argument value to float;\n",
    "    Replaces the comma in a string variable with a dot and rounds the value to two decimal places;\n",
    "    \n",
    "    Parameters\n",
    "    --------\n",
    "    value: float\n",
    "    \n",
    "    Returns\n",
    "    --------\n",
    "    float\n",
    "    \n",
    "    \"\"\"\n",
    "    value = float(str(value).replace(\",\", \".\"))\n",
    "    value = round(value, 2)\n",
    "    return value\n",
    "\n",
    "#######################################################################################################################"
   ]
  },
  {
   "cell_type": "code",
   "execution_count": 5,
   "metadata": {},
   "outputs": [],
   "source": [
    "# Загрузка датафрейма из CSV файла;\n",
    "textiles = pd.read_csv('../data/textiles.csv', sep=';')\n",
    "\n",
    "# Приведение типов колонок датафрейма к значению с плавающей запятой;\n",
    "textiles['warp_a'] = textiles.warp_a.apply(convert_to_float)\n",
    "textiles['warp_b'] = textiles.warp_b.apply(convert_to_float)\n",
    "textiles['weft_a'] = textiles.weft_a.apply(convert_to_float)\n",
    "textiles['weft_b'] = textiles.weft_b.apply(convert_to_float)\n",
    "textiles['warp_mean'] = textiles.warp_mean.apply(convert_to_float)\n",
    "textiles['weft_mean'] = textiles.weft_mean.apply(convert_to_float)\n",
    "textiles['warp_dens'] = textiles.warp_dens.apply(convert_to_float)\n",
    "textiles['weft_dens'] = textiles.weft_dens.apply(convert_to_float)\n",
    "\n",
    "# Вычисление \"усредненных\" толщин нитей;\n",
    "textiles['warp_nominal'] = round((textiles['warp_a'] + textiles['warp_b']) / 2, 2)\n",
    "textiles['weft_nominal'] = round((textiles['weft_a'] + textiles['weft_b']) / 2, 2)"
   ]
  },
  {
   "cell_type": "code",
   "execution_count": 6,
   "metadata": {},
   "outputs": [],
   "source": [
    "\n",
    "# датафрейм - только узкие бинты;\n",
    "n_bands = textiles[textiles['type'] == 'n_band']\n",
    "\n",
    "########################################################################################################################\n",
    "\n",
    "# датафрейм - только средние бинты;\n",
    "m_bands = textiles[textiles['type'] == 'm_band']\n",
    "\n",
    "########################################################################################################################\n",
    "\n",
    "# датафрейм - только широкие бинты;\n",
    "w_bands = textiles[textiles['type'] == 'w_band']\n",
    "\n",
    "########################################################################################################################\n",
    "\n",
    "# датафрейм - бинты всех типов;\n",
    "bands = pd.concat([n_bands, m_bands, w_bands])\n",
    "\n",
    "########################################################################################################################\n",
    "\n",
    "shrouds = textiles[textiles['type'] == 'funeral_shroud']\n",
    "\n",
    "########################################################################################################################"
   ]
  },
  {
   "cell_type": "code",
   "execution_count": 7,
   "metadata": {},
   "outputs": [],
   "source": [
    "# Проценты типов бинтов от общего количества тканей\n",
    "\n",
    "########################################################################################################################\n",
    "\n",
    "# процент узких бинтов - от общего количества тканей;\n",
    "nbands_percent = round((len(n_bands) / len(textiles)) * 100, 2)\n",
    "# процент средних ьинтов - от общего количества тканей;\n",
    "mbands_percent = round((len(m_bands) / len(textiles)) * 100, 2)\n",
    "# процент широких бинтов - от общего количества тканей;\n",
    "wbands_percent = round((len(w_bands) / len(textiles)) * 100, 2)\n",
    "# процент всех бинтов - от общего количества тканей;\n",
    "bands_percent = round((len(bands) / len(textiles)) * 100, 2)\n",
    "# Процент погребальных пелен - от общего количества тканей\n",
    "shrouds_percent = round((len(shrouds) / len(textiles)) * 100, 2)\n",
    "\n",
    "########################################################################################################################"
   ]
  },
  {
   "cell_type": "code",
   "execution_count": null,
   "metadata": {},
   "outputs": [],
   "source": []
  }
 ],
 "metadata": {
  "kernelspec": {
   "display_name": "Python 3",
   "language": "python",
   "name": "python3"
  },
  "language_info": {
   "codemirror_mode": {
    "name": "ipython",
    "version": 3
   },
   "file_extension": ".py",
   "mimetype": "text/x-python",
   "name": "python",
   "nbconvert_exporter": "python",
   "pygments_lexer": "ipython3",
   "version": "3.7.6"
  }
 },
 "nbformat": 4,
 "nbformat_minor": 4
}
