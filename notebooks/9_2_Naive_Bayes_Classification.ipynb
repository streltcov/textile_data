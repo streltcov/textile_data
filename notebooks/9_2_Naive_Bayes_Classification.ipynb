{
 "cells": [
  {
   "cell_type": "code",
   "execution_count": 1,
   "metadata": {},
   "outputs": [],
   "source": [
    "import pandas as pd\n",
    "import matplotlib.pyplot as plt\n",
    "\n",
    "from sklearn.model_selection import train_test_split\n",
    "\n",
    "%matplotlib inline"
   ]
  },
  {
   "cell_type": "code",
   "execution_count": 4,
   "metadata": {},
   "outputs": [],
   "source": [
    "def convert_to_float(value):\n",
    "    \"\"\"\n",
    "    Transforms argument value to float;\n",
    "    Replaces the comma in a string variable with a dot and rounds the value to two decimal places;\n",
    "    \n",
    "    Parameters\n",
    "    --------\n",
    "    value: float\n",
    "    \n",
    "    Returns\n",
    "    --------\n",
    "    float\n",
    "    \n",
    "    \"\"\"\n",
    "    value = float(str(value).replace(\",\", \".\"))\n",
    "    value = round(value, 2)\n",
    "    return value\n",
    "\n",
    "#######################################################################################################################"
   ]
  },
  {
   "cell_type": "code",
   "execution_count": 5,
   "metadata": {},
   "outputs": [],
   "source": [
    "# Загрузка датафрейма из CSV файла;\n",
    "cleared = pd.read_csv('../output/cleared.csv')\n",
    "\n",
    "cleared = cleared[cleared['warp_dens'] < 40]\n",
    "\n",
    "# Приведение типов колонок датафрейма к значению с плавающей запятой;\n",
    "cleared['warp_a'] = cleared.warp_a.apply(convert_to_float)\n",
    "cleared['warp_b'] = cleared.warp_b.apply(convert_to_float)\n",
    "cleared['weft_a'] = cleared.weft_a.apply(convert_to_float)\n",
    "cleared['weft_b'] = cleared.weft_b.apply(convert_to_float)\n",
    "cleared['warp_mean'] = cleared.warp_mean.apply(convert_to_float)\n",
    "cleared['weft_mean'] = cleared.weft_mean.apply(convert_to_float)\n",
    "cleared['warp_dens'] = cleared.warp_dens.apply(convert_to_float)\n",
    "cleared['weft_dens'] = cleared.weft_dens.apply(convert_to_float)\n",
    "\n",
    "# Вычисление \"усредненных\" толщин нитей;\n",
    "cleared['warp_nominal'] = round((cleared['warp_a'] + cleared['warp_b']) / 2, 2)\n",
    "cleared['weft_nominal'] = round((cleared['weft_a'] + cleared['weft_b']) / 2, 2)\n",
    "\n",
    "cleared['dens_coef'] = round(cleared['warp_dens'] / cleared['weft_dens'], 2)\n",
    "cleared['thick_coef'] = round(cleared['warp_nominal'] / cleared['weft_nominal'], 2)"
   ]
  },
  {
   "cell_type": "code",
   "execution_count": null,
   "metadata": {},
   "outputs": [],
   "source": []
  }
 ],
 "metadata": {
  "kernelspec": {
   "display_name": "Python 3",
   "language": "python",
   "name": "python3"
  },
  "language_info": {
   "codemirror_mode": {
    "name": "ipython",
    "version": 3
   },
   "file_extension": ".py",
   "mimetype": "text/x-python",
   "name": "python",
   "nbconvert_exporter": "python",
   "pygments_lexer": "ipython3",
   "version": "3.7.6"
  }
 },
 "nbformat": 4,
 "nbformat_minor": 4
}
