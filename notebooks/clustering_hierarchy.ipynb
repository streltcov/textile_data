{
 "cells": [
  {
   "cell_type": "code",
   "execution_count": 1,
   "metadata": {},
   "outputs": [],
   "source": [
    "import numpy as np\n",
    "import pandas as pd\n",
    "import matplotlib.pyplot as plt\n",
    "\n",
    "from scipy.cluster.hierarchy import linkage, dendrogram\n",
    "\n",
    "%matplotlib inline"
   ]
  },
  {
   "cell_type": "code",
   "execution_count": 2,
   "metadata": {},
   "outputs": [],
   "source": [
    "def convert_to_float(value):\n",
    "    \"\"\"\n",
    "    Преобразование значений в столбцах датафрейма;\n",
    "    :param value: float\n",
    "    :return: float\n",
    "    \"\"\"\n",
    "    value = str(value)\n",
    "    value = value.replace(\",\", \".\")\n",
    "    value = round(float(value), 2)\n",
    "    return value\n",
    "\n",
    "#######################################################################################################################"
   ]
  },
  {
   "cell_type": "code",
   "execution_count": 3,
   "metadata": {},
   "outputs": [],
   "source": [
    "# Загрузка датафрейма из CSV файла;\n",
    "textiles = pd.read_csv('../data/dataframe.csv')\n",
    "\n",
    "# Приведение типов колонок датафрейма к значению с плавающей запятой;\n",
    "textiles['warp_a'] = textiles.warp_a.apply(convert_to_float)\n",
    "textiles['warp_b'] = textiles.warp_b.apply(convert_to_float)\n",
    "textiles['weft_a'] = textiles.weft_a.apply(convert_to_float)\n",
    "textiles['weft_b'] = textiles.weft_b.apply(convert_to_float)\n",
    "\n",
    "# Вычисление \"усредненных\" толщин нитей;\n",
    "textiles['warp_nominal'] = round((textiles['warp_a'] + textiles['warp_b']) / 2, 2)\n",
    "textiles['weft_nominal'] = round((textiles['weft_a'] + textiles['weft_b']) / 2, 2)"
   ]
  },
  {
   "cell_type": "code",
   "execution_count": null,
   "metadata": {},
   "outputs": [],
   "source": []
  }
 ],
 "metadata": {
  "kernelspec": {
   "display_name": "Python 3",
   "language": "python",
   "name": "python3"
  },
  "language_info": {
   "codemirror_mode": {
    "name": "ipython",
    "version": 3
   },
   "file_extension": ".py",
   "mimetype": "text/x-python",
   "name": "python",
   "nbconvert_exporter": "python",
   "pygments_lexer": "ipython3",
   "version": "3.7.6"
  }
 },
 "nbformat": 4,
 "nbformat_minor": 4
}
