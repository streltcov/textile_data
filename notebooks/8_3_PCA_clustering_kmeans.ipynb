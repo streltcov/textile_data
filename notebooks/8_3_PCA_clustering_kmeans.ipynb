{
 "cells": [
  {
   "cell_type": "code",
   "execution_count": 160,
   "metadata": {},
   "outputs": [],
   "source": [
    "import numpy as np\n",
    "import pandas as pd\n",
    "from sklearn import decomposition\n",
    "from sklearn.model_selection import train_test_split\n",
    "from sklearn.decomposition import PCA\n",
    "from sklearn.preprocessing import StandardScaler\n",
    "import matplotlib.pyplot as plt\n",
    "\n",
    "from scipy.cluster.vq import vq, kmeans, kmeans2, whiten\n",
    "\n",
    "%matplotlib inline"
   ]
  },
  {
   "cell_type": "code",
   "execution_count": 350,
   "metadata": {},
   "outputs": [],
   "source": [
    "def convert_to_float(value):\n",
    "    \"\"\"\n",
    "    Transforms argument value to float;\n",
    "    Replaces the comma in a string variable with a dot and rounds the value to two decimal places;\n",
    "    \n",
    "    Parameters\n",
    "    --------\n",
    "    value: float\n",
    "    \n",
    "    Returns\n",
    "    --------\n",
    "    float\n",
    "    \n",
    "    \"\"\"\n",
    "    value = float(str(value).replace(\",\", \".\"))\n",
    "    value = round(value, 2)\n",
    "    return value\n",
    "\n",
    "#######################################################################################################################"
   ]
  },
  {
   "cell_type": "code",
   "execution_count": 351,
   "metadata": {},
   "outputs": [],
   "source": [
    "# Загрузка датафрейма из CSV файла;\n",
    "cleared = pd.read_csv('../output/cleared.csv')\n",
    "\n",
    "cleared = cleared[cleared['warp_dens'] < 40]\n",
    "\n",
    "# Приведение типов колонок датафрейма к значению с плавающей запятой;\n",
    "cleared['warp_a'] = cleared.warp_a.apply(convert_to_float)\n",
    "cleared['warp_b'] = cleared.warp_b.apply(convert_to_float)\n",
    "cleared['weft_a'] = cleared.weft_a.apply(convert_to_float)\n",
    "cleared['weft_b'] = cleared.weft_b.apply(convert_to_float)\n",
    "cleared['warp_mean'] = cleared.warp_mean.apply(convert_to_float)\n",
    "cleared['weft_mean'] = cleared.weft_mean.apply(convert_to_float)\n",
    "cleared['warp_dens'] = cleared.warp_dens.apply(convert_to_float)\n",
    "cleared['weft_dens'] = cleared.weft_dens.apply(convert_to_float)\n",
    "\n",
    "# Вычисление \"усредненных\" толщин нитей;\n",
    "cleared['warp_nominal'] = round((cleared['warp_a'] + cleared['warp_b']) / 2, 2)\n",
    "cleared['weft_nominal'] = round((cleared['weft_a'] + cleared['weft_b']) / 2, 2)\n",
    "\n",
    "cleared['dens_coef'] = round(cleared['warp_dens'] / cleared['weft_dens'], 2)\n",
    "cleared['thick_coef'] = round(cleared['warp_nominal'] / cleared['weft_nominal'], 2)"
   ]
  },
  {
   "cell_type": "code",
   "execution_count": 352,
   "metadata": {},
   "outputs": [
    {
     "name": "stdout",
     "output_type": "stream",
     "text": [
      "273\n",
      "273\n"
     ]
    }
   ],
   "source": [
    "cleared = cleared[['warp_dens', 'weft_dens', 'warp_nominal', 'weft_nominal', 'dens_coef', 'thick_coef', 'type']]\n",
    "\n",
    "print(len(cleared))\n",
    "\n",
    "cleared = cleared.dropna(axis=0)\n",
    "\n",
    "cleared = cleared.copy(deep=True)\n",
    "\n",
    "features = ['warp_dens', 'weft_dens', 'warp_nominal', 'weft_nominal', 'dens_coef', 'thick_coef']\n",
    "\n",
    "# cleared = cleared[features]\n",
    "\n",
    "y = cleared.loc[:,['type']].values\n",
    "\n",
    "print(len(cleared))"
   ]
  },
  {
   "cell_type": "code",
   "execution_count": 353,
   "metadata": {},
   "outputs": [
    {
     "name": "stdout",
     "output_type": "stream",
     "text": [
      "273\n",
      "273\n"
     ]
    },
    {
     "data": {
      "text/html": [
       "<div>\n",
       "<style scoped>\n",
       "    .dataframe tbody tr th:only-of-type {\n",
       "        vertical-align: middle;\n",
       "    }\n",
       "\n",
       "    .dataframe tbody tr th {\n",
       "        vertical-align: top;\n",
       "    }\n",
       "\n",
       "    .dataframe thead th {\n",
       "        text-align: right;\n",
       "    }\n",
       "</style>\n",
       "<table border=\"1\" class=\"dataframe\">\n",
       "  <thead>\n",
       "    <tr style=\"text-align: right;\">\n",
       "      <th></th>\n",
       "      <th>warp_dens</th>\n",
       "      <th>weft_dens</th>\n",
       "      <th>warp_nominal</th>\n",
       "      <th>weft_nominal</th>\n",
       "      <th>dens_coef</th>\n",
       "      <th>thick_coef</th>\n",
       "      <th>type</th>\n",
       "    </tr>\n",
       "  </thead>\n",
       "  <tbody>\n",
       "    <tr>\n",
       "      <th>0</th>\n",
       "      <td>13.0</td>\n",
       "      <td>8.0</td>\n",
       "      <td>0.75</td>\n",
       "      <td>0.75</td>\n",
       "      <td>1.62</td>\n",
       "      <td>1.00</td>\n",
       "      <td>fabric</td>\n",
       "    </tr>\n",
       "    <tr>\n",
       "      <th>1</th>\n",
       "      <td>16.0</td>\n",
       "      <td>10.0</td>\n",
       "      <td>0.40</td>\n",
       "      <td>0.70</td>\n",
       "      <td>1.60</td>\n",
       "      <td>0.57</td>\n",
       "      <td>n_band</td>\n",
       "    </tr>\n",
       "    <tr>\n",
       "      <th>2</th>\n",
       "      <td>18.0</td>\n",
       "      <td>6.0</td>\n",
       "      <td>0.50</td>\n",
       "      <td>0.15</td>\n",
       "      <td>3.00</td>\n",
       "      <td>3.33</td>\n",
       "      <td>fabric</td>\n",
       "    </tr>\n",
       "    <tr>\n",
       "      <th>3</th>\n",
       "      <td>30.0</td>\n",
       "      <td>9.0</td>\n",
       "      <td>0.35</td>\n",
       "      <td>0.40</td>\n",
       "      <td>3.33</td>\n",
       "      <td>0.87</td>\n",
       "      <td>n_band</td>\n",
       "    </tr>\n",
       "    <tr>\n",
       "      <th>4</th>\n",
       "      <td>24.0</td>\n",
       "      <td>10.0</td>\n",
       "      <td>0.50</td>\n",
       "      <td>0.55</td>\n",
       "      <td>2.40</td>\n",
       "      <td>0.91</td>\n",
       "      <td>n_band</td>\n",
       "    </tr>\n",
       "  </tbody>\n",
       "</table>\n",
       "</div>"
      ],
      "text/plain": [
       "   warp_dens  weft_dens  warp_nominal  weft_nominal  dens_coef  thick_coef  \\\n",
       "0       13.0        8.0          0.75          0.75       1.62        1.00   \n",
       "1       16.0       10.0          0.40          0.70       1.60        0.57   \n",
       "2       18.0        6.0          0.50          0.15       3.00        3.33   \n",
       "3       30.0        9.0          0.35          0.40       3.33        0.87   \n",
       "4       24.0       10.0          0.50          0.55       2.40        0.91   \n",
       "\n",
       "     type  \n",
       "0  fabric  \n",
       "1  n_band  \n",
       "2  fabric  \n",
       "3  n_band  \n",
       "4  n_band  "
      ]
     },
     "execution_count": 353,
     "metadata": {},
     "output_type": "execute_result"
    }
   ],
   "source": [
    "x = cleared.loc[:, features].values\n",
    "\n",
    "print(len(x))\n",
    "print(len(y))\n",
    "\n",
    "cleared.head()"
   ]
  },
  {
   "cell_type": "code",
   "execution_count": 354,
   "metadata": {},
   "outputs": [],
   "source": [
    "x = StandardScaler().fit_transform(x)"
   ]
  },
  {
   "cell_type": "code",
   "execution_count": 355,
   "metadata": {},
   "outputs": [
    {
     "data": {
      "text/html": [
       "<div>\n",
       "<style scoped>\n",
       "    .dataframe tbody tr th:only-of-type {\n",
       "        vertical-align: middle;\n",
       "    }\n",
       "\n",
       "    .dataframe tbody tr th {\n",
       "        vertical-align: top;\n",
       "    }\n",
       "\n",
       "    .dataframe thead th {\n",
       "        text-align: right;\n",
       "    }\n",
       "</style>\n",
       "<table border=\"1\" class=\"dataframe\">\n",
       "  <thead>\n",
       "    <tr style=\"text-align: right;\">\n",
       "      <th></th>\n",
       "      <th>warp_dens</th>\n",
       "      <th>weft_dens</th>\n",
       "      <th>warp_nominal</th>\n",
       "      <th>weft_nominal</th>\n",
       "      <th>dens_coef</th>\n",
       "      <th>thick_coef</th>\n",
       "    </tr>\n",
       "  </thead>\n",
       "  <tbody>\n",
       "    <tr>\n",
       "      <th>0</th>\n",
       "      <td>-0.933806</td>\n",
       "      <td>-0.708623</td>\n",
       "      <td>2.269443</td>\n",
       "      <td>1.732821</td>\n",
       "      <td>-0.644329</td>\n",
       "      <td>0.192203</td>\n",
       "    </tr>\n",
       "    <tr>\n",
       "      <th>1</th>\n",
       "      <td>-0.538771</td>\n",
       "      <td>0.118104</td>\n",
       "      <td>-0.558851</td>\n",
       "      <td>1.374442</td>\n",
       "      <td>-0.671350</td>\n",
       "      <td>-1.536738</td>\n",
       "    </tr>\n",
       "    <tr>\n",
       "      <th>2</th>\n",
       "      <td>-0.275415</td>\n",
       "      <td>-1.535349</td>\n",
       "      <td>0.249233</td>\n",
       "      <td>-2.567725</td>\n",
       "      <td>1.220069</td>\n",
       "      <td>9.560651</td>\n",
       "    </tr>\n",
       "    <tr>\n",
       "      <th>3</th>\n",
       "      <td>1.304724</td>\n",
       "      <td>-0.295259</td>\n",
       "      <td>-0.962893</td>\n",
       "      <td>-0.775831</td>\n",
       "      <td>1.665903</td>\n",
       "      <td>-0.330500</td>\n",
       "    </tr>\n",
       "    <tr>\n",
       "      <th>4</th>\n",
       "      <td>0.514654</td>\n",
       "      <td>0.118104</td>\n",
       "      <td>0.249233</td>\n",
       "      <td>0.299305</td>\n",
       "      <td>0.409461</td>\n",
       "      <td>-0.169669</td>\n",
       "    </tr>\n",
       "  </tbody>\n",
       "</table>\n",
       "</div>"
      ],
      "text/plain": [
       "   warp_dens  weft_dens  warp_nominal  weft_nominal  dens_coef  thick_coef\n",
       "0  -0.933806  -0.708623      2.269443      1.732821  -0.644329    0.192203\n",
       "1  -0.538771   0.118104     -0.558851      1.374442  -0.671350   -1.536738\n",
       "2  -0.275415  -1.535349      0.249233     -2.567725   1.220069    9.560651\n",
       "3   1.304724  -0.295259     -0.962893     -0.775831   1.665903   -0.330500\n",
       "4   0.514654   0.118104      0.249233      0.299305   0.409461   -0.169669"
      ]
     },
     "execution_count": 355,
     "metadata": {},
     "output_type": "execute_result"
    }
   ],
   "source": [
    "pd.DataFrame(data=x, columns=features).head()"
   ]
  },
  {
   "cell_type": "code",
   "execution_count": 356,
   "metadata": {},
   "outputs": [],
   "source": [
    "pca = PCA(n_components=2)"
   ]
  },
  {
   "cell_type": "code",
   "execution_count": 357,
   "metadata": {},
   "outputs": [],
   "source": [
    "principalComponents = pca.fit_transform(x)"
   ]
  },
  {
   "cell_type": "code",
   "execution_count": 358,
   "metadata": {},
   "outputs": [],
   "source": [
    "# help(pca)"
   ]
  },
  {
   "cell_type": "code",
   "execution_count": 359,
   "metadata": {},
   "outputs": [],
   "source": [
    "principalDf = pd.DataFrame(data=principalComponents, columns=['principal component 1', 'principal component 2'])"
   ]
  },
  {
   "cell_type": "code",
   "execution_count": 360,
   "metadata": {},
   "outputs": [
    {
     "data": {
      "text/html": [
       "<div>\n",
       "<style scoped>\n",
       "    .dataframe tbody tr th:only-of-type {\n",
       "        vertical-align: middle;\n",
       "    }\n",
       "\n",
       "    .dataframe tbody tr th {\n",
       "        vertical-align: top;\n",
       "    }\n",
       "\n",
       "    .dataframe thead th {\n",
       "        text-align: right;\n",
       "    }\n",
       "</style>\n",
       "<table border=\"1\" class=\"dataframe\">\n",
       "  <thead>\n",
       "    <tr style=\"text-align: right;\">\n",
       "      <th></th>\n",
       "      <th>principal component 1</th>\n",
       "      <th>principal component 2</th>\n",
       "    </tr>\n",
       "  </thead>\n",
       "  <tbody>\n",
       "    <tr>\n",
       "      <th>0</th>\n",
       "      <td>2.854995</td>\n",
       "      <td>0.287855</td>\n",
       "    </tr>\n",
       "    <tr>\n",
       "      <th>1</th>\n",
       "      <td>1.067840</td>\n",
       "      <td>-1.333582</td>\n",
       "    </tr>\n",
       "    <tr>\n",
       "      <th>2</th>\n",
       "      <td>-1.826417</td>\n",
       "      <td>7.000243</td>\n",
       "    </tr>\n",
       "    <tr>\n",
       "      <th>3</th>\n",
       "      <td>-1.996446</td>\n",
       "      <td>-1.191876</td>\n",
       "    </tr>\n",
       "    <tr>\n",
       "      <th>4</th>\n",
       "      <td>-0.185952</td>\n",
       "      <td>-0.383221</td>\n",
       "    </tr>\n",
       "  </tbody>\n",
       "</table>\n",
       "</div>"
      ],
      "text/plain": [
       "   principal component 1  principal component 2\n",
       "0               2.854995               0.287855\n",
       "1               1.067840              -1.333582\n",
       "2              -1.826417               7.000243\n",
       "3              -1.996446              -1.191876\n",
       "4              -0.185952              -0.383221"
      ]
     },
     "execution_count": 360,
     "metadata": {},
     "output_type": "execute_result"
    }
   ],
   "source": [
    "principalDf.head(5)"
   ]
  },
  {
   "cell_type": "code",
   "execution_count": 361,
   "metadata": {},
   "outputs": [
    {
     "data": {
      "text/html": [
       "<div>\n",
       "<style scoped>\n",
       "    .dataframe tbody tr th:only-of-type {\n",
       "        vertical-align: middle;\n",
       "    }\n",
       "\n",
       "    .dataframe tbody tr th {\n",
       "        vertical-align: top;\n",
       "    }\n",
       "\n",
       "    .dataframe thead th {\n",
       "        text-align: right;\n",
       "    }\n",
       "</style>\n",
       "<table border=\"1\" class=\"dataframe\">\n",
       "  <thead>\n",
       "    <tr style=\"text-align: right;\">\n",
       "      <th></th>\n",
       "      <th>type</th>\n",
       "    </tr>\n",
       "  </thead>\n",
       "  <tbody>\n",
       "    <tr>\n",
       "      <th>0</th>\n",
       "      <td>fabric</td>\n",
       "    </tr>\n",
       "    <tr>\n",
       "      <th>1</th>\n",
       "      <td>n_band</td>\n",
       "    </tr>\n",
       "    <tr>\n",
       "      <th>2</th>\n",
       "      <td>fabric</td>\n",
       "    </tr>\n",
       "    <tr>\n",
       "      <th>3</th>\n",
       "      <td>n_band</td>\n",
       "    </tr>\n",
       "    <tr>\n",
       "      <th>4</th>\n",
       "      <td>n_band</td>\n",
       "    </tr>\n",
       "  </tbody>\n",
       "</table>\n",
       "</div>"
      ],
      "text/plain": [
       "     type\n",
       "0  fabric\n",
       "1  n_band\n",
       "2  fabric\n",
       "3  n_band\n",
       "4  n_band"
      ]
     },
     "execution_count": 361,
     "metadata": {},
     "output_type": "execute_result"
    }
   ],
   "source": [
    "cleared[['type']].head()"
   ]
  },
  {
   "cell_type": "code",
   "execution_count": 367,
   "metadata": {},
   "outputs": [
    {
     "data": {
      "text/html": [
       "<div>\n",
       "<style scoped>\n",
       "    .dataframe tbody tr th:only-of-type {\n",
       "        vertical-align: middle;\n",
       "    }\n",
       "\n",
       "    .dataframe tbody tr th {\n",
       "        vertical-align: top;\n",
       "    }\n",
       "\n",
       "    .dataframe thead th {\n",
       "        text-align: right;\n",
       "    }\n",
       "</style>\n",
       "<table border=\"1\" class=\"dataframe\">\n",
       "  <thead>\n",
       "    <tr style=\"text-align: right;\">\n",
       "      <th></th>\n",
       "      <th>principal component 1</th>\n",
       "      <th>principal component 2</th>\n",
       "      <th>type</th>\n",
       "    </tr>\n",
       "  </thead>\n",
       "  <tbody>\n",
       "    <tr>\n",
       "      <th>0</th>\n",
       "      <td>2.854995</td>\n",
       "      <td>0.287855</td>\n",
       "      <td>fabric</td>\n",
       "    </tr>\n",
       "    <tr>\n",
       "      <th>1</th>\n",
       "      <td>1.067840</td>\n",
       "      <td>-1.333582</td>\n",
       "      <td>n_band</td>\n",
       "    </tr>\n",
       "    <tr>\n",
       "      <th>2</th>\n",
       "      <td>-1.826417</td>\n",
       "      <td>7.000243</td>\n",
       "      <td>fabric</td>\n",
       "    </tr>\n",
       "    <tr>\n",
       "      <th>3</th>\n",
       "      <td>-1.996446</td>\n",
       "      <td>-1.191876</td>\n",
       "      <td>n_band</td>\n",
       "    </tr>\n",
       "    <tr>\n",
       "      <th>4</th>\n",
       "      <td>-0.185952</td>\n",
       "      <td>-0.383221</td>\n",
       "      <td>n_band</td>\n",
       "    </tr>\n",
       "  </tbody>\n",
       "</table>\n",
       "</div>"
      ],
      "text/plain": [
       "   principal component 1  principal component 2    type\n",
       "0               2.854995               0.287855  fabric\n",
       "1               1.067840              -1.333582  n_band\n",
       "2              -1.826417               7.000243  fabric\n",
       "3              -1.996446              -1.191876  n_band\n",
       "4              -0.185952              -0.383221  n_band"
      ]
     },
     "execution_count": 367,
     "metadata": {},
     "output_type": "execute_result"
    }
   ],
   "source": [
    "finalDf = pd.concat([principalDf, cleared[['type']]], axis = 1)\n",
    "finalDf.head(5)"
   ]
  },
  {
   "cell_type": "code",
   "execution_count": 370,
   "metadata": {},
   "outputs": [
    {
     "name": "stdout",
     "output_type": "stream",
     "text": [
      "273\n",
      "273\n",
      "273\n"
     ]
    },
    {
     "data": {
      "text/html": [
       "<div>\n",
       "<style scoped>\n",
       "    .dataframe tbody tr th:only-of-type {\n",
       "        vertical-align: middle;\n",
       "    }\n",
       "\n",
       "    .dataframe tbody tr th {\n",
       "        vertical-align: top;\n",
       "    }\n",
       "\n",
       "    .dataframe thead th {\n",
       "        text-align: right;\n",
       "    }\n",
       "</style>\n",
       "<table border=\"1\" class=\"dataframe\">\n",
       "  <thead>\n",
       "    <tr style=\"text-align: right;\">\n",
       "      <th></th>\n",
       "      <th>principal component 1</th>\n",
       "      <th>principal component 2</th>\n",
       "      <th>type</th>\n",
       "    </tr>\n",
       "  </thead>\n",
       "  <tbody>\n",
       "    <tr>\n",
       "      <th>0</th>\n",
       "      <td>2.854995</td>\n",
       "      <td>0.287855</td>\n",
       "      <td>fabric</td>\n",
       "    </tr>\n",
       "    <tr>\n",
       "      <th>1</th>\n",
       "      <td>1.067840</td>\n",
       "      <td>-1.333582</td>\n",
       "      <td>n_band</td>\n",
       "    </tr>\n",
       "    <tr>\n",
       "      <th>2</th>\n",
       "      <td>-1.826417</td>\n",
       "      <td>7.000243</td>\n",
       "      <td>fabric</td>\n",
       "    </tr>\n",
       "    <tr>\n",
       "      <th>3</th>\n",
       "      <td>-1.996446</td>\n",
       "      <td>-1.191876</td>\n",
       "      <td>n_band</td>\n",
       "    </tr>\n",
       "    <tr>\n",
       "      <th>4</th>\n",
       "      <td>-0.185952</td>\n",
       "      <td>-0.383221</td>\n",
       "      <td>n_band</td>\n",
       "    </tr>\n",
       "    <tr>\n",
       "      <th>...</th>\n",
       "      <td>...</td>\n",
       "      <td>...</td>\n",
       "      <td>...</td>\n",
       "    </tr>\n",
       "    <tr>\n",
       "      <th>268</th>\n",
       "      <td>-0.493291</td>\n",
       "      <td>1.732581</td>\n",
       "      <td>funeral_shroud</td>\n",
       "    </tr>\n",
       "    <tr>\n",
       "      <th>269</th>\n",
       "      <td>0.504162</td>\n",
       "      <td>-0.008258</td>\n",
       "      <td>f_strip</td>\n",
       "    </tr>\n",
       "    <tr>\n",
       "      <th>270</th>\n",
       "      <td>-0.868077</td>\n",
       "      <td>2.000880</td>\n",
       "      <td>n_band</td>\n",
       "    </tr>\n",
       "    <tr>\n",
       "      <th>271</th>\n",
       "      <td>-0.868077</td>\n",
       "      <td>2.000880</td>\n",
       "      <td>funeral_shroud</td>\n",
       "    </tr>\n",
       "    <tr>\n",
       "      <th>272</th>\n",
       "      <td>-1.501769</td>\n",
       "      <td>1.630696</td>\n",
       "      <td>funeral_shroud</td>\n",
       "    </tr>\n",
       "  </tbody>\n",
       "</table>\n",
       "<p>273 rows × 3 columns</p>\n",
       "</div>"
      ],
      "text/plain": [
       "     principal component 1  principal component 2            type\n",
       "0                 2.854995               0.287855          fabric\n",
       "1                 1.067840              -1.333582          n_band\n",
       "2                -1.826417               7.000243          fabric\n",
       "3                -1.996446              -1.191876          n_band\n",
       "4                -0.185952              -0.383221          n_band\n",
       "..                     ...                    ...             ...\n",
       "268              -0.493291               1.732581  funeral_shroud\n",
       "269               0.504162              -0.008258         f_strip\n",
       "270              -0.868077               2.000880          n_band\n",
       "271              -0.868077               2.000880  funeral_shroud\n",
       "272              -1.501769               1.630696  funeral_shroud\n",
       "\n",
       "[273 rows x 3 columns]"
      ]
     },
     "execution_count": 370,
     "metadata": {},
     "output_type": "execute_result"
    }
   ],
   "source": [
    "print(len(principalDf))\n",
    "print(len(cleared[['type']]))\n",
    "\n",
    "finalDf.drop(finalDf.tail(1).index,inplace=True)\n",
    "\n",
    "# finalDf = finalDf.dropna(axis=0)\n",
    "\n",
    "print(len(finalDf))\n",
    "\n",
    "finalDf"
   ]
  },
  {
   "cell_type": "code",
   "execution_count": 371,
   "metadata": {},
   "outputs": [
    {
     "data": {
      "image/png": "[encoded data removed]",
      "text/plain": [
       "<Figure size 720x720 with 1 Axes>"
      ]
     },
     "metadata": {
      "needs_background": "light"
     },
     "output_type": "display_data"
    }
   ],
   "source": [
    "fig = plt.figure(figsize = (10, 10))\n",
    "ax = fig.add_subplot(1,1,1) \n",
    "ax.set_xlabel('Principal Component 1', fontsize = 15)\n",
    "ax.set_ylabel('Principal Component 2', fontsize = 15)\n",
    "ax.set_title('2 Component PCA', fontsize = 20)\n",
    "\n",
    "types = list(set(cleared.type))\n",
    "\n",
    "ax.scatter(finalDf['principal component 1'].tolist(), finalDf['principal component 2'].tolist())\n",
    "\n",
    "n_bands = finalDf[finalDf['type'] == 'n_band']\n",
    "m_bands = finalDf[finalDf['type'] == 'm_band']\n",
    "w_bands = finalDf[finalDf['type'] == 'w_band']\n",
    "\n",
    "shrouds = finalDf[finalDf['type'] == 'funeral_shroud']\n",
    "\n",
    "ax.scatter(n_bands['principal component 1'].tolist(), n_bands['principal component 2'].tolist(), color='blue')\n",
    "ax.scatter(m_bands['principal component 1'].tolist(), m_bands['principal component 2'].tolist(), color='green')\n",
    "ax.scatter(w_bands['principal component 1'].tolist(), w_bands['principal component 2'].tolist(), color='yellow')\n",
    "ax.scatter(shrouds['principal component 1'].tolist(), shrouds['principal component 2'].tolist(), color='red')\n",
    "\n",
    "ax.grid()\n",
    "\n",
    "plt.show()"
   ]
  },
  {
   "cell_type": "code",
   "execution_count": 372,
   "metadata": {},
   "outputs": [],
   "source": [
    "# Получение нормальзованных значений параметров для кластеризации;\n",
    "whitened = whiten(list(zip(finalDf['principal component 1'].tolist(), finalDf['principal component 2'].tolist())))\n",
    "\n",
    "# получаем центроиды и метки кластеров;\n",
    "centroids, labels = kmeans2(whitened, 3, iter=100)\n",
    "\n",
    "finalDf['labels'] = labels"
   ]
  },
  {
   "cell_type": "code",
   "execution_count": 373,
   "metadata": {},
   "outputs": [],
   "source": [
    "cluster_1 = finalDf[finalDf['labels'] == 0]\n",
    "cluster_2 = finalDf[finalDf['labels'] == 1]\n",
    "cluster_3 = finalDf[finalDf['labels'] == 2]\n",
    "# cluster_4 = finalDf[finalDf['labels'] == 3]\n",
    "# cluster_5 = finalDf[finalDf['labels'] == 4]"
   ]
  },
  {
   "cell_type": "code",
   "execution_count": 374,
   "metadata": {},
   "outputs": [
    {
     "name": "stdout",
     "output_type": "stream",
     "text": [
      "95\n",
      "97\n",
      "81\n"
     ]
    }
   ],
   "source": [
    "print(len(cluster_1))\n",
    "print(len(cluster_2))\n",
    "print(len(cluster_3))\n",
    "# print(len(cluster_4))\n",
    "# print(len(cluster_5))"
   ]
  },
  {
   "cell_type": "code",
   "execution_count": 375,
   "metadata": {},
   "outputs": [
    {
     "data": {
      "image/png": "[encoded data removed]",
      "text/plain": [
       "<Figure size 864x864 with 1 Axes>"
      ]
     },
     "metadata": {
      "needs_background": "light"
     },
     "output_type": "display_data"
    }
   ],
   "source": [
    "fig, ax = plt.subplots(figsize=(12, 12))\n",
    "\n",
    "ax.scatter(cluster_1['principal component 1'].tolist(), cluster_1['principal component 2'].tolist(), color='red')\n",
    "ax.scatter(cluster_2['principal component 1'].tolist(), cluster_2['principal component 2'].tolist(), color='blue')\n",
    "ax.scatter(cluster_3['principal component 1'].tolist(), cluster_3['principal component 2'].tolist(), color='green')\n",
    "# ax.scatter(cluster_4['principal component 1'].tolist(), cluster_4['principal component 2'].tolist(), color='yellow')\n",
    "# ax.scatter(cluster_5['principal component 1'].tolist(), cluster_5['principal component 2'].tolist(), color='gray')\n",
    "\n",
    "plt.show()"
   ]
  },
  {
   "cell_type": "code",
   "execution_count": 376,
   "metadata": {},
   "outputs": [],
   "source": [
    "cleared['labels'] = labels"
   ]
  },
  {
   "cell_type": "code",
   "execution_count": 377,
   "metadata": {},
   "outputs": [],
   "source": [
    "cluster_1 = cleared[cleared['labels'] == 0]\n",
    "cluster_2 = cleared[cleared['labels'] == 1]\n",
    "cluster_3 = cleared[cleared['labels'] == 2]\n",
    "# cluster_4 = cleared[cleared['labels'] == 3]\n",
    "# cluster_5 = cleared[cleared['labels'] == 4]"
   ]
  },
  {
   "cell_type": "code",
   "execution_count": 378,
   "metadata": {},
   "outputs": [
    {
     "name": "stdout",
     "output_type": "stream",
     "text": [
      "12.947368421052632\n",
      "8.105263157894736\n",
      "0.5710526315789475\n",
      "0.645263157894737\n",
      "===================================\n",
      "22.0\n",
      "8.0\n",
      "12.0\n",
      "4.0\n"
     ]
    }
   ],
   "source": [
    "print(cluster_1.warp_dens.mean())\n",
    "print(cluster_1.weft_dens.mean())\n",
    "print(cluster_1.warp_nominal.mean())\n",
    "print(cluster_1.weft_nominal.mean())\n",
    "print(\"===================================\")\n",
    "print(cluster_1.warp_dens.max())\n",
    "print(cluster_1.warp_dens.min())\n",
    "print(cluster_1.weft_dens.max())\n",
    "print(cluster_1.weft_dens.min())"
   ]
  },
  {
   "cell_type": "code",
   "execution_count": 379,
   "metadata": {},
   "outputs": [
    {
     "name": "stdout",
     "output_type": "stream",
     "text": [
      "27.1340206185567\n",
      "10.02061855670103\n",
      "0.3869072164948454\n",
      "0.4597938144329898\n",
      "===================================\n",
      "36.0\n",
      "12.0\n",
      "15.0\n",
      "5.0\n"
     ]
    }
   ],
   "source": [
    "print(cluster_2.warp_dens.mean())\n",
    "print(cluster_2.weft_dens.mean())\n",
    "print(cluster_2.warp_nominal.mean())\n",
    "print(cluster_2.weft_nominal.mean())\n",
    "print(\"===================================\")\n",
    "print(cluster_2.warp_dens.max())\n",
    "print(cluster_2.warp_dens.min())\n",
    "print(cluster_2.weft_dens.max())\n",
    "print(cluster_2.weft_dens.min())"
   ]
  },
  {
   "cell_type": "code",
   "execution_count": 380,
   "metadata": {},
   "outputs": [
    {
     "name": "stdout",
     "output_type": "stream",
     "text": [
      "20.037037037037038\n",
      "11.234567901234568\n",
      "0.40555555555555556\n",
      "0.44814814814814813\n",
      "===================================\n",
      "36.0\n",
      "9.0\n",
      "16.0\n",
      "6.0\n"
     ]
    }
   ],
   "source": [
    "print(cluster_3.warp_dens.mean())\n",
    "print(cluster_3.weft_dens.mean())\n",
    "print(cluster_3.weft_nominal.mean())\n",
    "print(cluster_3.warp_nominal.mean())\n",
    "print(\"===================================\")\n",
    "print(cluster_3.warp_dens.max())\n",
    "print(cluster_3.warp_dens.min())\n",
    "print(cluster_3.weft_dens.max())\n",
    "print(cluster_3.weft_dens.min())"
   ]
  },
  {
   "cell_type": "code",
   "execution_count": 381,
   "metadata": {},
   "outputs": [],
   "source": [
    "# print(cluster_4.warp_dens.mean())\n",
    "# print(cluster_4.weft_dens.mean())\n",
    "# print(cluster_4.weft_nominal.mean())\n",
    "# print(cluster_4.warp_nominal.mean())\n",
    "# print(\"===================================\")\n",
    "# print(cluster_4.warp_dens.max())\n",
    "# print(cluster_4.warp_dens.min())\n",
    "# print(cluster_4.weft_dens.max())\n",
    "# print(cluster_4.weft_dens.min())"
   ]
  },
  {
   "cell_type": "code",
   "execution_count": 382,
   "metadata": {},
   "outputs": [],
   "source": [
    "# print(cluster_5.warp_dens.mean())\n",
    "# print(cluster_5.weft_dens.mean())\n",
    "# print(cluster_5.weft_nominal.mean())\n",
    "# print(cluster_5.warp_nominal.mean())\n",
    "# print(\"===================================\")\n",
    "# print(cluster_5.warp_dens.max())\n",
    "# print(cluster_5.warp_dens.min())\n",
    "# print(cluster_5.weft_dens.max())\n",
    "# print(cluster_5.weft_dens.min())"
   ]
  },
  {
   "cell_type": "code",
   "execution_count": 383,
   "metadata": {},
   "outputs": [
    {
     "data": {
      "image/png": "[encoded data removed]",
      "text/plain": [
       "<Figure size 864x1224 with 2 Axes>"
      ]
     },
     "metadata": {
      "needs_background": "light"
     },
     "output_type": "display_data"
    }
   ],
   "source": [
    "fig, ax = plt.subplots(2, 1, figsize=(12, 17))\n",
    "\n",
    "ax[0].scatter(cluster_1['warp_nominal'].tolist(), cluster_1['weft_nominal'].tolist(), marker='*', color='blue')\n",
    "ax[0].scatter(cluster_2['warp_nominal'].tolist(), cluster_2['weft_nominal'].tolist(), marker='o', color='green')\n",
    "ax[0].scatter(cluster_3['warp_nominal'].tolist(), cluster_3['weft_nominal'].tolist(), marker='.', color='gray')\n",
    "# ax[0].scatter(cluster_4['warp_nominal'].tolist(), cluster_4['weft_nominal'].tolist(), marker='o', color='yellow')\n",
    "# ax[0].scatter(cluster_5['warp_nominal'].tolist(), cluster_5['weft_nominal'].tolist(), marker='.', color='gray')\n",
    "\n",
    "ax[1].scatter(cluster_1['warp_dens'].tolist(), cluster_1['weft_dens'].tolist(), marker='*', color='blue')\n",
    "ax[1].scatter(cluster_2['warp_dens'].tolist(), cluster_2['weft_dens'].tolist(), marker='o', color='green')\n",
    "ax[1].scatter(cluster_3['warp_dens'].tolist(), cluster_3['weft_dens'].tolist(), marker='.', color='gray')\n",
    "# ax[1].scatter(cluster_4['warp_dens'].tolist(), cluster_4['weft_dens'].tolist(), marker='o', color='yellow')\n",
    "# ax[1].scatter(cluster_5['warp_dens'].tolist(), cluster_5['weft_dens'].tolist(), marker='.', color='gray')\n",
    "\n",
    "plt.show()"
   ]
  },
  {
   "cell_type": "code",
   "execution_count": 386,
   "metadata": {},
   "outputs": [],
   "source": [
    "features = ['warp_dens', 'weft_dens', 'warp_nominal', 'weft_nominal']"
   ]
  },
  {
   "cell_type": "code",
   "execution_count": 387,
   "metadata": {},
   "outputs": [],
   "source": [
    "cluster_1 = cluster_1[features]\n",
    "cluster_2 = cluster_2[features]\n",
    "cluster_3 = cluster_3[features]"
   ]
  },
  {
   "cell_type": "code",
   "execution_count": 389,
   "metadata": {},
   "outputs": [],
   "source": [
    "cluster_1.to_excel('../output/pca_clusters/cluster_1.xls')\n",
    "cluster_2.to_excel('../output/pca_clusters/cluster_2.xls')\n",
    "cluster_3.to_excel('../output/pca_clusters/cluster_3.xls')"
   ]
  },
  {
   "cell_type": "code",
   "execution_count": null,
   "metadata": {},
   "outputs": [],
   "source": []
  }
 ],
 "metadata": {
  "kernelspec": {
   "display_name": "Python 3",
   "language": "python",
   "name": "python3"
  },
  "language_info": {
   "codemirror_mode": {
    "name": "ipython",
    "version": 3
   },
   "file_extension": ".py",
   "mimetype": "text/x-python",
   "name": "python",
   "nbconvert_exporter": "python",
   "pygments_lexer": "ipython3",
   "version": "3.7.6"
  }
 },
 "nbformat": 4,
 "nbformat_minor": 4
}
