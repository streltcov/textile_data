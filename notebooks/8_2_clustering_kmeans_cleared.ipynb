{
 "cells": [
  {
   "cell_type": "code",
   "execution_count": 1,
   "metadata": {},
   "outputs": [],
   "source": [
    "import numpy as np\n",
    "import pandas as pd\n",
    "import matplotlib.pyplot as plt\n",
    "\n",
    "from scipy.cluster.vq import vq, kmeans, kmeans2, whiten\n",
    "\n",
    "%matplotlib inline"
   ]
  },
  {
   "cell_type": "code",
   "execution_count": 2,
   "metadata": {},
   "outputs": [],
   "source": [
    "def convert_to_float(value):\n",
    "    \"\"\"\n",
    "    Transforms argument value to float;\n",
    "    Replaces the comma in a string variable with a dot and rounds the value to two decimal places;\n",
    "    \n",
    "    Parameters\n",
    "    --------\n",
    "    value: float\n",
    "    \n",
    "    Returns\n",
    "    --------\n",
    "    float\n",
    "    \n",
    "    \"\"\"\n",
    "    value = float(str(value).replace(\",\", \".\"))\n",
    "    value = round(value, 2)\n",
    "    return value\n",
    "\n",
    "#######################################################################################################################"
   ]
  },
  {
   "cell_type": "markdown",
   "metadata": {},
   "source": [
    "### Подготовка данных"
   ]
  },
  {
   "cell_type": "code",
   "execution_count": 4,
   "metadata": {},
   "outputs": [],
   "source": [
    "# Загрузка датафрейма из CSV файла;\n",
    "textiles = pd.read_csv('../output/textiles_cleared.csv')\n",
    "\n",
    "# Приведение типов колонок датафрейма к значению с плавающей запятой;\n",
    "textiles['warp_a'] = textiles.warp_a.apply(convert_to_float)\n",
    "textiles['warp_b'] = textiles.warp_b.apply(convert_to_float)\n",
    "textiles['weft_a'] = textiles.weft_a.apply(convert_to_float)\n",
    "textiles['weft_b'] = textiles.weft_b.apply(convert_to_float)\n",
    "textiles['warp_thick_mean'] = textiles.warp_thick_mean.apply(convert_to_float)\n",
    "textiles['weft_mean'] = textiles.weft_mean.apply(convert_to_float)\n",
    "textiles['warp_dens'] = textiles.warp_dens.apply(convert_to_float)\n",
    "textiles['weft_dens'] = textiles.weft_dens.apply(convert_to_float)\n",
    "\n",
    "# Вычисление \"усредненных\" толщин нитей;\n",
    "textiles['warp_nominal'] = round((textiles['warp_a'] + textiles['warp_b']) / 2, 2)\n",
    "textiles['weft_nominal'] = round((textiles['weft_a'] + textiles['weft_b']) / 2, 2)"
   ]
  },
  {
   "cell_type": "code",
   "execution_count": 10,
   "metadata": {},
   "outputs": [
    {
     "name": "stdout",
     "output_type": "stream",
     "text": [
      "244\n"
     ]
    }
   ],
   "source": [
    "print(len(textiles))"
   ]
  },
  {
   "cell_type": "markdown",
   "metadata": {},
   "source": [
    "### Кластеризация методом k-средних"
   ]
  },
  {
   "cell_type": "code",
   "execution_count": 7,
   "metadata": {},
   "outputs": [],
   "source": [
    "warp_thick = textiles['warp_thick_mean'].copy(deep=True)\n",
    "weft_thick = textiles['weft_mean'].copy(deep=True)\n",
    "warp_nominal = textiles['warp_nominal'].copy(deep=True)\n",
    "weft_nominal = textiles['weft_nominal'].copy(deep=True)"
   ]
  },
  {
   "cell_type": "code",
   "execution_count": 9,
   "metadata": {},
   "outputs": [
    {
     "ename": "LinAlgError",
     "evalue": "Matrix is not positive definite",
     "output_type": "error",
     "traceback": [
      "\u001b[0;31m---------------------------------------------------------------------------\u001b[0m",
      "\u001b[0;31mLinAlgError\u001b[0m                               Traceback (most recent call last)",
      "\u001b[0;32m<ipython-input-9-59a20fc901c1>\u001b[0m in \u001b[0;36m<module>\u001b[0;34m\u001b[0m\n\u001b[1;32m      6\u001b[0m \u001b[0;34m\u001b[0m\u001b[0m\n\u001b[1;32m      7\u001b[0m \u001b[0;31m# получаем центроиды и метки кластеров;\u001b[0m\u001b[0;34m\u001b[0m\u001b[0;34m\u001b[0m\u001b[0;34m\u001b[0m\u001b[0m\n\u001b[0;32m----> 8\u001b[0;31m \u001b[0mthreads_centroids\u001b[0m\u001b[0;34m,\u001b[0m \u001b[0mthreads_labels\u001b[0m \u001b[0;34m=\u001b[0m \u001b[0mkmeans2\u001b[0m\u001b[0;34m(\u001b[0m\u001b[0mthreads_whitened\u001b[0m\u001b[0;34m,\u001b[0m \u001b[0;36m3\u001b[0m\u001b[0;34m)\u001b[0m\u001b[0;34m\u001b[0m\u001b[0;34m\u001b[0m\u001b[0m\n\u001b[0m\u001b[1;32m      9\u001b[0m \u001b[0;34m\u001b[0m\u001b[0m\n\u001b[1;32m     10\u001b[0m \u001b[0mtextiles\u001b[0m\u001b[0;34m[\u001b[0m\u001b[0;34m'threads_labels'\u001b[0m\u001b[0;34m]\u001b[0m \u001b[0;34m=\u001b[0m \u001b[0mthreads_labels\u001b[0m\u001b[0;34m\u001b[0m\u001b[0;34m\u001b[0m\u001b[0m\n",
      "\u001b[0;32m~/anaconda3/envs/textiles_data/lib/python3.7/site-packages/scipy/cluster/vq.py\u001b[0m in \u001b[0;36mkmeans2\u001b[0;34m(data, k, iter, thresh, minit, missing, check_finite)\u001b[0m\n\u001b[1;32m    699\u001b[0m             \u001b[0;32mraise\u001b[0m \u001b[0mValueError\u001b[0m\u001b[0;34m(\u001b[0m\u001b[0;34m\"Unknown init method %r\"\u001b[0m \u001b[0;34m%\u001b[0m \u001b[0;34m(\u001b[0m\u001b[0mminit\u001b[0m\u001b[0;34m,\u001b[0m\u001b[0;34m)\u001b[0m\u001b[0;34m)\u001b[0m\u001b[0;34m\u001b[0m\u001b[0;34m\u001b[0m\u001b[0m\n\u001b[1;32m    700\u001b[0m         \u001b[0;32melse\u001b[0m\u001b[0;34m:\u001b[0m\u001b[0;34m\u001b[0m\u001b[0;34m\u001b[0m\u001b[0m\n\u001b[0;32m--> 701\u001b[0;31m             \u001b[0mcode_book\u001b[0m \u001b[0;34m=\u001b[0m \u001b[0minit_meth\u001b[0m\u001b[0;34m(\u001b[0m\u001b[0mdata\u001b[0m\u001b[0;34m,\u001b[0m \u001b[0mk\u001b[0m\u001b[0;34m)\u001b[0m\u001b[0;34m\u001b[0m\u001b[0;34m\u001b[0m\u001b[0m\n\u001b[0m\u001b[1;32m    702\u001b[0m \u001b[0;34m\u001b[0m\u001b[0m\n\u001b[1;32m    703\u001b[0m     \u001b[0;32mfor\u001b[0m \u001b[0mi\u001b[0m \u001b[0;32min\u001b[0m \u001b[0mxrange\u001b[0m\u001b[0;34m(\u001b[0m\u001b[0miter\u001b[0m\u001b[0;34m)\u001b[0m\u001b[0;34m:\u001b[0m\u001b[0;34m\u001b[0m\u001b[0;34m\u001b[0m\u001b[0m\n",
      "\u001b[0;32m~/anaconda3/envs/textiles_data/lib/python3.7/site-packages/scipy/cluster/vq.py\u001b[0m in \u001b[0;36m_krandinit\u001b[0;34m(data, k)\u001b[0m\n\u001b[1;32m    523\u001b[0m         \u001b[0;31m# Generate k sample of a random variable ~ Gaussian(mu, cov)\u001b[0m\u001b[0;34m\u001b[0m\u001b[0;34m\u001b[0m\u001b[0;34m\u001b[0m\u001b[0m\n\u001b[1;32m    524\u001b[0m         \u001b[0mx\u001b[0m \u001b[0;34m=\u001b[0m \u001b[0mnp\u001b[0m\u001b[0;34m.\u001b[0m\u001b[0mrandom\u001b[0m\u001b[0;34m.\u001b[0m\u001b[0mrandn\u001b[0m\u001b[0;34m(\u001b[0m\u001b[0mk\u001b[0m\u001b[0;34m,\u001b[0m \u001b[0mmu\u001b[0m\u001b[0;34m.\u001b[0m\u001b[0msize\u001b[0m\u001b[0;34m)\u001b[0m\u001b[0;34m\u001b[0m\u001b[0;34m\u001b[0m\u001b[0m\n\u001b[0;32m--> 525\u001b[0;31m         \u001b[0mx\u001b[0m \u001b[0;34m=\u001b[0m \u001b[0mx\u001b[0m\u001b[0;34m.\u001b[0m\u001b[0mdot\u001b[0m\u001b[0;34m(\u001b[0m\u001b[0mnp\u001b[0m\u001b[0;34m.\u001b[0m\u001b[0mlinalg\u001b[0m\u001b[0;34m.\u001b[0m\u001b[0mcholesky\u001b[0m\u001b[0;34m(\u001b[0m\u001b[0mcov\u001b[0m\u001b[0;34m)\u001b[0m\u001b[0;34m.\u001b[0m\u001b[0mT\u001b[0m\u001b[0;34m)\u001b[0m\u001b[0;34m\u001b[0m\u001b[0;34m\u001b[0m\u001b[0m\n\u001b[0m\u001b[1;32m    526\u001b[0m \u001b[0;34m\u001b[0m\u001b[0m\n\u001b[1;32m    527\u001b[0m     \u001b[0mx\u001b[0m \u001b[0;34m+=\u001b[0m \u001b[0mmu\u001b[0m\u001b[0;34m\u001b[0m\u001b[0;34m\u001b[0m\u001b[0m\n",
      "\u001b[0;32m<__array_function__ internals>\u001b[0m in \u001b[0;36mcholesky\u001b[0;34m(*args, **kwargs)\u001b[0m\n",
      "\u001b[0;32m~/anaconda3/envs/textiles_data/lib/python3.7/site-packages/numpy/linalg/linalg.py\u001b[0m in \u001b[0;36mcholesky\u001b[0;34m(a)\u001b[0m\n\u001b[1;32m    753\u001b[0m     \u001b[0mt\u001b[0m\u001b[0;34m,\u001b[0m \u001b[0mresult_t\u001b[0m \u001b[0;34m=\u001b[0m \u001b[0m_commonType\u001b[0m\u001b[0;34m(\u001b[0m\u001b[0ma\u001b[0m\u001b[0;34m)\u001b[0m\u001b[0;34m\u001b[0m\u001b[0;34m\u001b[0m\u001b[0m\n\u001b[1;32m    754\u001b[0m     \u001b[0msignature\u001b[0m \u001b[0;34m=\u001b[0m \u001b[0;34m'D->D'\u001b[0m \u001b[0;32mif\u001b[0m \u001b[0misComplexType\u001b[0m\u001b[0;34m(\u001b[0m\u001b[0mt\u001b[0m\u001b[0;34m)\u001b[0m \u001b[0;32melse\u001b[0m \u001b[0;34m'd->d'\u001b[0m\u001b[0;34m\u001b[0m\u001b[0;34m\u001b[0m\u001b[0m\n\u001b[0;32m--> 755\u001b[0;31m     \u001b[0mr\u001b[0m \u001b[0;34m=\u001b[0m \u001b[0mgufunc\u001b[0m\u001b[0;34m(\u001b[0m\u001b[0ma\u001b[0m\u001b[0;34m,\u001b[0m \u001b[0msignature\u001b[0m\u001b[0;34m=\u001b[0m\u001b[0msignature\u001b[0m\u001b[0;34m,\u001b[0m \u001b[0mextobj\u001b[0m\u001b[0;34m=\u001b[0m\u001b[0mextobj\u001b[0m\u001b[0;34m)\u001b[0m\u001b[0;34m\u001b[0m\u001b[0;34m\u001b[0m\u001b[0m\n\u001b[0m\u001b[1;32m    756\u001b[0m     \u001b[0;32mreturn\u001b[0m \u001b[0mwrap\u001b[0m\u001b[0;34m(\u001b[0m\u001b[0mr\u001b[0m\u001b[0;34m.\u001b[0m\u001b[0mastype\u001b[0m\u001b[0;34m(\u001b[0m\u001b[0mresult_t\u001b[0m\u001b[0;34m,\u001b[0m \u001b[0mcopy\u001b[0m\u001b[0;34m=\u001b[0m\u001b[0;32mFalse\u001b[0m\u001b[0;34m)\u001b[0m\u001b[0;34m)\u001b[0m\u001b[0;34m\u001b[0m\u001b[0;34m\u001b[0m\u001b[0m\n\u001b[1;32m    757\u001b[0m \u001b[0;34m\u001b[0m\u001b[0m\n",
      "\u001b[0;32m~/anaconda3/envs/textiles_data/lib/python3.7/site-packages/numpy/linalg/linalg.py\u001b[0m in \u001b[0;36m_raise_linalgerror_nonposdef\u001b[0;34m(err, flag)\u001b[0m\n\u001b[1;32m     98\u001b[0m \u001b[0;34m\u001b[0m\u001b[0m\n\u001b[1;32m     99\u001b[0m \u001b[0;32mdef\u001b[0m \u001b[0m_raise_linalgerror_nonposdef\u001b[0m\u001b[0;34m(\u001b[0m\u001b[0merr\u001b[0m\u001b[0;34m,\u001b[0m \u001b[0mflag\u001b[0m\u001b[0;34m)\u001b[0m\u001b[0;34m:\u001b[0m\u001b[0;34m\u001b[0m\u001b[0;34m\u001b[0m\u001b[0m\n\u001b[0;32m--> 100\u001b[0;31m     \u001b[0;32mraise\u001b[0m \u001b[0mLinAlgError\u001b[0m\u001b[0;34m(\u001b[0m\u001b[0;34m\"Matrix is not positive definite\"\u001b[0m\u001b[0;34m)\u001b[0m\u001b[0;34m\u001b[0m\u001b[0;34m\u001b[0m\u001b[0m\n\u001b[0m\u001b[1;32m    101\u001b[0m \u001b[0;34m\u001b[0m\u001b[0m\n\u001b[1;32m    102\u001b[0m \u001b[0;32mdef\u001b[0m \u001b[0m_raise_linalgerror_eigenvalues_nonconvergence\u001b[0m\u001b[0;34m(\u001b[0m\u001b[0merr\u001b[0m\u001b[0;34m,\u001b[0m \u001b[0mflag\u001b[0m\u001b[0;34m)\u001b[0m\u001b[0;34m:\u001b[0m\u001b[0;34m\u001b[0m\u001b[0;34m\u001b[0m\u001b[0m\n",
      "\u001b[0;31mLinAlgError\u001b[0m: Matrix is not positive definite"
     ]
    }
   ],
   "source": [
    "# Получение нормальзованных значений параметров для кластеризации;\n",
    "threads_whitened = whiten(list(zip(warp_thick, weft_thick, warp_nominal, weft_nominal)))\n",
    "\n",
    "# получаем список с параметрами нитей;\n",
    "threads = list(zip(textiles['warp_dens'].tolist(), textiles['weft_dens'].tolist(), textiles['warp_nominal'].tolist(), textiles['weft_nominal'].tolist()))\n",
    "\n",
    "# получаем центроиды и метки кластеров;\n",
    "threads_centroids, threads_labels = kmeans2(threads_whitened, 3, iter=10)\n",
    "\n",
    "textiles['threads_labels'] = threads_labels"
   ]
  },
  {
   "cell_type": "code",
   "execution_count": 73,
   "metadata": {},
   "outputs": [],
   "source": [
    "cluster_1 = textiles[textiles['threads_labels'] == 0]\n",
    "cluster_2 = textiles[textiles['threads_labels'] == 1]\n",
    "cluster_3 = textiles[textiles['threads_labels'] == 2]"
   ]
  },
  {
   "cell_type": "code",
   "execution_count": 74,
   "metadata": {},
   "outputs": [],
   "source": [
    "cluster_1.to_csv('../output/clusters/cluster_1.csv')\n",
    "cluster_2.to_csv('../output/clusters/cluster_2.csv')\n",
    "cluster_3.to_csv('../output/clusters/cluster_3.csv')"
   ]
  },
  {
   "cell_type": "code",
   "execution_count": 77,
   "metadata": {},
   "outputs": [],
   "source": [
    "cluster_1 = pd.read_csv('../output/clusters/dist/cluster_1.csv')\n",
    "cluster_2 = pd.read_csv('../output/clusters/dist/cluster_2.csv')\n",
    "cluster_3 = pd.read_csv('../output/clusters/dist/cluster_3.csv')"
   ]
  },
  {
   "cell_type": "markdown",
   "metadata": {},
   "source": [
    "### Размер полученных кластеров"
   ]
  },
  {
   "cell_type": "code",
   "execution_count": 68,
   "metadata": {},
   "outputs": [],
   "source": [
    "cluster_one = {}\n",
    "cluster_one['n_bands'] = cluster_1.query('type == \"n_band\"')\n",
    "cluster_one['m_bands'] = cluster_1.query('type == \"m_band\"')\n",
    "cluster_one['w_bands'] = cluster_1.query('type == \"w_band\"')\n",
    "cluster_one['funeral_shrouds'] = cluster_1.query('type == \"funeral_shroud\"')\n",
    "\n",
    "cluster_two = {}\n",
    "cluster_two['n_bands'] = cluster_2.query('type == \"n_band\"')\n",
    "cluster_two['m_bands'] = cluster_2.query('type == \"m_band\"')\n",
    "cluster_two['w_bands'] = cluster_2.query('type == \"w_band\"')\n",
    "cluster_two['funeral_shrouds'] = cluster_2.query('type == \"funeral_shroud\"')\n",
    "\n",
    "cluster_three = {}\n",
    "cluster_three['n_bands'] = cluster_3.query('type == \"n_band\"')\n",
    "cluster_three['m_bands'] = cluster_3.query('type == \"m_band\"')\n",
    "cluster_three['w_bands'] = cluster_3.query('type == \"w_band\"')\n",
    "cluster_three['funeral_shrouds'] = cluster_3.query('type == \"funeral_shroud\"')"
   ]
  },
  {
   "cell_type": "code",
   "execution_count": 135,
   "metadata": {},
   "outputs": [],
   "source": [
    "cluster_one_stats = {}\n",
    "cluster_two_stats = {}\n",
    "cluster_three_stats = {}\n",
    "\n",
    "cluster_one_stats['warp_dens_mean'] = round(cluster_1.warp_dens.mean(), 2)\n",
    "cluster_one_stats['weft_dens_mean'] = round(cluster_1.weft_dens.mean(), 2)\n",
    "cluster_one_stats['warp_mean'] = round(cluster_1.warp_nominal.mean(), 2)\n",
    "cluster_one_stats['weft_mean'] = round(cluster_1.weft_nominal.mean(), 2)\n",
    "cluster_one_stats['warp_dens_std'] = round(cluster_1.warp_dens.std(), 2)\n",
    "cluster_one_stats['weft_dens_std'] = round(cluster_1.weft_dens.std(), 2)\n",
    "cluster_one_stats['warp_nominal_std'] = round(cluster_1.warp_nominal.std(), 2)\n",
    "cluster_one_stats['weft_nominal_std'] = round(cluster_1.weft_nominal.std(), 2)\n",
    "\n",
    "cluster_two_stats['warp_dens_mean'] = round(cluster_2.warp_dens.mean(), 2)\n",
    "cluster_two_stats['weft_dens_mean'] = round(cluster_2.weft_dens.mean(), 2)\n",
    "cluster_two_stats['warp_mean'] = round(cluster_2.warp_nominal.mean(), 2)\n",
    "cluster_two_stats['weft_mean'] = round(cluster_2.weft_nominal.mean(), 2)\n",
    "cluster_two_stats['warp_dens_std'] = round(cluster_2.warp_dens.std(), 2)\n",
    "cluster_two_stats['weft_dens_std'] = round(cluster_2.weft_dens.std(), 2)\n",
    "cluster_two_stats['warp_nominal_std'] = round(cluster_2.warp_nominal.std(), 2)\n",
    "cluster_two_stats['weft_nominal_std'] = round(cluster_2.weft_nominal.std(), 2)\n",
    "\n",
    "cluster_three_stats['warp_dens_mean'] = round(cluster_3.warp_dens.mean(), 2)\n",
    "cluster_three_stats['weft_dens_mean'] = round(cluster_3.weft_dens.mean(), 2)\n",
    "cluster_three_stats['warp_mean'] = round(cluster_3.warp_nominal.mean(), 2)\n",
    "cluster_three_stats['weft_mean'] = round(cluster_3.weft_nominal.mean(), 2)\n",
    "cluster_three_stats['warp_dens_std'] = round(cluster_3.warp_dens.std(), 2)\n",
    "cluster_three_stats['weft_dens_std'] = round(cluster_3.weft_dens.std(), 2)\n",
    "cluster_three_stats['warp_nominal_std'] = round(cluster_3.warp_nominal.std(), 2)\n",
    "cluster_three_stats['weft_nominal_std'] = round(cluster_3.weft_nominal.std(), 2)"
   ]
  },
  {
   "cell_type": "code",
   "execution_count": 138,
   "metadata": {},
   "outputs": [
    {
     "name": "stdout",
     "output_type": "stream",
     "text": [
      "\n",
      "=========================\n",
      "В первом кластере содержится 165 тканей\n",
      "Во втором кластере содержится 89 тканей\n",
      "В третьем кластере содержится 49 тканей\n",
      "\n",
      "=========================\n",
      "Узких бинтов в первом кластере - 52\n",
      "Средних бинтов в первом кластере - 43\n",
      "Широких бинтов в первом кластере - 10\n",
      "Погребальных пелен в первом кластере - 17\n",
      "Неклассифицированных тканей в первом кластере - 43\n",
      "\n",
      "=========================\n",
      "\n",
      "Узких бинтов в первом кластере - 27\n",
      "Средних бинтов во втором кластере - 23\n",
      "Широких бинтов во втором кластере - 9\n",
      "Погребальных пелен во втором кластере - 7\n",
      "Неклассифицированных тканей во втором кластере - 23\n",
      "\n",
      "=========================\n",
      "\n",
      "Узких бинтов в третьем кластере - 15\n",
      "Средних бинтов в третьем кластере - 15\n",
      "Широких бинтов в третьем кластере - 0\n",
      "Погребальных пелен в третьем кластере - 3\n",
      "Неклассифицированных тканей в третьем кластере - 16\n",
      "\n",
      "=========================\n",
      "Кластер 1:\n",
      "\n",
      "Средняя плотность по основе - 20.19\n",
      "Средняя плотность по утку - 9.71\n",
      "Средняя толщина нитей основы - 0.48\n",
      "Средняя толщина нитей утка - 0.51\n",
      "Сдандартное отклонение плотности по основе - 7.48\n",
      "Стандартное отклонение плотности по утку - 2.6\n",
      "Стандартное отклонение толщины нити по основе - 0.05\n",
      "Стандартное отклонение толщины нити по утку - 0.1\n",
      "\n",
      "=========================\n",
      "Кластер 2:\n",
      "\n",
      "Средняя плотность по основе - 27.46\n",
      "Средняя плотность по утку - 11.24\n",
      "Средняя толщина нитей основы - 0.32\n",
      "Средняя толщина нитей утка - 0.37\n",
      "Сдандартное отклонение плотности по основе - 10.64\n",
      "Стандартное отклонение плотности по утку - 2.67\n",
      "Стандартное отклонение толщины нити по основе - 0.06\n",
      "Стандартное отклонение толщины нити по утку - 0.09\n",
      "\n",
      "=========================\n",
      "Кластер 3:\n",
      "\n",
      "Средняя плотность по основе - 13.46\n",
      "Средняя плотность по утку - 7.81\n",
      "Средняя толщина нитей основы - 0.73\n",
      "Средняя толщина нитей утка - 0.89\n",
      "Сдандартное отклонение плотности по основе - 4.32\n",
      "Стандартное отклонение плотности по утку - 1.94\n",
      "Стандартное отклонение толщины нити по основе - 0.14\n",
      "Стандартное отклонение толщины нити по утку - 0.57\n",
      "\n",
      "=========================\n"
     ]
    }
   ],
   "source": [
    "print()\n",
    "print(\"=========================\")\n",
    "print(\"В первом кластере содержится \" + str(len(cluster_1))  + \" тканей\")\n",
    "print(\"Во втором кластере содержится \" + str(len(cluster_2)) + \" тканей\")\n",
    "print(\"В третьем кластере содержится \" + str(len(cluster_3)) + \" тканей\")\n",
    "print()\n",
    "print(\"=========================\")\n",
    "print(\"Узких бинтов в первом кластере - \" + str(len(cluster_one['n_bands'])))\n",
    "print(\"Средних бинтов в первом кластере - \" + str(len(cluster_one['m_bands'])))\n",
    "print(\"Широких бинтов в первом кластере - \" + str(len(cluster_one['w_bands'])))\n",
    "print(\"Погребальных пелен в первом кластере - \" + str(len(cluster_one['funeral_shrouds'])))\n",
    "print(\"Неклассифицированных тканей в первом кластере - \" + str(len(cluster_1) -\n",
    "                                                               len(cluster_one['n_bands']) -\n",
    "                                                               len(cluster_one['m_bands']) -\n",
    "                                                               len(cluster_one['w_bands']) -\n",
    "                                                               len(cluster_one['funeral_shrouds'])\n",
    "                                                              ))\n",
    "print()\n",
    "print(\"=========================\")\n",
    "print()\n",
    "print(\"Узких бинтов в первом кластере - \" + str(len(cluster_two['n_bands'])))\n",
    "print(\"Средних бинтов во втором кластере - \" + str(len(cluster_two['m_bands'])))\n",
    "print(\"Широких бинтов во втором кластере - \" + str(len(cluster_two['w_bands'])))\n",
    "print(\"Погребальных пелен во втором кластере - \" + str(len(cluster_two['funeral_shrouds'])))\n",
    "print(\"Неклассифицированных тканей во втором кластере - \" + str(len(cluster_2) -\n",
    "                                                                len(cluster_two['n_bands']) -\n",
    "                                                                len(cluster_two['m_bands']) -\n",
    "                                                                len(cluster_two['w_bands']) -\n",
    "                                                                len(cluster_two['funeral_shrouds'])\n",
    "                                                               ))\n",
    "print()\n",
    "print(\"=========================\")\n",
    "print()\n",
    "print(\"Узких бинтов в третьем кластере - \" + str(len(cluster_three['n_bands'])))\n",
    "print(\"Средних бинтов в третьем кластере - \" + str(len(cluster_three['m_bands'])))\n",
    "print(\"Широких бинтов в третьем кластере - \" + str(len(cluster_three['w_bands'])))\n",
    "print(\"Погребальных пелен в третьем кластере - \" + str(len(cluster_three['funeral_shrouds'])))\n",
    "print(\"Неклассифицированных тканей в третьем кластере - \" + str(len(cluster_3) -\n",
    "                                                                len(cluster_three['n_bands']) -\n",
    "                                                                len(cluster_three['m_bands']) -\n",
    "                                                                len(cluster_three['w_bands']) -\n",
    "                                                                len(cluster_three['funeral_shrouds'])\n",
    "                                                               ))\n",
    "print()\n",
    "print(\"=========================\")\n",
    "print(\"Кластер 1:\")\n",
    "print()\n",
    "print(\"Средняя плотность по основе - \" + str(cluster_one_stats['warp_dens_mean']))\n",
    "print(\"Средняя плотность по утку - \" + str(cluster_one_stats['weft_dens_mean']))\n",
    "print(\"Средняя толщина нитей основы - \" + str(cluster_one_stats['warp_mean']))\n",
    "print(\"Средняя толщина нитей утка - \" + str(cluster_one_stats['weft_mean']))\n",
    "print(\"Сдандартное отклонение плотности по основе - \" + str(cluster_one_stats['warp_dens_std']))\n",
    "print(\"Стандартное отклонение плотности по утку - \" + str(cluster_one_stats['weft_dens_std']))\n",
    "print(\"Стандартное отклонение толщины нити по основе - \" + str(cluster_one_stats['warp_nominal_std']))\n",
    "print(\"Стандартное отклонение толщины нити по утку - \" + str(cluster_one_stats['weft_nominal_std']))\n",
    "print()\n",
    "print(\"=========================\")\n",
    "print(\"Кластер 2:\")\n",
    "print(\"\")\n",
    "print(\"Средняя плотность по основе - \" + str(cluster_two_stats['warp_dens_mean']))\n",
    "print(\"Средняя плотность по утку - \" + str(cluster_two_stats['weft_dens_mean']))\n",
    "print(\"Средняя толщина нитей основы - \" + str(cluster_two_stats['warp_mean']))\n",
    "print(\"Средняя толщина нитей утка - \" + str(cluster_two_stats['weft_mean']))\n",
    "print(\"Сдандартное отклонение плотности по основе - \" + str(cluster_two_stats['warp_dens_std']))\n",
    "print(\"Стандартное отклонение плотности по утку - \" + str(cluster_two_stats['weft_dens_std']))\n",
    "print(\"Стандартное отклонение толщины нити по основе - \" + str(cluster_two_stats['warp_nominal_std']))\n",
    "print(\"Стандартное отклонение толщины нити по утку - \" + str(cluster_two_stats['weft_nominal_std']))\n",
    "print(\"\")\n",
    "print(\"=========================\")\n",
    "print(\"Кластер 3:\")\n",
    "print()\n",
    "print(\"Средняя плотность по основе - \" + str(cluster_three_stats['warp_dens_mean']))\n",
    "print(\"Средняя плотность по утку - \" + str(cluster_three_stats['weft_dens_mean']))\n",
    "print(\"Средняя толщина нитей основы - \" + str(cluster_three_stats['warp_mean']))\n",
    "print(\"Средняя толщина нитей утка - \" + str(cluster_three_stats['weft_mean']))\n",
    "print(\"Сдандартное отклонение плотности по основе - \" + str(cluster_three_stats['warp_dens_std']))\n",
    "print(\"Стандартное отклонение плотности по утку - \" + str(cluster_three_stats['weft_dens_std']))\n",
    "print(\"Стандартное отклонение толщины нити по основе - \" + str(cluster_three_stats['warp_nominal_std']))\n",
    "print(\"Стандартное отклонение толщины нити по утку - \" + str(cluster_three_stats['weft_nominal_std']))\n",
    "print()\n",
    "print(\"=========================\")"
   ]
  },
  {
   "cell_type": "code",
   "execution_count": 122,
   "metadata": {},
   "outputs": [
    {
     "data": {
      "image/png": "[encoded data removed]",
      "text/plain": [
       "<Figure size 864x864 with 1 Axes>"
      ]
     },
     "metadata": {
      "needs_background": "light"
     },
     "output_type": "display_data"
    }
   ],
   "source": [
    "fig, ax = plt.subplots(figsize=(12, 12))\n",
    "\n",
    "\n",
    "# ax.scatter(threads_centroids[0][0], threads_centroids[0][1], color='red')\n",
    "# ax.scatter(threads_centroids[1][0], threads_centroids[1][1], color='red')\n",
    "# ax.scatter(threads_centroids[2][0], threads_centroids[2][1], color='red')\n",
    "\n",
    "ax.scatter(cluster_1['warp_nominal'].tolist(), cluster_1['weft_nominal'].tolist(), marker='*', color='blue')\n",
    "ax.scatter(cluster_2['warp_nominal'].tolist(), cluster_2['weft_nominal'].tolist(), marker='o', color='green')\n",
    "ax.scatter(cluster_3['warp_nominal'].tolist(), cluster_3['weft_nominal'].tolist(), marker='.', color='gray')\n",
    "\n",
    "plt.show()"
   ]
  },
  {
   "cell_type": "markdown",
   "metadata": {},
   "source": [
    "В целом, можно сказать, что выборка достаточно хорошо разделяется на три кластера (с учётом выбросов) по качеству  \n",
    "Сами кластеры, при этом, ткани более или менее равномерно распределены вне зависимости от типа самой ткани/изделия,  \n",
    "кроме кластера №3, который содержит большую часть потенциальных выбросов в выборке  \n",
    "Ткани всех типов сравнительно равномерно представлены в кластерах №1 и №2 - таким образом, можно сказать, что, в  \n",
    "основном, на бинты и пелены шли ткани примерно одинакового качества"
   ]
  },
  {
   "cell_type": "code",
   "execution_count": null,
   "metadata": {},
   "outputs": [],
   "source": []
  }
 ],
 "metadata": {
  "kernelspec": {
   "display_name": "Python 3",
   "language": "python",
   "name": "python3"
  },
  "language_info": {
   "codemirror_mode": {
    "name": "ipython",
    "version": 3
   },
   "file_extension": ".py",
   "mimetype": "text/x-python",
   "name": "python",
   "nbconvert_exporter": "python",
   "pygments_lexer": "ipython3",
   "version": "3.7.6"
  }
 },
 "nbformat": 4,
 "nbformat_minor": 4
}
