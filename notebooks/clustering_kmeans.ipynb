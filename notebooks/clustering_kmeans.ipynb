{
 "cells": [
  {
   "cell_type": "code",
   "execution_count": 1,
   "metadata": {},
   "outputs": [],
   "source": [
    "import numpy as np\n",
    "import pandas as pd\n",
    "import matplotlib.pyplot as plt\n",
    "\n",
    "from scipy.cluster.hierarchy import linkage, dendrogram\n",
    "from scipy.cluster.vq import vq, kmeans, kmeans2, whiten\n",
    "\n",
    "%matplotlib inline"
   ]
  },
  {
   "cell_type": "code",
   "execution_count": 2,
   "metadata": {},
   "outputs": [],
   "source": [
    "def convert_to_float(value):\n",
    "    \"\"\"\n",
    "    Преобразование значений в столбцах датафрейма;\n",
    "    :param value: float\n",
    "    :return: float\n",
    "    \"\"\"\n",
    "    value = str(value)\n",
    "    value = value.replace(\",\", \".\")\n",
    "    value = round(float(value), 2)\n",
    "    return value\n",
    "\n",
    "#######################################################################################################################"
   ]
  },
  {
   "cell_type": "code",
   "execution_count": 3,
   "metadata": {},
   "outputs": [],
   "source": [
    "# Загрузка датафрейма из CSV файла;\n",
    "textiles = pd.read_csv('../data/textiles.csv', sep=';')\n",
    "\n",
    "# Приведение типов колонок датафрейма к значению с плавающей запятой;\n",
    "textiles['warp_a'] = textiles.warp_a.apply(convert_to_float)\n",
    "textiles['warp_b'] = textiles.warp_b.apply(convert_to_float)\n",
    "textiles['weft_a'] = textiles.weft_a.apply(convert_to_float)\n",
    "textiles['weft_b'] = textiles.weft_b.apply(convert_to_float)\n",
    "textiles['warp_thick_mean'] = textiles.warp_thick_mean.apply(convert_to_float)\n",
    "textiles['weft_mean'] = textiles.weft_mean.apply(convert_to_float)\n",
    "\n",
    "# Вычисление \"усредненных\" толщин нитей;\n",
    "textiles['warp_nominal'] = round((textiles['warp_a'] + textiles['warp_b']) / 2, 2)\n",
    "textiles['weft_nominal'] = round((textiles['weft_a'] + textiles['weft_b']) / 2, 2)"
   ]
  },
  {
   "cell_type": "code",
   "execution_count": 19,
   "metadata": {},
   "outputs": [],
   "source": [
    "threads_whitened = whiten(list(zip(textiles['warp_thick_mean'].tolist(), textiles['weft_mean'].tolist(), textiles['warp_nominal'].tolist(), textiles['weft_nominal'].tolist())))\n",
    "threads = list(zip(textiles['warp_nominal'].tolist(), textiles['weft_nominal'].tolist()))\n",
    "threads_centroids, threads_labels = kmeans2(threads, 4)\\"
   ]
  },
  {
   "cell_type": "code",
   "execution_count": 20,
   "metadata": {},
   "outputs": [],
   "source": [
    "textiles['threads_labels'] = threads_labels"
   ]
  },
  {
   "cell_type": "code",
   "execution_count": 23,
   "metadata": {},
   "outputs": [],
   "source": [
    "cluster_1 = textiles[textiles['threads_labels'] == 0]\n",
    "cluster_2 = textiles[textiles['threads_labels'] == 1]\n",
    "cluster_3 = textiles[textiles['threads_labels'] == 2]"
   ]
  },
  {
   "cell_type": "code",
   "execution_count": 33,
   "metadata": {},
   "outputs": [
    {
     "data": {
      "image/png": "[encoded data removed]",
      "text/plain": [
       "<Figure size 864x864 with 1 Axes>"
      ]
     },
     "metadata": {
      "needs_background": "light"
     },
     "output_type": "display_data"
    }
   ],
   "source": [
    "fig, ax = plt.subplots(figsize=(12, 12))\n",
    "\n",
    "ax.scatter(cluster_1['warp_nominal'].tolist(), cluster_1['weft_nominal'].tolist(), marker='*', color='blue')\n",
    "ax.scatter(cluster_2['warp_nominal'].tolist(), cluster_2['weft_nominal'].tolist(), marker='o', color='green')\n",
    "ax.scatter(cluster_3['warp_nominal'].tolist(), cluster_3['weft_nominal'].tolist(), marker='.', color='red')\n",
    "\n",
    "plt.show()"
   ]
  },
  {
   "cell_type": "code",
   "execution_count": 34,
   "metadata": {},
   "outputs": [
    {
     "name": "stdout",
     "output_type": "stream",
     "text": [
      "169\n",
      "87\n",
      "45\n"
     ]
    }
   ],
   "source": [
    "print(len(cluster_1))\n",
    "print(len(cluster_2))\n",
    "print(len(cluster_3))"
   ]
  },
  {
   "cell_type": "code",
   "execution_count": 18,
   "metadata": {},
   "outputs": [
    {
     "name": "stdout",
     "output_type": "stream",
     "text": [
      "     order grave  add    z  internal_storage  number  warp_size  weft_size  \\\n",
      "22    22.0    95  0.0  1.0     2007-0050-010     NaN        100         90   \n",
      "74    70.0   159  0.0  1.0   2008-001-003-04     NaN        220        360   \n",
      "118  107.0   173  0.0  1.0  2008-0031-003-10     NaN         70         55   \n",
      "228    NaN   200  0.0  1.0     2008-0118-005     NaN        180         40   \n",
      "\n",
      "        type  item_no  ... warp_b warp_thick_mean weft_a weft_b weft_mean  \\\n",
      "22    fabric        0  ...    1.3            0.90    1.0    2.0       1.5   \n",
      "74    fabric        3  ...    0.6            0.55    0.6    8.0       4.3   \n",
      "118  textile        0  ...    0.8            0.65    1.5    2.5       2.0   \n",
      "228  textile        0  ...    1.5            1.15    1.2    2.0       1.6   \n",
      "\n",
      "    warp_dens weft_dens warp_nominal weft_nominal threads_labels  \n",
      "22       10.0       5.0         0.90          1.5              0  \n",
      "74       30.0       8.0         0.55          4.3              0  \n",
      "118      12.0       5.0         0.65          2.0              0  \n",
      "228       4.0       3.0         1.15          1.6              0  \n",
      "\n",
      "[4 rows x 35 columns]\n"
     ]
    }
   ],
   "source": [
    "print(cluster_1)"
   ]
  },
  {
   "cell_type": "code",
   "execution_count": null,
   "metadata": {},
   "outputs": [],
   "source": []
  }
 ],
 "metadata": {
  "kernelspec": {
   "display_name": "Python 3",
   "language": "python",
   "name": "python3"
  },
  "language_info": {
   "codemirror_mode": {
    "name": "ipython",
    "version": 3
   },
   "file_extension": ".py",
   "mimetype": "text/x-python",
   "name": "python",
   "nbconvert_exporter": "python",
   "pygments_lexer": "ipython3",
   "version": "3.7.6"
  }
 },
 "nbformat": 4,
 "nbformat_minor": 4
}
