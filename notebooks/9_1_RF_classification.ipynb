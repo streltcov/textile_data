{
 "cells": [
  {
   "cell_type": "code",
   "execution_count": 1,
   "metadata": {},
   "outputs": [],
   "source": [
    "import pandas as pd\n",
    "import matplotlib.pyplot as plt\n",
    "\n",
    "from sklearn.model_selection import train_test_split, GridSearchCV\n",
    "from sklearn.ensemble import RandomForestClassifier\n",
    "from sklearn.model_selection import cross_val_score\n",
    "from sklearn.metrics import roc_auc_score\n",
    "\n",
    "\n",
    "%matplotlib inline"
   ]
  },
  {
   "cell_type": "code",
   "execution_count": 2,
   "metadata": {},
   "outputs": [],
   "source": [
    "def convert_to_float(value):\n",
    "    \"\"\"\n",
    "    Transforms argument value to float;\n",
    "    Replaces the comma in a string variable with a dot and rounds the value to two decimal places;\n",
    "    \n",
    "    Parameters\n",
    "    --------\n",
    "    value: float\n",
    "    \n",
    "    Returns\n",
    "    --------\n",
    "    float\n",
    "    \n",
    "    \"\"\"\n",
    "    value = float(str(value).replace(\",\", \".\"))\n",
    "    value = round(value, 2)\n",
    "    return value\n",
    "\n",
    "#######################################################################################################################"
   ]
  },
  {
   "cell_type": "code",
   "execution_count": 3,
   "metadata": {},
   "outputs": [],
   "source": [
    "# Загрузка датафрейма из CSV файла;\n",
    "cleared = pd.read_csv('../output/cleared.csv')\n",
    "\n",
    "cleared = cleared[cleared['warp_dens'] < 40]\n",
    "\n",
    "# Приведение типов колонок датафрейма к значению с плавающей запятой;\n",
    "cleared['warp_a'] = cleared.warp_a.apply(convert_to_float)\n",
    "cleared['warp_b'] = cleared.warp_b.apply(convert_to_float)\n",
    "cleared['weft_a'] = cleared.weft_a.apply(convert_to_float)\n",
    "cleared['weft_b'] = cleared.weft_b.apply(convert_to_float)\n",
    "cleared['warp_mean'] = cleared.warp_mean.apply(convert_to_float)\n",
    "cleared['weft_mean'] = cleared.weft_mean.apply(convert_to_float)\n",
    "cleared['warp_dens'] = cleared.warp_dens.apply(convert_to_float)\n",
    "cleared['weft_dens'] = cleared.weft_dens.apply(convert_to_float)\n",
    "\n",
    "# Вычисление \"усредненных\" толщин нитей;\n",
    "cleared['warp_nominal'] = round((cleared['warp_a'] + cleared['warp_b']) / 2, 2)\n",
    "cleared['weft_nominal'] = round((cleared['weft_a'] + cleared['weft_b']) / 2, 2)\n",
    "\n",
    "cleared['dens_coef'] = round(cleared['warp_dens'] / cleared['weft_dens'], 2)\n",
    "cleared['thick_coef'] = round(cleared['warp_nominal'] / cleared['weft_nominal'], 2)"
   ]
  },
  {
   "cell_type": "code",
   "execution_count": 4,
   "metadata": {},
   "outputs": [],
   "source": [
    "# \"Синтетические\" размеченные наборы;\n",
    "\n",
    "#######################################################################################################################\n",
    "\n",
    "# x_train = [\n",
    "#     [0.25, 0.3, 36, 16], [0.30, 0.40, 26, 17], [0.25, 0.40, 26, 15 ], [0.30, 0.50, 27, 16],\n",
    "#     [0.35, 0.35, 14, 9], [0.40, 0.40, 24, 13], [0.40, 0.40, 16, 2], [0.40, 0.30, 20, 12],\n",
    "#     [0.80, 0.50, 10, 7], [0.50, 0.30, 10, 7], [0.70, 0.60, 8, 6], [0.50, 0.70, 8, 5]]\n",
    "\n",
    "# y_train = [\n",
    "#     1, 1, 1, 1,\n",
    "#     2, 2, 2, 2,\n",
    "#     3, 3, 3, 3\n",
    "# ]\n",
    "\n",
    "#######################################################################################################################\n",
    "\n",
    "x_train = [\n",
    "    [0.25, 0.32, 36, 16], [0.27, 0.35, 26, 17], [0.25, 0.40, 26, 15 ], [0.31, 0.40, 27, 16],\n",
    "    [0.35, 0.35, 14, 11], [0.40, 0.40, 22, 13], [0.40, 0.40, 15, 10], [0.40, 0.52, 20, 12],\n",
    "    [0.80, 0.50, 10, 7], [0.50, 0.30, 10, 7], [0.70, 0.60, 8, 6], [0.50, 0.77, 8, 5]]\n",
    "\n",
    "y_train = [\n",
    "    1, 1, 1, 1,\n",
    "    2, 2, 2, 2,\n",
    "    3, 3, 3, 3\n",
    "]\n",
    "\n",
    "#######################################################################################################################\n",
    "\n",
    "# x_train = [\n",
    "#     [0.25, 0.3, 36, 16], [0.25, 0.40, 26, 17], [0.25, 0.35, 26, 15 ], [0.15, 0.30, 27, 16],\n",
    "#     [0.35, 0.35, 14, 9], [0.40, 0.40, 24, 13], [0.40, 0.40, 16, 2], [0.40, 0.30, 20, 12],\n",
    "#     [0.80, 0.50, 10, 7], [0.55, 0.30, 10, 7], [0.70, 0.60, 8, 6], [0.50, 0.70, 8, 5]]\n",
    "\n",
    "# y_train = [\n",
    "#     1, 1, 1, 1,\n",
    "#     2, 2, 2, 2,\n",
    "#     3, 3, 3, 3\n",
    "# ]"
   ]
  },
  {
   "cell_type": "code",
   "execution_count": 12,
   "metadata": {},
   "outputs": [
    {
     "data": {
      "text/plain": [
       "GridSearchCV(cv=3, error_score=nan,\n",
       "             estimator=RandomForestClassifier(bootstrap=True, ccp_alpha=0.0,\n",
       "                                              class_weight=None,\n",
       "                                              criterion='gini', max_depth=None,\n",
       "                                              max_features='auto',\n",
       "                                              max_leaf_nodes=None,\n",
       "                                              max_samples=None,\n",
       "                                              min_impurity_decrease=0.0,\n",
       "                                              min_impurity_split=None,\n",
       "                                              min_samples_leaf=1,\n",
       "                                              min_samples_split=2,\n",
       "                                              min_weight_fraction_leaf=0.0,\n",
       "                                              n_estimators=100, n_jobs=None,\n",
       "                                              oob_score=False,\n",
       "                                              random_state=None, verbose=0,\n",
       "                                              warm_start=False),\n",
       "             iid='deprecated', n_jobs=None,\n",
       "             param_grid={'max_depth': range(1, 10),\n",
       "                         'n_estimators': range(5, 30, 5)},\n",
       "             pre_dispatch='2*n_jobs', refit=True, return_train_score=False,\n",
       "             scoring=None, verbose=0)"
      ]
     },
     "execution_count": 12,
     "metadata": {},
     "output_type": "execute_result"
    }
   ],
   "source": [
    "parameters = {\n",
    "    'n_estimators': range(5, 30, 5),\n",
    "    'max_depth': range(1, 10, 1),\n",
    "#     'min_sample_leaf': range(1, 3),\n",
    "#     'min_samples_split': range(1, 3),\n",
    "}\n",
    "\n",
    "grid = GridSearchCV(RandomForestClassifier(), parameters, cv=3)\n",
    "\n",
    "grid.fit(x_train, y_train)"
   ]
  },
  {
   "cell_type": "code",
   "execution_count": 13,
   "metadata": {},
   "outputs": [
    {
     "data": {
      "text/plain": [
       "{'max_depth': 1, 'n_estimators': 15}"
      ]
     },
     "execution_count": 13,
     "metadata": {},
     "output_type": "execute_result"
    }
   ],
   "source": [
    "grid.best_params_"
   ]
  },
  {
   "cell_type": "code",
   "execution_count": 14,
   "metadata": {},
   "outputs": [],
   "source": [
    "clf_rf = RandomForestClassifier(n_estimators=15, max_depth=1)"
   ]
  },
  {
   "cell_type": "code",
   "execution_count": 15,
   "metadata": {},
   "outputs": [
    {
     "data": {
      "text/plain": [
       "RandomForestClassifier(bootstrap=True, ccp_alpha=0.0, class_weight=None,\n",
       "                       criterion='gini', max_depth=1, max_features='auto',\n",
       "                       max_leaf_nodes=None, max_samples=None,\n",
       "                       min_impurity_decrease=0.0, min_impurity_split=None,\n",
       "                       min_samples_leaf=1, min_samples_split=2,\n",
       "                       min_weight_fraction_leaf=0.0, n_estimators=15,\n",
       "                       n_jobs=None, oob_score=False, random_state=None,\n",
       "                       verbose=0, warm_start=False)"
      ]
     },
     "execution_count": 15,
     "metadata": {},
     "output_type": "execute_result"
    }
   ],
   "source": [
    "clf_rf.fit(x_train, y_train)"
   ]
  },
  {
   "cell_type": "code",
   "execution_count": 16,
   "metadata": {},
   "outputs": [],
   "source": [
    "classes = []\n",
    "\n",
    "for index, row in cleared.iterrows():\n",
    "    item_class = clf_rf.predict([[row.warp_nominal, row.weft_nominal, row.warp_dens, row.weft_dens]])\n",
    "    classes.append(item_class[0])"
   ]
  },
  {
   "cell_type": "code",
   "execution_count": 17,
   "metadata": {},
   "outputs": [],
   "source": [
    "cleared['classes'] = classes"
   ]
  },
  {
   "cell_type": "code",
   "execution_count": 18,
   "metadata": {},
   "outputs": [],
   "source": [
    "class_1 = cleared[cleared['classes'] == 1]\n",
    "class_2 = cleared[cleared['classes'] == 2]\n",
    "class_3 = cleared[cleared['classes'] == 3]"
   ]
  },
  {
   "cell_type": "code",
   "execution_count": 19,
   "metadata": {},
   "outputs": [
    {
     "name": "stdout",
     "output_type": "stream",
     "text": [
      "4\n",
      "174\n",
      "95\n"
     ]
    }
   ],
   "source": [
    "print(len(class_1))\n",
    "print(len(class_2))\n",
    "print(len(class_3))"
   ]
  },
  {
   "cell_type": "code",
   "execution_count": 20,
   "metadata": {},
   "outputs": [
    {
     "data": {
      "image/png": "[encoded data removed]",
      "text/plain": [
       "<Figure size 864x1224 with 2 Axes>"
      ]
     },
     "metadata": {
      "needs_background": "light"
     },
     "output_type": "display_data"
    }
   ],
   "source": [
    "fig, ax = plt.subplots(2, 1, figsize=(12, 17))\n",
    "\n",
    "ax[0].scatter(class_1['warp_nominal'].tolist(), class_1['weft_nominal'].tolist(), marker='*', color='blue')\n",
    "ax[0].scatter(class_2['warp_nominal'].tolist(), class_2['weft_nominal'].tolist(), marker='o', color='green')\n",
    "ax[0].scatter(class_3['warp_nominal'].tolist(), class_3['weft_nominal'].tolist(), marker='.', color='gray')\n",
    "\n",
    "ax[1].scatter(class_1['warp_dens'].tolist(), class_1['weft_dens'].tolist(), marker='*', color='blue')\n",
    "ax[1].scatter(class_2['warp_dens'].tolist(), class_2['weft_dens'].tolist(), marker='o', color='green')\n",
    "ax[1].scatter(class_3['warp_dens'].tolist(), class_3['weft_dens'].tolist(), marker='.', color='gray')\n",
    "\n",
    "plt.show()"
   ]
  },
  {
   "cell_type": "code",
   "execution_count": 21,
   "metadata": {},
   "outputs": [],
   "source": [
    "persent_two = class_2.query('warp_dens >= 12 and warp_dens < 25 and weft_dens >= 9 and weft_dens < 15')"
   ]
  },
  {
   "cell_type": "code",
   "execution_count": 22,
   "metadata": {},
   "outputs": [
    {
     "name": "stdout",
     "output_type": "stream",
     "text": [
      "106\n"
     ]
    }
   ],
   "source": [
    "print(len(persent_two))"
   ]
  },
  {
   "cell_type": "code",
   "execution_count": 23,
   "metadata": {},
   "outputs": [
    {
     "name": "stdout",
     "output_type": "stream",
     "text": [
      "\n",
      "Класс 0:\n",
      "всего элементов - 4\n",
      "среднее значение плотности по основе - 28.75\n",
      "минимальное значение плотности по основе - 26.0\n",
      "максимальное значение плотности по основе - 36.0\n",
      "среднее значение плотности по утку - 15.5\n",
      "минимальное значение плотнсти по утку - 15.0\n",
      "максимальное значение плотности по утку - 16.0\n",
      "=========================\n",
      "\n",
      "Класс 1:\n",
      "всего элементов - 174\n",
      "среднее значение плотности по основе - 22.64\n",
      "минимальное значение плотности по основе - 12.0\n",
      "максимальное значение плотности по основе - 36.0\n",
      "среднее значение плотности по утку - 10.9\n",
      "минимальное значение плотнсти по утку - 9.0\n",
      "максимальное значение плотности по утку - 16.0\n",
      "=========================\n",
      "\n",
      "Класс 2:\n",
      "всего элементов - 95\n",
      "среднее значение плотности по основе - 15.05\n",
      "минимальное значение плотности по основе - 8.0\n",
      "максимальное значение плотности по основе - 34.0\n",
      "среднее значение плотности по утку - 7.31\n",
      "минимальное значение плотнсти по утку - 4.0\n",
      "максимальное значение плотности по утку - 10.0\n",
      "=========================\n"
     ]
    }
   ],
   "source": [
    "for number, class_item in enumerate([class_1, class_2, class_3]):\n",
    "    print()\n",
    "    print(\"Класс \" + str(number) + \":\")\n",
    "    print(\"всего элементов - \" + str(len(class_item)))\n",
    "    print(\"среднее значение плотности по основе - \" + str(round(class_item.warp_dens.mean(), 2)))\n",
    "    print(\"минимальное значение плотности по основе - \" + str(round(class_item.warp_dens.min(), 2)))\n",
    "    print(\"максимальное значение плотности по основе - \" + str(round(class_item.warp_dens.max(), 2)))\n",
    "    print(\"среднее значение плотности по утку - \" + str(round(class_item.weft_dens.mean(), 2)))\n",
    "    print(\"минимальное значение плотнсти по утку - \" + str(round(class_item.weft_dens.min(), 2)))\n",
    "    print(\"максимальное значение плотности по утку - \" + str(round(class_item.weft_dens.max(), 2)))\n",
    "    print(\"=========================\")"
   ]
  },
  {
   "cell_type": "code",
   "execution_count": 24,
   "metadata": {},
   "outputs": [],
   "source": [
    "features = ['warp_dens', 'weft_dens', 'warp_nominal', 'weft_nominal', 'classes']"
   ]
  },
  {
   "cell_type": "code",
   "execution_count": 25,
   "metadata": {},
   "outputs": [],
   "source": [
    "class_1 = class_1[features]\n",
    "class_2 = class_2[features]\n",
    "class_3 = class_3[features]"
   ]
  },
  {
   "cell_type": "code",
   "execution_count": 27,
   "metadata": {},
   "outputs": [],
   "source": [
    "class_1.to_csv('../output/classification/class_1.csv')\n",
    "# class_1.to_excel('../output/classification/class_1.xls')\n",
    "\n",
    "class_2.to_csv('../output/classification/class_2.csv')\n",
    "# class_2.to_excel('../output/classification/class_2.xls')\n",
    "\n",
    "class_3.to_csv('../output/classification/class_3.csv')\n",
    "# class_3.to_excel('../output/classification/class_3.xls')"
   ]
  },
  {
   "cell_type": "code",
   "execution_count": null,
   "metadata": {},
   "outputs": [],
   "source": []
  }
 ],
 "metadata": {
  "kernelspec": {
   "display_name": "Python 3",
   "language": "python",
   "name": "python3"
  },
  "language_info": {
   "codemirror_mode": {
    "name": "ipython",
    "version": 3
   },
   "file_extension": ".py",
   "mimetype": "text/x-python",
   "name": "python",
   "nbconvert_exporter": "python",
   "pygments_lexer": "ipython3",
   "version": "3.7.6"
  }
 },
 "nbformat": 4,
 "nbformat_minor": 4
}
