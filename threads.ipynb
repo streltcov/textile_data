{
 "cells": [
  {
   "cell_type": "code",
   "execution_count": 92,
   "metadata": {},
   "outputs": [],
   "source": [
    "import pandas\n",
    "# from prettytable import PrettyTable\n",
    "from matplotlib import pyplot\n",
    "from modules.dataframes import textiles\n",
    "from scipy.cluster.hierarchy import linkage, dendrogram"
   ]
  },
  {
   "cell_type": "code",
   "execution_count": 93,
   "metadata": {},
   "outputs": [
    {
     "name": "stdout",
     "output_type": "stream",
     "text": [
      "**********************************************************************\n",
      "\n",
      "Максимальное значение толщины по основе - 1.15\n",
      "Минимальное значение толщины по основе - 0.2\n",
      "Максимальное значение толщины по утку - 4.3\n",
      "Минимальное значение толщины по утку - 0.15\n",
      "\n",
      "**********************************************************************\n",
      "\n",
      "Разброс толщины по основе - 0.95\n",
      "Разброс толщины по утку - 4.15\n",
      "\n",
      "**********************************************************************\n",
      "\n",
      "Среднее значение толщины по основе - 0.47\n",
      "Среднее значение толщины по утку - 0.53\n",
      "\n",
      "**********************************************************************\n",
      "\n"
     ]
    }
   ],
   "source": [
    "\n",
    "########################################################################################################################\n",
    "\n",
    "\n",
    "print('**********************************************************************')\n",
    "print()\n",
    "print(\"Максимальное значение толщины по основе - \" + str(max(textiles['warp_nominal'])))\n",
    "print(\"Минимальное значение толщины по основе - \" + str(min(textiles['warp_nominal'])))\n",
    "print(\"Максимальное значение толщины по утку - \" + str(max(textiles['weft_nominal'])))\n",
    "print(\"Минимальное значение толщины по утку - \" + str(min(textiles['weft_nominal'])))\n",
    "print()\n",
    "print('**********************************************************************')\n",
    "\n",
    "########################################################################################################################\n",
    "\n",
    "print()\n",
    "print(\"Разброс толщины по основе - \" + str(round(max(textiles['warp_nominal'])  - min(textiles['warp_nominal']), 2)))\n",
    "print(\"Разброс толщины по утку - \" + str(round(max(textiles['weft_nominal']) - min(textiles['weft_nominal']), 2)))\n",
    "print()\n",
    "print('**********************************************************************')\n",
    "\n",
    "########################################################################################################################\n",
    "\n",
    "print()\n",
    "print(\"Среднее значение толщины по основе - \" + str(round(textiles['warp_nominal'].mean(), 2)))\n",
    "print(\"Среднее значение толщины по утку - \" + str(round(textiles['weft_nominal'].mean(), 2)))\n",
    "print()\n",
    "print(\"**********************************************************************\")\n",
    "print()\n"
   ]
  },
  {
   "cell_type": "code",
   "execution_count": 94,
   "metadata": {},
   "outputs": [],
   "source": [
    "\n",
    "########################################################################################################################\n",
    "\n",
    "# fig, ax = pyplot.subplots(figsize=(16, 8))\n",
    "# ax = pyplot.hist(textiles['warp_nominal'], color='gray', bins=20)\n",
    "\n",
    "########################################################################################################################\n"
   ]
  },
  {
   "cell_type": "code",
   "execution_count": 95,
   "metadata": {},
   "outputs": [],
   "source": [
    "\n",
    "########################################################################################################################\n",
    "\n",
    "# fig, ax = pyplot.subplots(figsize=(16, 8))\n",
    "# ax = pyplot.hist(textiles['weft_nominal'], color='gray', bins=20)\n",
    "\n",
    "########################################################################################################################\n"
   ]
  },
  {
   "cell_type": "code",
   "execution_count": 96,
   "metadata": {},
   "outputs": [],
   "source": [
    "\n",
    "########################################################################################################################\n",
    "\n",
    "# fig, ax = pyplot.subplots(figsize=(16, 8))\n",
    "# ax = pyplot.scatter(textiles['warp_nominal'], textiles['weft_nominal'], marker='d', color='green')\n",
    "\n",
    "########################################################################################################################\n"
   ]
  },
  {
   "cell_type": "code",
   "execution_count": 97,
   "metadata": {},
   "outputs": [],
   "source": [
    "# textiles.boxplot(figsize=(20, 10))"
   ]
  },
  {
   "cell_type": "code",
   "execution_count": 98,
   "metadata": {},
   "outputs": [
    {
     "name": "stdout",
     "output_type": "stream",
     "text": [
      "\n",
      "**********************************************************************\n",
      "\n",
      "Среднее значение толщины нити по основе - 0.471\n",
      "Среднее значение толщины нити по утку - 0.53\n",
      "\n",
      "**********************************************************************\n",
      "\n",
      "Минимальное значение толщины нити по основе - 0.2\n",
      "Максимальное значение толщины нити по основе - 1.15\n",
      "Разброс толщины нити по основе - 0.95\n",
      "\n",
      "**********************************************************************\n",
      "\n",
      "Минимальное значение толщины нити по утку - 0.15\n",
      "Максимальное значение толщины нити по утку - 4.3\n",
      "Разброс толщины нити по утку - 4.15\n",
      "\n",
      "**********************************************************************\n",
      "\n",
      "Мода толщины нити по основе - 0.5\n",
      "Мода толщины нити по утку - 0.45\n",
      "\n",
      "**********************************************************************\n",
      "\n"
     ]
    }
   ],
   "source": [
    "# Меры центральной тенденции и меры разброса для нитей по основе и по утку\n",
    "\n",
    "########################################################################################################################\n",
    "\n",
    "print()\n",
    "print(\"**********************************************************************\")\n",
    "print()\n",
    "print(\"Среднее значение толщины нити по основе - \" + str(round(textiles['warp_nominal'].mean(), 3)))\n",
    "print(\"Среднее значение толщины нити по утку - \" + str(round(textiles['weft_nominal'].mean(), 3)))\n",
    "print()\n",
    "print(\"**********************************************************************\")\n",
    "print()\n",
    "\n",
    "########################################################################################################################\n",
    "\n",
    "min_warp = min(textiles['warp_nominal'])\n",
    "max_warp = max(textiles['warp_nominal'])\n",
    "range_warp = max_warp - min_warp\n",
    "\n",
    "print(\"Минимальное значение толщины нити по основе - \" + str(round(min_warp, 3)))\n",
    "print(\"Максимальное значение толщины нити по основе - \" + str(round(max_warp, 3)))\n",
    "print(\"Разброс толщины нити по основе - \" + str(round(range_warp, 3)))\n",
    "print()\n",
    "print(\"**********************************************************************\")\n",
    "print()\n",
    "\n",
    "########################################################################################################################\n",
    "\n",
    "min_weft = min(textiles['weft_nominal'])\n",
    "max_weft = max(textiles['weft_nominal'])\n",
    "range_weft = max_weft - min_weft\n",
    "\n",
    "print(\"Минимальное значение толщины нити по утку - \" + str(round(min_weft, 3)))\n",
    "print(\"Максимальное значение толщины нити по утку - \" + str(round(max_weft, 3)))\n",
    "print(\"Разброс толщины нити по утку - \" + str(round(range_weft, 3)))\n",
    "\n",
    "########################################################################################################################\n",
    "\n",
    "print()\n",
    "print(\"**********************************************************************\")\n",
    "print()\n",
    "print(\"Мода толщины нити по основе - \" + str(round(textiles['warp_nominal'].mode()[0], 3)))\n",
    "print(\"Мода толщины нити по утку - \" + str(round(textiles['weft_nominal'].mode()[0], 3)))\n",
    "print()\n",
    "print(\"**********************************************************************\")\n",
    "print()\n",
    "\n",
    "########################################################################################################################\n"
   ]
  },
  {
   "cell_type": "code",
   "execution_count": 99,
   "metadata": {},
   "outputs": [
    {
     "name": "stdout",
     "output_type": "stream",
     "text": [
      "300\n",
      "296\n",
      "1\n",
      "1\n"
     ]
    }
   ],
   "source": [
    "# Распределение по направлению крутки нити;\n",
    "\n",
    "########################################################################################################################\n",
    "\n",
    "textiles_twist_warp_s = textiles[textiles['twist_warp'] == 'S']\n",
    "print(len(textiles_twist_warp_s))\n",
    "\n",
    "########################################################################################################################\n",
    "\n",
    "textiles_twist_weft_s = textiles[textiles['twist_weft'] == 'S']\n",
    "print(len(textiles_twist_weft_s))\n",
    "\n",
    "########################################################################################################################\n",
    "\n",
    "textiles_twist_warp_z = textiles[textiles['twist_warp'] == 'Z']\n",
    "print(len(textiles_twist_warp_z))\n",
    "\n",
    "########################################################################################################################\n",
    "\n",
    "textiles_twist_weft_z = textiles[textiles['twist_weft'] == 'Z']\n",
    "print(len(textiles_twist_weft_z))\n",
    "\n",
    "########################################################################################################################\n"
   ]
  },
  {
   "cell_type": "code",
   "execution_count": 100,
   "metadata": {},
   "outputs": [
    {
     "name": "stdout",
     "output_type": "stream",
     "text": [
      "     order grave  add    z  internal_storage  number warp_size  weft_size  \\\n",
      "218  170.0   196  3.0  0.0  2008-0070-003-21     NaN       140         70   \n",
      "\n",
      "       type  item_no  ... warp_thick_mean weft_a weft_b weft_mean warp_dens  \\\n",
      "218  m_band        0  ...             0,9    0.6    1.2       0,9      12.0   \n",
      "\n",
      "    weft_dens warp_nominal weft_nominal warp_weft density_coefficient  \n",
      "218       4.0          0.9          0.9       3.0                 3.0  \n",
      "\n",
      "[1 rows x 36 columns]\n"
     ]
    }
   ],
   "source": [
    "print(textiles_twist_warp_z)"
   ]
  },
  {
   "cell_type": "code",
   "execution_count": 101,
   "metadata": {},
   "outputs": [
    {
     "name": "stdout",
     "output_type": "stream",
     "text": [
      "59\n",
      "215\n",
      "29\n",
      "52\n",
      "229\n",
      "18\n"
     ]
    }
   ],
   "source": [
    "textiles_angle_warp_loose = textiles[textiles['angle_warp'] == 'loose']\n",
    "print(len(textiles_angle_warp_loose))\n",
    "\n",
    "textiles_angle_warp_medium = textiles[textiles['angle_warp'] == 'medium']\n",
    "print(len(textiles_angle_warp_medium))\n",
    "\n",
    "textiles_angle_warp_uneven = textiles[textiles['angle_warp'] == 'uneven']\n",
    "print(len(textiles_angle_warp_uneven))\n",
    "\n",
    "textiles_angle_weft_loose = textiles[textiles['angle_weft'] == 'loose']\n",
    "print(len(textiles_angle_weft_loose))\n",
    "\n",
    "textiles_angle_weft_medium = textiles[textiles['angle_weft'] == 'medium']\n",
    "print(len(textiles_angle_weft_medium))\n",
    "\n",
    "textiles_angle_weft_uneven = textiles[textiles['angle_weft'] == 'uneven']\n",
    "print(len(textiles_angle_weft_uneven))"
   ]
  },
  {
   "cell_type": "code",
   "execution_count": 102,
   "metadata": {},
   "outputs": [
    {
     "name": "stdout",
     "output_type": "stream",
     "text": [
      "Среднее значение толщины нити по основе для тканей со слабой круткой по основе - 0.498\n",
      "Среднее значение толщины нити по основе для тканей со средней круткой по основе - 0.465\n",
      "0.462\n",
      "Среднее значение толщины нити по основе для тканей со слабой круткой по утку - 0.528\n",
      "0.449\n",
      "0.553\n"
     ]
    }
   ],
   "source": [
    "# Сравнение мер центральной тенденции\n",
    "\n",
    "########################################################################################################################\n",
    "\n",
    "print(\"Среднее значение толщины нити по основе для тканей со слабой круткой по основе - \" + str(round(textiles_angle_warp_loose['warp_nominal'].mean(), 3)))\n",
    "print(\"Среднее значение толщины нити по основе для тканей со средней круткой по основе - \" + str(round(textiles_angle_warp_medium['warp_nominal'].mean(), 3)))\n",
    "print(\"\" + str(round(textiles_angle_warp_uneven['warp_nominal'].mean(), 3)))\n",
    "\n",
    "########################################################################################################################\n",
    "\n",
    "print(\"Среднее значение толщины нити по основе для тканей со слабой круткой по утку - \" + str(round(textiles_angle_weft_loose['warp_nominal'].mean(), 3)))\n",
    "print(\"\" + str(round(textiles_angle_weft_medium['warp_nominal'].mean(), 3)))\n",
    "print(\"\" + str(round(textiles_angle_weft_uneven['warp_nominal'].mean(), 3)))\n",
    "\n",
    "########################################################################################################################\n"
   ]
  },
  {
   "cell_type": "code",
   "execution_count": 103,
   "metadata": {},
   "outputs": [
    {
     "name": "stdout",
     "output_type": "stream",
     "text": [
      "Первый квартиль толщины по основе - 0.4\n",
      "Второй квартиль толщины по основе - 0.45\n",
      "Третий квартиль толщины по основе - 0.5\n",
      "\n",
      "*********************************************\n",
      "\n",
      "Первый квартиль толщины по утку - 0.4\n",
      "Второй квартиль толщины по утку - 0.5\n",
      "Третий квартиль толщины по утку - 0.6\n"
     ]
    }
   ],
   "source": [
    "\n",
    "# Вычисление квартилей\n",
    "\n",
    "########################################################################################################################\n",
    "\n",
    "warp_quartile_1, warp_quartile_2, warp_quartile_3 = textiles.warp_nominal.quantile([0.25, 0.5, 0.75])\n",
    "\n",
    "########################################################################################################################\n",
    "\n",
    "weft_quartile_1, weft_quartile_2, weft_quartile_3 = textiles.weft_nominal.quantile([0.25, 0.5, 0.75])\n",
    "\n",
    "########################################################################################################################\n",
    "\n",
    "print(\"Первый квартиль толщины по основе - \" + str(warp_quartile_1))\n",
    "print(\"Второй квартиль толщины по основе - \" + str(warp_quartile_2))\n",
    "print(\"Третий квартиль толщины по основе - \" + str(warp_quartile_3))\n",
    "print(\"\\n*********************************************\\n\")\n",
    "print(\"Первый квартиль толщины по утку - \" + str(weft_quartile_1))\n",
    "print(\"Второй квартиль толщины по утку - \" + str(weft_quartile_2))\n",
    "print(\"Третий квартиль толщины по утку - \" + str(weft_quartile_3))\n"
   ]
  },
  {
   "cell_type": "code",
   "execution_count": 115,
   "metadata": {},
   "outputs": [
    {
     "name": "stdout",
     "output_type": "stream",
     "text": [
      "0.325\n",
      "0.475\n"
     ]
    }
   ],
   "source": [
    "\n",
    "# Вычисление выбросов по толщине по основе (на основе межквартильного расстояния);\n",
    "\n",
    "warp_lower_border = round(warp_quartile_1 - 1.5 * (warp_quartile_3 - warp_quartile_1), 3)\n",
    "warp_upper_border = round(warp_quartile_1 + 1.5 * (warp_quartile_3 - warp_quartile_1), 3)\n",
    "\n",
    "print(\"\" + str(warp_lower_border))\n",
    "print(\"\" + str(warp_upper_border))"
   ]
  },
  {
   "cell_type": "code",
   "execution_count": 114,
   "metadata": {},
   "outputs": [
    {
     "name": "stdout",
     "output_type": "stream",
     "text": [
      "0.25\n",
      "0.55\n"
     ]
    }
   ],
   "source": [
    "\n",
    "# Вычисление выбросов по толщине по утку (на основе межквартильного расстояния);\n",
    "\n",
    "weft_lower_border = round(weft_quartile_1 - 1.5 * (weft_quartile_3 - weft_quartile_1), 3)\n",
    "weft_upper_border = round(weft_quartile_1 + 1.5 * (weft_quartile_3 - weft_quartile_1), 3)\n",
    "\n",
    "print(\"\" + str(weft_lower_border))\n",
    "print(\"\" + str(weft_upper_border))"
   ]
  },
  {
   "cell_type": "code",
   "execution_count": 117,
   "metadata": {},
   "outputs": [
    {
     "data": {
      "image/png": "[encoded data removed]",
      "text/plain": [
       "<Figure size 1080x720 with 1 Axes>"
      ]
     },
     "metadata": {
      "needs_background": "light"
     },
     "output_type": "display_data"
    }
   ],
   "source": [
    "fig = pyplot.figure(figsize=(15, 10))\n",
    "ax = fig.add_subplot()\n",
    "pyplot.grid()\n",
    "pyplot.axvline(warp_quartile_1, color='green')\n",
    "pyplot.axvline(warp_quartile_2, color='green')\n",
    "pyplot.axvline(warp_quartile_3, color='green')\n",
    "pyplot.axvline(warp_lower_border, color='red')\n",
    "pyplot.axvline(warp_upper_border, color='red')\n",
    "textiles.warp_nominal.hist(ax=ax, bins=20, color='gray')\n",
    "pyplot.show()"
   ]
  },
  {
   "cell_type": "code",
   "execution_count": 118,
   "metadata": {},
   "outputs": [
    {
     "data": {
      "image/png": "[encoded data removed]",
      "text/plain": [
       "<Figure size 1080x720 with 1 Axes>"
      ]
     },
     "metadata": {
      "needs_background": "light"
     },
     "output_type": "display_data"
    }
   ],
   "source": [
    "fig, ax = pyplot.subplots(figsize=(15, 10))\n",
    "pyplot.axvline(weft_quartile_1, color='green')\n",
    "pyplot.axvline(weft_quartile_2, color='green')\n",
    "pyplot.axvline(weft_quartile_3, color='green')\n",
    "pyplot.axvline(weft_lower_border, color='red')\n",
    "pyplot.axvline(weft_upper_border, color='red')\n",
    "textiles.weft_nominal.hist(ax=ax, bins=50, color='gray')\n",
    "pyplot.show()"
   ]
  },
  {
   "cell_type": "code",
   "execution_count": null,
   "metadata": {},
   "outputs": [],
   "source": []
  }
 ],
 "metadata": {
  "kernelspec": {
   "display_name": "Python 3",
   "language": "python",
   "name": "python3"
  },
  "language_info": {
   "codemirror_mode": {
    "name": "ipython",
    "version": 3
   },
   "file_extension": ".py",
   "mimetype": "text/x-python",
   "name": "python",
   "nbconvert_exporter": "python",
   "pygments_lexer": "ipython3",
   "version": "3.7.6"
  }
 },
 "nbformat": 4,
 "nbformat_minor": 4
}
