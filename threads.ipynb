{
 "cells": [
  {
   "cell_type": "code",
   "execution_count": 2,
   "metadata": {},
   "outputs": [],
   "source": [
    "import pandas\n",
    "from matplotlib import pyplot\n",
    "from modules.dataframes import textiles\n",
    "from scipy.cluster.hierarchy import linkage, dendrogram"
   ]
  },
  {
   "cell_type": "code",
   "execution_count": 3,
   "metadata": {},
   "outputs": [
    {
     "name": "stdout",
     "output_type": "stream",
     "text": [
      "**********************************************************************\n",
      "\n",
      "Максимальное значение толщины по основе - 1.15\n",
      "Минимальное значение толщины по основе - 0.2\n",
      "Максимальное значение толщины по утку - 4.3\n",
      "Минимальное значение толщины по утку - 0.15\n",
      "\n",
      "**********************************************************************\n",
      "\n",
      "Разброс толщины по основе - 0.95\n",
      "Разброс толщины по утку - 4.15\n",
      "\n",
      "**********************************************************************\n",
      "\n",
      "Среднее значение толщины по основе - 0.47\n",
      "Среднее значение толщины по утку - 0.53\n",
      "\n",
      "**********************************************************************\n",
      "\n"
     ]
    }
   ],
   "source": [
    "\n",
    "########################################################################################################################\n",
    "\n",
    "\n",
    "print('**********************************************************************')\n",
    "print()\n",
    "print(\"Максимальное значение толщины по основе - \" + str(max(textiles['warp_nominal'])))\n",
    "print(\"Минимальное значение толщины по основе - \" + str(min(textiles['warp_nominal'])))\n",
    "print(\"Максимальное значение толщины по утку - \" + str(max(textiles['weft_nominal'])))\n",
    "print(\"Минимальное значение толщины по утку - \" + str(min(textiles['weft_nominal'])))\n",
    "print()\n",
    "print('**********************************************************************')\n",
    "\n",
    "########################################################################################################################\n",
    "\n",
    "print()\n",
    "print(\"Разброс толщины по основе - \" + str(round(max(textiles['warp_nominal'])  - min(textiles['warp_nominal']), 2)))\n",
    "print(\"Разброс толщины по утку - \" + str(round(max(textiles['weft_nominal']) - min(textiles['weft_nominal']), 2)))\n",
    "print()\n",
    "print('**********************************************************************')\n",
    "\n",
    "########################################################################################################################\n",
    "\n",
    "print()\n",
    "print(\"Среднее значение толщины по основе - \" + str(round(textiles['warp_nominal'].mean(), 2)))\n",
    "print(\"Среднее значение толщины по утку - \" + str(round(textiles['weft_nominal'].mean(), 2)))\n",
    "print()\n",
    "print(\"**********************************************************************\")\n",
    "print()\n"
   ]
  },
  {
   "cell_type": "code",
   "execution_count": 4,
   "metadata": {},
   "outputs": [
    {
     "data": {
      "image/png": "[encoded data removed]",
      "text/plain": [
       "<Figure size 1152x576 with 1 Axes>"
      ]
     },
     "metadata": {
      "needs_background": "light"
     },
     "output_type": "display_data"
    }
   ],
   "source": [
    "\n",
    "########################################################################################################################\n",
    "\n",
    "fig, ax = pyplot.subplots(figsize=(16, 8))\n",
    "ax = pyplot.hist(textiles['warp_nominal'], color='gray', bins=20)\n",
    "\n",
    "########################################################################################################################\n"
   ]
  },
  {
   "cell_type": "code",
   "execution_count": 5,
   "metadata": {},
   "outputs": [
    {
     "data": {
      "image/png": "[encoded data removed]",
      "text/plain": [
       "<Figure size 1152x576 with 1 Axes>"
      ]
     },
     "metadata": {
      "needs_background": "light"
     },
     "output_type": "display_data"
    }
   ],
   "source": [
    "\n",
    "########################################################################################################################\n",
    "\n",
    "fig, ax = pyplot.subplots(figsize=(16, 8))\n",
    "ax = pyplot.hist(textiles['weft_nominal'], color='gray', bins=20)\n",
    "\n",
    "########################################################################################################################\n"
   ]
  },
  {
   "cell_type": "code",
   "execution_count": 6,
   "metadata": {},
   "outputs": [
    {
     "data": {
      "image/png": "[encoded data removed]",
      "text/plain": [
       "<Figure size 1152x576 with 1 Axes>"
      ]
     },
     "metadata": {
      "needs_background": "light"
     },
     "output_type": "display_data"
    }
   ],
   "source": [
    "\n",
    "########################################################################################################################\n",
    "\n",
    "fig, ax = pyplot.subplots(figsize=(16, 8))\n",
    "ax = pyplot.scatter(textiles['warp_nominal'], textiles['weft_nominal'], marker='d', color='green')\n",
    "\n",
    "########################################################################################################################\n"
   ]
  },
  {
   "cell_type": "code",
   "execution_count": 7,
   "metadata": {},
   "outputs": [
    {
     "name": "stdout",
     "output_type": "stream",
     "text": [
      "300\n",
      "296\n",
      "1\n",
      "1\n"
     ]
    }
   ],
   "source": [
    "# Распределение по направлению крутки нити;\n",
    "\n",
    "textiles_twist_warp_s = textiles[textiles['twist_warp'] == 'S']\n",
    "print(len(textiles_twist_warp_s))\n",
    "\n",
    "textiles_twist_weft_s = textiles[textiles['twist_weft'] == 'S']\n",
    "print(len(textiles_twist_weft_s))\n",
    "\n",
    "textiles_twist_warp_z = textiles[textiles['twist_warp'] == 'Z']\n",
    "print(len(textiles_twist_warp_z))\n",
    "\n",
    "textiles_twist_weft_z = textiles[textiles['twist_weft'] == 'Z']\n",
    "print(len(textiles_twist_weft_z))"
   ]
  },
  {
   "cell_type": "code",
   "execution_count": 9,
   "metadata": {},
   "outputs": [
    {
     "name": "stdout",
     "output_type": "stream",
     "text": [
      "     order grave  add    z  internal_storage  number warp_size  weft_size  \\\n",
      "218  170.0   196  3.0  0.0  2008-0070-003-21     NaN       140         70   \n",
      "\n",
      "       type  item_no  ... warp_thick_mean weft_a weft_b weft_mean warp_dens  \\\n",
      "218  m_band        0  ...             0,9    0.6    1.2       0,9      12.0   \n",
      "\n",
      "    weft_dens warp_nominal weft_nominal warp_weft density_coefficient  \n",
      "218       4.0          0.9          0.9       3.0                 3.0  \n",
      "\n",
      "[1 rows x 36 columns]\n"
     ]
    }
   ],
   "source": [
    "print(textiles_twist_warp_z)"
   ]
  },
  {
   "cell_type": "code",
   "execution_count": null,
   "metadata": {},
   "outputs": [],
   "source": [
    "textiles_angle_warp_loose = textiles[textiles['angle_warp'] == 'loose']\n",
    "print(len(textiles_angle_warp_loose))\n",
    "\n",
    "textiles_angle_warp_medium = textiles[textiles['angle_warp'] == 'medium']\n",
    "print(len(textiles_angle_warp_medium))\n",
    "\n",
    "textiles_angle_warp_uneven = textiles[textiles['angle_warp'] == 'uneven']\n",
    "print(len(textiles_angle_warp_uneven))\n",
    "\n",
    "textiles_angle_weft_loose = textiles[textiles['angle_weft'] == 'loose']\n",
    "print(len(textiles_angle_weft_loose))\n",
    "\n",
    "textiles_angle_weft_medium = textiles[textiles['angle_weft'] == 'medium']\n",
    "print(len(textiles_angle_weft_medium))\n",
    "\n",
    "textiles_angle_weft_uneven = textiles[textiles['angle_weft'] == 'uneven']\n",
    "print(len(textiles_angle_weft_uneven))"
   ]
  },
  {
   "cell_type": "code",
   "execution_count": null,
   "metadata": {},
   "outputs": [],
   "source": [
    "# Сравнение мер центральной тенденции\n",
    "\n"
   ]
  }
 ],
 "metadata": {
  "kernelspec": {
   "display_name": "Python 3",
   "language": "python",
   "name": "python3"
  },
  "language_info": {
   "codemirror_mode": {
    "name": "ipython",
    "version": 3
   },
   "file_extension": ".py",
   "mimetype": "text/x-python",
   "name": "python",
   "nbconvert_exporter": "python",
   "pygments_lexer": "ipython3",
   "version": "3.7.3"
  }
 },
 "nbformat": 4,
 "nbformat_minor": 4
}
