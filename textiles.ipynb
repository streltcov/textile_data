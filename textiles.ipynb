{
 "cells": [
  {
   "cell_type": "markdown",
   "metadata": {},
   "source": [
    "## Задачи исследования\n",
    "1. Отличаются ли пелены от бинтов по параметрам?\n",
    "2. Отличаются ли узкие, средние и широкие бинты друг от друга по параметрам?\n",
    "3. Каков процент рогожки?\n",
    "4. Какие группы тканей по качеству получаются?\n",
    "5. Различаются ли нити основы и нити утка?\n",
    "6. Какое количество (процент) тканей высокого качества имеют сбалансированное переплетение?\n",
    "7. Какое количество (процент) тканей среднего качества имеет сбалансированное переплетение?\n",
    "8. Какое количество (процент) тканей ниского качества имеет сбалансированное переплетение?\n",
    "9. Каково соотношение сбалансированных тканей и тканей с преобладанием нитей основы?\n",
    "10. Высчитать \"коэффициент заполняемости\" тканей\n",
    "11. Разделить ткани по сбалансированности (сбалансированные - ±3 нити; ткани с преобладанием нитей основы); рассчитать процент каждой группы"
   ]
  },
  {
   "cell_type": "code",
   "execution_count": 1,
   "metadata": {},
   "outputs": [],
   "source": [
    "import pandas\n",
    "import pandas_profiling\n",
    "import seaborn\n",
    "import scipy.stats as stats\n",
    "import matplotlib.pyplot as pyplot\n",
    "%matplotlib inline\n",
    "\n",
    "import modules.textiles as textile"
   ]
  },
  {
   "cell_type": "code",
   "execution_count": 2,
   "metadata": {},
   "outputs": [
    {
     "ename": "NameError",
     "evalue": "name 'warp_mean_quantile_3' is not defined",
     "output_type": "error",
     "traceback": [
      "\u001b[0;31m---------------------------------------------------------------------------\u001b[0m",
      "\u001b[0;31mNameError\u001b[0m                                 Traceback (most recent call last)",
      "\u001b[0;32m<ipython-input-2-d32cd842fb01>\u001b[0m in \u001b[0;36m<module>\u001b[0;34m\u001b[0m\n\u001b[1;32m      1\u001b[0m \u001b[0mtextiles\u001b[0m \u001b[0;34m=\u001b[0m \u001b[0mtextile\u001b[0m\u001b[0;34m.\u001b[0m\u001b[0mTextiles\u001b[0m\u001b[0;34m(\u001b[0m\u001b[0;34m'dataframe.csv'\u001b[0m\u001b[0;34m)\u001b[0m\u001b[0;34m\u001b[0m\u001b[0;34m\u001b[0m\u001b[0m\n\u001b[0;32m----> 2\u001b[0;31m \u001b[0moutliers\u001b[0m \u001b[0;34m=\u001b[0m \u001b[0mtextile\u001b[0m\u001b[0;34m.\u001b[0m\u001b[0mTextileOutliers\u001b[0m\u001b[0;34m(\u001b[0m\u001b[0mtextiles\u001b[0m\u001b[0;34m)\u001b[0m\u001b[0;34m\u001b[0m\u001b[0;34m\u001b[0m\u001b[0m\n\u001b[0m\u001b[1;32m      3\u001b[0m \u001b[0;31m# dataframe = textiles.dataframe()\u001b[0m\u001b[0;34m\u001b[0m\u001b[0;34m\u001b[0m\u001b[0;34m\u001b[0m\u001b[0m\n\u001b[1;32m      4\u001b[0m \u001b[0;31m# print(len(dataframe))\u001b[0m\u001b[0;34m\u001b[0m\u001b[0;34m\u001b[0m\u001b[0;34m\u001b[0m\u001b[0m\n\u001b[1;32m      5\u001b[0m \u001b[0;34m\u001b[0m\u001b[0m\n",
      "\u001b[0;32m~/Yandex.Disk.localized/code/python/textile_data/modules/textiles.py\u001b[0m in \u001b[0;36m__init__\u001b[0;34m(self, dataframe)\u001b[0m\n\u001b[1;32m    115\u001b[0m         \"\"\"\n\u001b[1;32m    116\u001b[0m         \u001b[0mself\u001b[0m\u001b[0;34m.\u001b[0m\u001b[0m__dataframe\u001b[0m \u001b[0;34m=\u001b[0m \u001b[0mdataframe\u001b[0m\u001b[0;34m.\u001b[0m\u001b[0mdataframe\u001b[0m\u001b[0;34m(\u001b[0m\u001b[0;34m)\u001b[0m\u001b[0;34m\u001b[0m\u001b[0;34m\u001b[0m\u001b[0m\n\u001b[0;32m--> 117\u001b[0;31m         \u001b[0mself\u001b[0m\u001b[0;34m.\u001b[0m\u001b[0m__clear\u001b[0m\u001b[0;34m(\u001b[0m\u001b[0;34m)\u001b[0m\u001b[0;34m\u001b[0m\u001b[0;34m\u001b[0m\u001b[0m\n\u001b[0m\u001b[1;32m    118\u001b[0m     \u001b[0;32mdef\u001b[0m \u001b[0m__clear\u001b[0m\u001b[0;34m(\u001b[0m\u001b[0mself\u001b[0m\u001b[0;34m)\u001b[0m\u001b[0;34m:\u001b[0m\u001b[0;34m\u001b[0m\u001b[0;34m\u001b[0m\u001b[0m\n\u001b[1;32m    119\u001b[0m         \"\"\"\n",
      "\u001b[0;32m~/Yandex.Disk.localized/code/python/textile_data/modules/textiles.py\u001b[0m in \u001b[0;36m__clear\u001b[0;34m(self)\u001b[0m\n\u001b[1;32m    120\u001b[0m         \u001b[0mDefines\u001b[0m \u001b[0mdataframe\u001b[0m \u001b[0moutliers\u001b[0m\u001b[0;34m;\u001b[0m\u001b[0;34m\u001b[0m\u001b[0;34m\u001b[0m\u001b[0m\n\u001b[1;32m    121\u001b[0m         \"\"\"\n\u001b[0;32m--> 122\u001b[0;31m         self.__cleared = self.__dataframe[self.__dataframe.warp_mean < (warp_mean_quantile_3\n\u001b[0m\u001b[1;32m    123\u001b[0m                         + 1.5 * (warp_mean_quantile_3 - warp_mean_quantile_1))]\n\u001b[1;32m    124\u001b[0m         self.__cleared = self.__cleared[self.__cleared.warp_mean > (warp_mean_quantile_1\n",
      "\u001b[0;31mNameError\u001b[0m: name 'warp_mean_quantile_3' is not defined"
     ]
    }
   ],
   "source": [
    "textiles = textile.Textiles('dataframe.csv')\n",
    "outliers = textile.TextileOutliers(textiles)\n",
    "\n",
    "# # Ткани с переплетением типа \"рогожка\";\n",
    "# baskets = dataframe[dataframe['weaving_technique'] == 'basket']\n",
    "\n",
    "# # выборка узких бинтов;\n",
    "# narrow_bands = dataframe[dataframe['type'] == 'n_band']\n",
    "\n",
    "# # выборка средних бинтов;\n",
    "# middle_bands = dataframe[dataframe['type'] == 'm_band']\n",
    "\n",
    "# # выборка широких бинтов;\n",
    "# wide_bands = dataframe[dataframe['type'] == 'w_band']"
   ]
  },
  {
   "cell_type": "code",
   "execution_count": 5,
   "metadata": {},
   "outputs": [],
   "source": [
    "# report = pandas_profiling.ProfileReport(textiles.dataframe())\n",
    "# report.get_description()"
   ]
  },
  {
   "cell_type": "markdown",
   "metadata": {},
   "source": [
    "### Описание датафрейма\n",
    "1. 'internal_storage' - номер по каталогу\n",
    "2. 'grave' - номер могилы\n",
    "3. 'warp_size' - размер изделия по основе\n",
    "4. 'weft_size' - размер изделия по утку\n",
    "5. 'type' - тип изделия\n",
    "6. 'condition' - сохранность изделия\n",
    "7. 'weaving_technique'\n",
    "8. 'warp_material' - материал нитей основы\n",
    "9. 'weft_material' - материал нитей утка\n",
    "10. 'warp_dyed' - окрашивание нитей основы\n",
    "11. 'weft_dyed' - окрашивание нитей утка\n",
    "12. 'warp_twist' -  крутка нитей основы\n",
    "13. 'weft_twist' - крутка нитей утка\n",
    "14. 'warp_angle'\n",
    "15. 'weft_angle'\n",
    "16. 'warp_a' - толщина нитей основы (нижний предел)\n",
    "17. 'warp_b' - толщина нитей основы (верхний предел)\n",
    "18. 'weft_a' - толщина нитей утка (нижний предел)\n",
    "19. 'weft_b' - толщина нитей утка (верхний предел)\n",
    "20. 'warp_dens' - плотность по основе\n",
    "21. 'weft_dens' - плотность по утку  \n",
    "* * *\n",
    "Числовые параметры - warp_size, wef_size, warp_a, warp_b, weft_a, weft_b, warp_mean, weft_mean, warp_dens, weft_dens"
   ]
  },
  {
   "cell_type": "code",
   "execution_count": 6,
   "metadata": {},
   "outputs": [
    {
     "data": {
      "text/html": [
       "<div>\n",
       "<style scoped>\n",
       "    .dataframe tbody tr th:only-of-type {\n",
       "        vertical-align: middle;\n",
       "    }\n",
       "\n",
       "    .dataframe tbody tr th {\n",
       "        vertical-align: top;\n",
       "    }\n",
       "\n",
       "    .dataframe thead th {\n",
       "        text-align: right;\n",
       "    }\n",
       "</style>\n",
       "<table border=\"1\" class=\"dataframe\">\n",
       "  <thead>\n",
       "    <tr style=\"text-align: right;\">\n",
       "      <th></th>\n",
       "      <th>grave</th>\n",
       "      <th>internal_storage</th>\n",
       "      <th>warp_size</th>\n",
       "      <th>weft_size</th>\n",
       "      <th>type</th>\n",
       "      <th>condition</th>\n",
       "      <th>weaving_technique</th>\n",
       "      <th>warp_material</th>\n",
       "      <th>weft_material</th>\n",
       "      <th>warp_dyed</th>\n",
       "      <th>...</th>\n",
       "      <th>angle_weft</th>\n",
       "      <th>warp_a</th>\n",
       "      <th>warp_b</th>\n",
       "      <th>weft_a</th>\n",
       "      <th>weft_b</th>\n",
       "      <th>warp_dens</th>\n",
       "      <th>weft_dens</th>\n",
       "      <th>warp_mean</th>\n",
       "      <th>weft_mean</th>\n",
       "      <th>density_coefficient</th>\n",
       "    </tr>\n",
       "  </thead>\n",
       "  <tbody>\n",
       "    <tr>\n",
       "      <th>0</th>\n",
       "      <td>80</td>\n",
       "      <td>2007-0075-002</td>\n",
       "      <td>100</td>\n",
       "      <td>110</td>\n",
       "      <td>fabric</td>\n",
       "      <td>fragment</td>\n",
       "      <td>tabby</td>\n",
       "      <td>linen</td>\n",
       "      <td>linen</td>\n",
       "      <td>no</td>\n",
       "      <td>...</td>\n",
       "      <td>medium</td>\n",
       "      <td>0.5</td>\n",
       "      <td>1.0</td>\n",
       "      <td>0.5</td>\n",
       "      <td>1.0</td>\n",
       "      <td>13.0</td>\n",
       "      <td>8.0</td>\n",
       "      <td>0.75</td>\n",
       "      <td>0.75</td>\n",
       "      <td>1.62</td>\n",
       "    </tr>\n",
       "    <tr>\n",
       "      <th>1</th>\n",
       "      <td>80</td>\n",
       "      <td>2007-0075-003</td>\n",
       "      <td>290</td>\n",
       "      <td>40</td>\n",
       "      <td>n_band</td>\n",
       "      <td>fragment</td>\n",
       "      <td>tabby</td>\n",
       "      <td>linen</td>\n",
       "      <td>linen</td>\n",
       "      <td>no</td>\n",
       "      <td>...</td>\n",
       "      <td>medium</td>\n",
       "      <td>0.3</td>\n",
       "      <td>0.5</td>\n",
       "      <td>0.6</td>\n",
       "      <td>0.8</td>\n",
       "      <td>16.0</td>\n",
       "      <td>10.0</td>\n",
       "      <td>0.40</td>\n",
       "      <td>0.70</td>\n",
       "      <td>1.60</td>\n",
       "    </tr>\n",
       "    <tr>\n",
       "      <th>2</th>\n",
       "      <td>86</td>\n",
       "      <td>2007-0056-003</td>\n",
       "      <td>140</td>\n",
       "      <td>90</td>\n",
       "      <td>fabric</td>\n",
       "      <td>fragment</td>\n",
       "      <td>tabby</td>\n",
       "      <td>linen</td>\n",
       "      <td>linen</td>\n",
       "      <td>no</td>\n",
       "      <td>...</td>\n",
       "      <td>-</td>\n",
       "      <td>0.5</td>\n",
       "      <td>0.5</td>\n",
       "      <td>0.1</td>\n",
       "      <td>0.2</td>\n",
       "      <td>18.0</td>\n",
       "      <td>6.0</td>\n",
       "      <td>0.50</td>\n",
       "      <td>0.15</td>\n",
       "      <td>3.00</td>\n",
       "    </tr>\n",
       "    <tr>\n",
       "      <th>3</th>\n",
       "      <td>86</td>\n",
       "      <td>2007-0056-004</td>\n",
       "      <td>300</td>\n",
       "      <td>20</td>\n",
       "      <td>n_band</td>\n",
       "      <td>fragment</td>\n",
       "      <td>tabby</td>\n",
       "      <td>linen</td>\n",
       "      <td>linen</td>\n",
       "      <td>no</td>\n",
       "      <td>...</td>\n",
       "      <td>medium</td>\n",
       "      <td>0.2</td>\n",
       "      <td>0.5</td>\n",
       "      <td>0.2</td>\n",
       "      <td>0.6</td>\n",
       "      <td>30.0</td>\n",
       "      <td>9.0</td>\n",
       "      <td>0.35</td>\n",
       "      <td>0.40</td>\n",
       "      <td>3.33</td>\n",
       "    </tr>\n",
       "    <tr>\n",
       "      <th>4</th>\n",
       "      <td>87</td>\n",
       "      <td>2007-0059-001</td>\n",
       "      <td>420</td>\n",
       "      <td>20</td>\n",
       "      <td>n_band</td>\n",
       "      <td>fragment</td>\n",
       "      <td>tabby</td>\n",
       "      <td>linen</td>\n",
       "      <td>linen</td>\n",
       "      <td>no</td>\n",
       "      <td>...</td>\n",
       "      <td>medium</td>\n",
       "      <td>0.4</td>\n",
       "      <td>0.6</td>\n",
       "      <td>0.5</td>\n",
       "      <td>0.6</td>\n",
       "      <td>24.0</td>\n",
       "      <td>10.0</td>\n",
       "      <td>0.50</td>\n",
       "      <td>0.55</td>\n",
       "      <td>2.40</td>\n",
       "    </tr>\n",
       "  </tbody>\n",
       "</table>\n",
       "<p>5 rows × 24 columns</p>\n",
       "</div>"
      ],
      "text/plain": [
       "  grave internal_storage warp_size  weft_size    type condition  \\\n",
       "0    80    2007-0075-002       100        110  fabric  fragment   \n",
       "1    80    2007-0075-003       290         40  n_band  fragment   \n",
       "2    86    2007-0056-003       140         90  fabric  fragment   \n",
       "3    86    2007-0056-004       300         20  n_band  fragment   \n",
       "4    87    2007-0059-001       420         20  n_band  fragment   \n",
       "\n",
       "  weaving_technique warp_material weft_material warp_dyed  \\\n",
       "0             tabby         linen         linen        no   \n",
       "1             tabby         linen         linen        no   \n",
       "2             tabby         linen         linen        no   \n",
       "3             tabby         linen         linen        no   \n",
       "4             tabby         linen         linen        no   \n",
       "\n",
       "          ...          angle_weft warp_a warp_b weft_a weft_b  warp_dens  \\\n",
       "0         ...              medium    0.5    1.0    0.5    1.0       13.0   \n",
       "1         ...              medium    0.3    0.5    0.6    0.8       16.0   \n",
       "2         ...                   -    0.5    0.5    0.1    0.2       18.0   \n",
       "3         ...              medium    0.2    0.5    0.2    0.6       30.0   \n",
       "4         ...              medium    0.4    0.6    0.5    0.6       24.0   \n",
       "\n",
       "   weft_dens  warp_mean  weft_mean  density_coefficient  \n",
       "0        8.0       0.75       0.75                 1.62  \n",
       "1       10.0       0.40       0.70                 1.60  \n",
       "2        6.0       0.50       0.15                 3.00  \n",
       "3        9.0       0.35       0.40                 3.33  \n",
       "4       10.0       0.50       0.55                 2.40  \n",
       "\n",
       "[5 rows x 24 columns]"
      ]
     },
     "execution_count": 6,
     "metadata": {},
     "output_type": "execute_result"
    }
   ],
   "source": [
    "dataframe = textiles.dataframe()\n",
    "dataframe.head()"
   ]
  },
  {
   "cell_type": "code",
   "execution_count": 7,
   "metadata": {},
   "outputs": [
    {
     "name": "stdout",
     "output_type": "stream",
     "text": [
      "Корреляция плотностей по основе и по утку\n",
      "           warp_dens  weft_dens\n",
      "warp_dens   1.000000   0.563466\n",
      "weft_dens   0.563466   1.000000\n",
      "\n",
      "Корреляция толщин нитей по основе и по утку\n",
      "           warp_mean  weft_mean\n",
      "warp_mean   1.000000   0.671606\n",
      "weft_mean   0.671606   1.000000\n"
     ]
    }
   ],
   "source": [
    "densities = dataframe[['warp_dens', 'weft_dens']]\n",
    "densities_correlation = densities.corr(method='spearman')\n",
    "\n",
    "thick = dataframe[['warp_mean', 'weft_mean']]\n",
    "thick_corr = thick.corr(method='spearman')\n",
    "\n",
    "print('Корреляция плотностей по основе и по утку')\n",
    "print(densities_correlation)\n",
    "print()\n",
    "print('Корреляция толщин нитей по основе и по утку')\n",
    "print(thick_corr)"
   ]
  },
  {
   "cell_type": "markdown",
   "metadata": {},
   "source": [
    "### #1 Отличаются ли пелены от бинтов по параметрам?"
   ]
  },
  {
   "cell_type": "code",
   "execution_count": 31,
   "metadata": {},
   "outputs": [
    {
     "name": "stdout",
     "output_type": "stream",
     "text": [
      "25\n",
      "194\n"
     ]
    }
   ],
   "source": [
    "shrouds = dataframe[dataframe['type'] == 'funeral_shroud']\n",
    "print(len(shrouds))\n",
    "bands = dataframe.loc[dataframe['type'].isin(['n_band', 'm_band', 'w_band'])]\n",
    "print(len(bands))"
   ]
  },
  {
   "cell_type": "markdown",
   "metadata": {},
   "source": [
    "### #2 Отличаются ли узкие, средние и широкие бинты друг от друга по параметрам?"
   ]
  },
  {
   "cell_type": "code",
   "execution_count": 11,
   "metadata": {},
   "outputs": [],
   "source": [
    "narrow_bands = dataframe[dataframe.type == 'n_band']\n",
    "middle_bands = dataframe[dataframe.type == 'm_band']\n",
    "wide_bands = dataframe[dataframe.type == 'w_band']"
   ]
  },
  {
   "cell_type": "markdown",
   "metadata": {},
   "source": [
    "### #5 Различаются ли нити основы и нити утка?"
   ]
  },
  {
   "cell_type": "code",
   "execution_count": null,
   "metadata": {},
   "outputs": [],
   "source": []
  },
  {
   "cell_type": "markdown",
   "metadata": {},
   "source": [
    "### #11 Разделить ткани по сбалансированности (сбалансированные - ±3 нити; ткани с преобладанием нитей основы); рассчитать процент каждой группы"
   ]
  },
  {
   "cell_type": "code",
   "execution_count": 8,
   "metadata": {},
   "outputs": [
    {
     "name": "stdout",
     "output_type": "stream",
     "text": [
      "Сбалансированных тканей - 47\n",
      "Несбалансированных тканей - 256\n"
     ]
    }
   ],
   "source": [
    "balanced = textiles.balanced()\n",
    "unbalanced = textiles.unbalanced()\n",
    "print('Сбалансированных тканей - ' + str(len(balanced)))\n",
    "print('Несбалансированных тканей - ' + str(len(unbalanced)))"
   ]
  },
  {
   "cell_type": "code",
   "execution_count": null,
   "metadata": {},
   "outputs": [],
   "source": []
  }
 ],
 "metadata": {
  "kernelspec": {
   "display_name": "Python 3",
   "language": "python",
   "name": "python3"
  },
  "language_info": {
   "codemirror_mode": {
    "name": "ipython",
    "version": 3
   },
   "file_extension": ".py",
   "mimetype": "text/x-python",
   "name": "python",
   "nbconvert_exporter": "python",
   "pygments_lexer": "ipython3",
   "version": "3.7.1"
  }
 },
 "nbformat": 4,
 "nbformat_minor": 2
}
