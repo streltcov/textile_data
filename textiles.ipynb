{
 "cells": [
  {
   "cell_type": "markdown",
   "metadata": {},
   "source": [
    "## Задачи исследования\n",
    "1. Отличаются ли пелены от бинтов по параметрам?\n",
    "2. Отличаются ли узкие, средние и широкие бинты друг от друга по параметрам?\n",
    "3. Каков процент рогожки?\n",
    "4. Какие группы тканей по качеству получаются?\n",
    "5. Различаются ли нити основы и нити утка?\n",
    "6. Какое количество (процент) тканей высокого качества имеют сбалансированное переплетение?\n",
    "7. Какое количество (процент) тканей среднего качества имеет сбалансированное переплетение?\n",
    "8. Какое количество (процент) тканей ниского качества имеет сбалансированное переплетение?\n",
    "9. Каково соотношение сбалансированных тканей и тканей с преобладанием нитей основы?\n",
    "10. Высчитать \"коэффициент заполняемости\" тканей\n",
    "11. Разделить ткани по сбалансированности (сбалансированные - ±3 нити; ткани с преобладанием нитей основы); рассчитать процент каждой группы"
   ]
  },
  {
   "cell_type": "code",
   "execution_count": 1,
   "metadata": {},
   "outputs": [],
   "source": [
    "import pandas\n",
    "import pandas_profiling\n",
    "import seaborn\n",
    "import scipy.stats as stats\n",
    "import matplotlib.pyplot as pyplot\n",
    "%matplotlib inline\n",
    "\n",
    "import modules.textiles as textile"
   ]
  },
  {
   "cell_type": "code",
   "execution_count": 2,
   "metadata": {},
   "outputs": [],
   "source": [
    "textiles = textile.Textiles('dataframe.csv')\n",
    "# outliers = textile.TextileOutliers(textiles)\n",
    "# dataframe = textiles.dataframe()\n",
    "# print(len(dataframe))\n",
    "\n",
    "# # Ткани с переплетением типа \"рогожка\";\n",
    "# baskets = dataframe[dataframe['weaving_technique'] == 'basket']\n",
    "\n",
    "# # выборка узких бинтов;\n",
    "# narrow_bands = dataframe[dataframe['type'] == 'n_band']\n",
    "\n",
    "# # выборка средних бинтов;\n",
    "# middle_bands = dataframe[dataframe['type'] == 'm_band']\n",
    "\n",
    "# # выборка широких бинтов;\n",
    "# wide_bands = dataframe[dataframe['type'] == 'w_band']"
   ]
  },
  {
   "cell_type": "code",
   "execution_count": 5,
   "metadata": {},
   "outputs": [],
   "source": [
    "# report = pandas_profiling.ProfileReport(textiles.dataframe())\n",
    "# report.get_description()"
   ]
  },
  {
   "cell_type": "markdown",
   "metadata": {},
   "source": [
    "### Описание датафрейма\n",
    "1. 'internal_storage' - номер по каталогу\n",
    "2. 'grave' - номер могилы\n",
    "3. 'warp_size' - размер изделия по основе\n",
    "4. 'weft_size' - размер изделия по утку\n",
    "5. 'type' - тип изделия\n",
    "6. 'condition' - сохранность изделия\n",
    "7. 'weaving_technique'\n",
    "8. 'warp_material' - материал нитей основы\n",
    "9. 'weft_material' - материал нитей утка\n",
    "10. 'warp_dyed' - окрашивание нитей основы\n",
    "11. 'weft_dyed' - окрашивание нитей утка\n",
    "12. 'warp_twist' -  крутка нитей основы\n",
    "13. 'weft_twist' - крутка нитей утка\n",
    "14. 'warp_angle'\n",
    "15. 'weft_angle'\n",
    "16. 'warp_a' - толщина нитей основы (нижний предел)\n",
    "17. 'warp_b' - толщина нитей основы (верхний предел)\n",
    "18. 'weft_a' - толщина нитей утка (нижний предел)\n",
    "19. 'weft_b' - толщина нитей утка (верхний предел)\n",
    "20. 'warp_dens' - плотность по основе\n",
    "21. 'weft_dens' - плотность по утку  \n",
    "* * *\n",
    "Числовые параметры - warp_size, wef_size, warp_a, warp_b, weft_a, weft_b, warp_mean, weft_mean, warp_dens, weft_dens"
   ]
  },
  {
   "cell_type": "code",
   "execution_count": 23,
   "metadata": {},
   "outputs": [
    {
     "name": "stdout",
     "output_type": "stream",
     "text": [
      "           warp_dens  weft_dens\n",
      "warp_dens   1.000000   0.531992\n",
      "weft_dens   0.531992   1.000000\n"
     ]
    }
   ],
   "source": [
    "dataframe = textiles.dataframe()\n",
    "# dataframe.head()\n",
    "densities = dataframe[['warp_dens', 'weft_dens']]\n",
    "densities_correlation = densities.corr()\n",
    "print(densities_correlation)"
   ]
  },
  {
   "cell_type": "code",
   "execution_count": 26,
   "metadata": {},
   "outputs": [
    {
     "name": "stdout",
     "output_type": "stream",
     "text": [
      "Сбалансированных тканей - 47\n",
      "Несбалансированных тканей - 256\n"
     ]
    }
   ],
   "source": [
    "balanced = textiles.balanced()\n",
    "unbalanced = textiles.unbalanced()\n",
    "print('Сбалансированных тканей - ' + str(len(balanced)))\n",
    "print('Несбалансированных тканей - ' + str(len(unbalanced)))"
   ]
  },
  {
   "cell_type": "code",
   "execution_count": null,
   "metadata": {},
   "outputs": [],
   "source": []
  }
 ],
 "metadata": {
  "kernelspec": {
   "display_name": "Python 3",
   "language": "python",
   "name": "python3"
  },
  "language_info": {
   "codemirror_mode": {
    "name": "ipython",
    "version": 3
   },
   "file_extension": ".py",
   "mimetype": "text/x-python",
   "name": "python",
   "nbconvert_exporter": "python",
   "pygments_lexer": "ipython3",
   "version": "3.7.1"
  }
 },
 "nbformat": 4,
 "nbformat_minor": 2
}
