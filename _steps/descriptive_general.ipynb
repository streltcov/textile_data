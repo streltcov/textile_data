{
 "cells": [
  {
   "cell_type": "code",
   "execution_count": 134,
   "metadata": {
    "collapsed": true
   },
   "outputs": [],
   "source": [
    "import pandas\n",
    "import matplotlib\n",
    "%matplotlib inline"
   ]
  },
  {
   "cell_type": "code",
   "execution_count": 136,
   "metadata": {},
   "outputs": [],
   "source": [
    "dataFrame = pandas.read_csv('./dataframe.csv')\n",
    "dataFrame = pandas.DataFrame(dataFrame[\n",
    "    ['grave', 'internal_storage', 'size_warp', 'size_weft', 'type', 'condition', 'weaving_technique',\n",
    "     'warp_material', 'weft_material', 'warp_dyed', 'weft_dyed', 'twist_warp', 'twist_weft', 'angle_warp', 'angle_weft',\n",
    "     'warp_a', 'warp_b', 'weft_a', 'weft_b', 'warp_dens', 'weft_dens']\n",
    "])\n",
    "\n",
    "\n",
    "# Приводит тип колонки в csv файле к типу float в DataFrame;\n",
    "def convert_to_float(value):\n",
    "    value = str(value)\n",
    "    value = value.replace(\",\", \".\")\n",
    "    value = round(float(value), 2)\n",
    "    return value\n",
    "    \n",
    "    \n",
    "# явно приводим типы столбцов таблицы;\n",
    "dataFrame['warp_a'] = dataFrame.warp_a.apply(convert_to_float)\n",
    "dataFrame['warp_b'] = dataFrame.warp_b.apply(convert_to_float)\n",
    "dataFrame['weft_a'] = dataFrame.weft_a.apply(convert_to_float)\n",
    "dataFrame['weft_b'] = dataFrame.weft_b.apply(convert_to_float)\n",
    "\n",
    "# рассчет средних занчений толщин нитей по основе и по утку;\n",
    "# получаемые значения округляются до 2 знаков после запятой;\n",
    "dataFrame['warp_mean'] = round((dataFrame['warp_a'] + dataFrame['warp_b']) / 2, 2)\n",
    "dataFrame['weft_mean'] = round((dataFrame['weft_a'] + dataFrame['weft_b']) / 2, 2)\n",
    "\n",
    "# \"Коэффициент плотности\" - соотношение плотности по основе к плотности по утку;\n",
    "dataFrame['density_coefficient'] = round(dataFrame['warp_dens'] / dataFrame['weft_dens'], 2)\n",
    "#print(dataFrame)"
   ]
  },
  {
   "cell_type": "code",
   "execution_count": 137,
   "metadata": {},
   "outputs": [],
   "source": [
    "# Выборка сбалансированных тканей;\n",
    "balanced = dataFrame[abs(dataFrame['warp_dens'] - dataFrame['weft_dens']) <= 4]\n",
    "unbalanced = dataFrame[abs(dataFrame['warp_dens'] - dataFrame['weft_dens']) > 4]\n",
    "#print(balanced)"
   ]
  },
  {
   "cell_type": "code",
   "execution_count": null,
   "metadata": {},
   "outputs": [],
   "source": [
    "dataFrame.to_csv('results/finalFrame.csv')\n",
    "balanced.to_csv('results/balanced.csv')\n",
    "unbalanced.to_csv('results/unbalanced.csv')"
   ]
  }
 ],
 "metadata": {
  "kernelspec": {
   "display_name": "Python 2",
   "language": "python",
   "name": "python2"
  },
  "language_info": {
   "codemirror_mode": {
    "name": "ipython",
    "version": 2
   },
   "file_extension": ".py",
   "mimetype": "text/x-python",
   "name": "python",
   "nbconvert_exporter": "python",
   "pygments_lexer": "ipython2",
   "version": "2.7.6"
  }
 },
 "nbformat": 4,
 "nbformat_minor": 0
}
